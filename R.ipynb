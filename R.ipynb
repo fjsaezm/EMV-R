{
 "cells": [
  {
   "cell_type": "markdown",
   "metadata": {},
   "source": [
    "## Dependencias\n",
    "Instalar paquetes (completar)."
   ]
  },
  {
   "cell_type": "code",
   "execution_count": 1,
   "metadata": {},
   "outputs": [
    {
     "name": "stderr",
     "output_type": "stream",
     "text": [
      "Updating HTML index of packages in '.Library'\n",
      "\n",
      "Making 'packages.html' ...\n",
      " done\n",
      "\n",
      "Updating HTML index of packages in '.Library'\n",
      "\n",
      "Making 'packages.html' ...\n",
      " done\n",
      "\n",
      "Updating HTML index of packages in '.Library'\n",
      "\n",
      "Making 'packages.html' ...\n",
      " done\n",
      "\n",
      "Updating HTML index of packages in '.Library'\n",
      "\n",
      "Making 'packages.html' ...\n",
      " done\n",
      "\n"
     ]
    }
   ],
   "source": [
    "install.packages(\"MVA\")\n",
    "install.packages(\"HSAUR2\")\n",
    "install.packages(\"car\")\n",
    "install.packages(\"MASS\")"
   ]
  },
  {
   "cell_type": "code",
   "execution_count": 2,
   "metadata": {},
   "outputs": [
    {
     "name": "stderr",
     "output_type": "stream",
     "text": [
      "Loading required package: HSAUR2\n",
      "\n",
      "Loading required package: tools\n",
      "\n",
      "Loading required package: carData\n",
      "\n"
     ]
    }
   ],
   "source": [
    "library(\"MVA\")\n",
    "library(\"HSAUR2\")\n",
    "library(\"car\")\n",
    "library(\"MASS\")"
   ]
  },
  {
   "cell_type": "markdown",
   "metadata": {},
   "source": [
    "# Introducción\n",
    "\n",
    "## Qué es R\n",
    "\n",
    "R es un entorno y lenguaje de programación enfocados a la computación estadística y de gráficos. Surge como una reimplementación libre del lenguaje y entorno S. Fue creado en 1993 por Ross Ihaka y Robert Gengleman en el de partamento de estadística de la universidad de Auckland, Nueva Zelanda. \n",
    "\n",
    "Actualmente está desarrollado por el R Development Core Team. Existe también una activa comunidad que contribuye mediante el reporte de fallos y creación de nuevas funcionalidades.\n",
    "\n",
    "Su código fuente está escrito principalmente en C, Fortran y el mismo R, y está disponible como software libre bajo los términos de la GNU General Public License de la Free Software Foundation. Puede ser compilado y ejecutado en una gran cantidad de plataformas UNIX, Windows y MacOs.\n",
    "\n",
    "En este trabajo trataremos de abordar algunas de las funcionalidades básicas que nos ofrece R orientadas a la estadística multivariante. \n"
   ]
  },
  {
   "cell_type": "markdown",
   "metadata": {},
   "source": [
    "# Extensiones y paquetes\n",
    "**R** forma parte de un proyecto colaborativo y abierto donde sus propios usuarios pueden publicar paquetes que extienden su funcionalidad básica.\n",
    "\n",
    "Para facilitar el desarrollo de nuevos paquetes, se ha puesto a servicio de la comunidad una forja de desarrollo, conocida como **R-Forge**, que facilita las tareas relativas a dicho proceso. Esto es, en definitiva, una plataforma central basada en **FusionForge** para el desarrollo de paquetes, de software relacionado y futuros proyectos.\n",
    "\n",
    "[A fecha de Diciembre de 2019](https://web.archive.org/web/20191210081209/http://cran.r-project.org/web/packages), el repositorio oficial de paquetes de **R** tiene disponibles 15315 paquetes, los cuales han sido organizados en varias vistas, o temas, que permiten agruparlos según su naturaleza o función. Algunos vistas serían:\n",
    "\n",
    "+ Bayesian : Vista dedicada a la Inferencia Bayesiana en la que podemos encontrar paquetes para ajustes generalizados de modelos, modelos o métodos específicos, aprender Estadística Bayesiana o que enlazan con motores de muestreo.\n",
    "\n",
    "+ ChemPhys : En esta vista nos centramos en la Quimiometría y la Física Computacional. Estas disciplinas se ocupan del análisis de los datos que surgen en experimentos de química y física, así como la simulación de los sistemas fisicoquímicos.\n",
    "\n",
    "+ ClinicalTrials : Vista dedicada al diseño, monitorización y análisis de Ensayos Clínicos.\n",
    "\n",
    "+ Cluster : Aquí se centran en el Análisis de Clusters y Modelos de Mezcla Finita.\n",
    "\n",
    "+ Databases : Paquetes relacionados con la accesibilidad a diferentes bases de datos, sin incluir la importación/exportación de datos o su control.\n",
    "\n",
    "+ DifferentialEquations : Paquetes dedicados al análisis y resolución de Ecuaciones Diferenciales.\n",
    "\n",
    "+ Distribution : Para las distribuciones clásicas, base R implementa algunas funcionalidades básicas. Estos paquetes están dedicados a aumentar la cantidad de funcionalidades disponibles para el análisis de dichas distribuciones, en particular para las distribuciones multivariantes.\n",
    "\n",
    "+ Genetics : El enfoque de esta vista está centrada en los paquetes de R que implementan métodos y algoritmos estadísticos para el análisis de datos genéticos y para el estudio de la genética de poblaciones motivada por los grandes avances en el campo del análisis genético de los últimos años.\n",
    "\n",
    "+ MachineLearning : Dentro de este tema, los paquetes pueden ser divididos en varios topics como pueden ser *Redes Neuronales y Deep Learning*, *Particionamiento Recursivo* o *Bosques Aleatorios*, entre otros muchos.\n",
    "\n",
    "+ Multivariate : Agrupación de paquetes dedicados a la Estadística Multivariante, siendo que algunos de ellos pueden ser encontrados en algunas otras vistas al dedicarse a varios ámbitos.\n"
   ]
  },
  {
   "cell_type": "markdown",
   "metadata": {},
   "source": [
    "# Operaciones básicas\n",
    "\n",
    "## Hola mundo"
   ]
  },
  {
   "cell_type": "markdown",
   "metadata": {},
   "source": [
    "Comenzamos viendo las funcionalidades más básicas.  Para asignar valores a varibales podemos utilizar los operadores ``<-``, ``->`` o ``=``. Para hacer comentarios se utiliza ``#``. "
   ]
  },
  {
   "cell_type": "code",
   "execution_count": 3,
   "metadata": {},
   "outputs": [
    {
     "name": "stdout",
     "output_type": "stream",
     "text": [
      "[1] \"Hola mundo\"\n"
     ]
    }
   ],
   "source": [
    "# Esto es un comentario\n",
    "miString <- \"Hola mundo\"\n",
    "print(miString)"
   ]
  },
  {
   "cell_type": "markdown",
   "metadata": {},
   "source": [
    "## Tipos\n",
    "\n",
    "Para la definición de variables R cuenta con tipos dinámicos, por lo que no es necesario especificar el tipo al declarar la variable. Las variables toman el tipo del valor que se les asigna. Existen séis tipos básicos."
   ]
  },
  {
   "cell_type": "code",
   "execution_count": 4,
   "metadata": {},
   "outputs": [
    {
     "name": "stdout",
     "output_type": "stream",
     "text": [
      "[1] \"logical\"\n",
      "[1] \"numeric\"\n",
      "[1] \"integer\"\n",
      "[1] \"complex\"\n",
      "[1] \"character\"\n",
      "[1] \"raw\"\n"
     ]
    }
   ],
   "source": [
    "v <- TRUE\n",
    "print(class(v))\n",
    "v <- 42\n",
    "print(class(v))\n",
    "v <- 2L\n",
    "print(class(v))\n",
    "v <- 4+2i\n",
    "print(class(v))\n",
    "v <- \"multivariante\"\n",
    "print(class(v))\n",
    "v <- charToRaw(\"multivariante\")\n",
    "print(class(v))"
   ]
  },
  {
   "cell_type": "markdown",
   "metadata": {},
   "source": [
    "## Estructuras de datos\n",
    "\n",
    "R implementa las siguientes estructuras de datos\n",
    "\n",
    "- Vectores. Concatenación de datos del mismo tipo. Si los datos son de distinto tipo, R realiza una transformación automática.\n",
    "- Listas. Concatenaciones de datos de diferentes tipos, generalmente identificados con un nombre.\n",
    "- Matrices. Conjunto de datos 2-dimensional rectangular con datos del mismo tipo.\n",
    "- Arrays. Conjunto de datos n-dimensional.\n",
    "- Data frames. Objetos tabulares. Cada columna puede contener datos de un tipo diferente."
   ]
  },
  {
   "cell_type": "code",
   "execution_count": 5,
   "metadata": {},
   "outputs": [
    {
     "name": "stdout",
     "output_type": "stream",
     "text": [
      "[1] \"v1\" \"v2\" \"v3\"\n",
      "[[1]]\n",
      "[1] 1 2 3\n",
      "\n",
      "[[2]]\n",
      "[1] 2+3i\n",
      "\n",
      "[[3]]\n",
      "[1] \"multivariante\"\n",
      "\n",
      "     [,1] [,2] [,3]\n",
      "[1,]    1    3    5\n",
      "[2,]    2    4    6\n",
      ", , 1\n",
      "\n",
      "     [,1]    [,2]   \n",
      "[1,] \"hola\"  \"adios\"\n",
      "[2,] \"adios\" \"hola\" \n",
      "[3,] \"hola\"  \"adios\"\n",
      "\n",
      ", , 2\n",
      "\n",
      "     [,1]    [,2]   \n",
      "[1,] \"hola\"  \"adios\"\n",
      "[2,] \"adios\" \"hola\" \n",
      "[3,] \"hola\"  \"adios\"\n",
      "\n",
      ", , 3\n",
      "\n",
      "     [,1]    [,2]   \n",
      "[1,] \"hola\"  \"adios\"\n",
      "[2,] \"adios\" \"hola\" \n",
      "[3,] \"hola\"  \"adios\"\n",
      "\n",
      "  nombre peso cantidad\n",
      "1      A    1        4\n",
      "2      B    2        5\n",
      "3      C    3        6\n"
     ]
    }
   ],
   "source": [
    "vector <- c('v1', 'v2', 'v3')\n",
    "print(vector)\n",
    "lista <- list(c(1,2,3), 2+3i, \"multivariante\")\n",
    "print(lista)\n",
    "matriz <- matrix(c(1,2,3,4,5,6), nrow = 2, ncol = 3)\n",
    "print(matriz)\n",
    "array <- array(c('hola', 'adios'), dim=c(3,2,3))\n",
    "print(array)\n",
    "marco <- data.frame(\n",
    "    nombre = c(\"A\", \"B\", \"C\"),\n",
    "    peso = c(1,2,3),\n",
    "    cantidad = c(4,5,6)\n",
    ")\n",
    "print(marco)"
   ]
  },
  {
   "cell_type": "markdown",
   "metadata": {},
   "source": [
    "## Operadores\n",
    "\n",
    "R implementa los siguientes operadores, todos válidos para vectores\n",
    "\n",
    "### Aritméticos\n",
    "\n",
    "- ``+`` Suma\n",
    "- ``-`` Resta\n",
    "- ``*`` Producto\n",
    "- ``/`` División\n",
    "- ``%%`` Módulo\n",
    "- ``%/%`` División entera\n",
    "- ``^`` Potencia\n",
    "\n",
    "### Relacionales\n",
    "\n",
    "- ``<`` Menor que\n",
    "- ``>`` Mayor que\n",
    "- ``==`` Igualdad\n",
    "- ``<=`` Menor o igual\n",
    "- ``>=`` Mayor o igual\n",
    "- ``!=`` Diferente\n",
    "\n",
    "### Lógicos\n",
    "- ``&`` AND\n",
    "- ``|`` OR\n",
    "- ``!`` NOT\n",
    "- ``&&`` AND entre los primeros elementos de los vectores\n",
    "- ``||`` OR entre los primeros elementos de los vectores\n",
    "\n",
    "### Misceláneos\n",
    "- ``->``, ``<-``, ``=``, ``->>``, ``<<-`` Asignación\n",
    "- ``:`` Crea un vector con todos los valores entre los dados\n",
    "- ``%in%`` Identifica si un elemento está en un vector\n",
    "- ``%%*%%`` Multiplica una matriz con su traspuesta"
   ]
  },
  {
   "cell_type": "markdown",
   "metadata": {},
   "source": [
    "## Estructuras de decisión\n",
    "\n",
    "R implementa las siguientes estructuras de decisión\n",
    "\n",
    "- if \n",
    "- if..else\n",
    "- switch"
   ]
  },
  {
   "cell_type": "code",
   "execution_count": 6,
   "metadata": {},
   "outputs": [
    {
     "name": "stdout",
     "output_type": "stream",
     "text": [
      "[1] \"3>2\"\n",
      "[1] \"i<5\"\n",
      "[1] \"b\"\n"
     ]
    }
   ],
   "source": [
    "if (3 > 2) {\n",
    "    print(\"3>2\")\n",
    "}\n",
    "if (2 > 3){\n",
    "    print(\"2>3\")\n",
    "}\n",
    "\n",
    "i = 4\n",
    "if(i > 5){\n",
    "    print(\"i>5\")\n",
    "} else {\n",
    "    print(\"i<5\")\n",
    "}\n",
    "\n",
    "x <- switch(2, \"a\", \"b\", \"c\")\n",
    "print(x)"
   ]
  },
  {
   "cell_type": "markdown",
   "metadata": {},
   "source": [
    "## Bucles\n",
    "\n",
    "R implementa los siguientes bucles\n",
    "\n",
    "- repeat\n",
    "- while\n",
    "- for"
   ]
  },
  {
   "cell_type": "code",
   "execution_count": 7,
   "metadata": {},
   "outputs": [
    {
     "name": "stdout",
     "output_type": "stream",
     "text": [
      "[1] 4\n",
      "[1] 5\n",
      "[1] 2 3 4 5\n"
     ]
    }
   ],
   "source": [
    "i = 0\n",
    "repeat{\n",
    "    i = i+1\n",
    "    if(i > 3){\n",
    "        break\n",
    "    }\n",
    "}\n",
    "print(i)\n",
    "\n",
    "i = 0\n",
    "while(i < 5){\n",
    "    i = i+1\n",
    "}\n",
    "print(i)\n",
    "\n",
    "v <- 1:4\n",
    "for (i in v){\n",
    "    v[i] = i+1\n",
    "}\n",
    "print(v)"
   ]
  },
  {
   "cell_type": "markdown",
   "metadata": {},
   "source": [
    "## Lectura de datos\n",
    "\n",
    "Podemos leer datos de multitud de bases de datos ofrecidas tanto en web, como que podamos tener en nuestro propio dispositivo.\n",
    "\n",
    "Existen multitud de funciones para leer los datos según el fichero de donde las queramos leer. Algunos ejemplos son:\n",
    "\n",
    "- ```read.csv``` o ```read.csv2```\n",
    "- ```read.delim``` \n",
    "- ```read.table``` \n",
    "\n",
    "Como ejemplo, vamos a usar ```read.table(fuente,separador)``` para leer una base de datos:"
   ]
  },
  {
   "cell_type": "code",
   "execution_count": 8,
   "metadata": {},
   "outputs": [],
   "source": [
    "wine <- read.table(\"http://archive.ics.uci.edu/ml/machine-learning-databases/wine/wine.data\",sep=\",\")"
   ]
  },
  {
   "cell_type": "markdown",
   "metadata": {},
   "source": [
    "La base de datos que hemos leído contiene los datos de las concentraciones de 13 tipos de productos químicos en vinos fabricados en la misma región de *Italia*. El primer elemento es solo un identificador de la fábrica que puede tomar dos valores: 1 ó 3. Es por ello que podemos considerar que vamos a trabajar con un vector aleatorio $X = (X_2, \\dots, X_{14})$\n",
    "\n",
    "Podemos ver el contenido de esta base de datos escribiendo el nombre de la variable en la que la hemos guardado:"
   ]
  },
  {
   "cell_type": "code",
   "execution_count": 9,
   "metadata": {},
   "outputs": [
    {
     "data": {
      "text/html": [
       "<table>\n",
       "<caption>A data.frame: 178 × 14</caption>\n",
       "<thead>\n",
       "\t<tr><th scope=col>V1</th><th scope=col>V2</th><th scope=col>V3</th><th scope=col>V4</th><th scope=col>V5</th><th scope=col>V6</th><th scope=col>V7</th><th scope=col>V8</th><th scope=col>V9</th><th scope=col>V10</th><th scope=col>V11</th><th scope=col>V12</th><th scope=col>V13</th><th scope=col>V14</th></tr>\n",
       "\t<tr><th scope=col>&lt;int&gt;</th><th scope=col>&lt;dbl&gt;</th><th scope=col>&lt;dbl&gt;</th><th scope=col>&lt;dbl&gt;</th><th scope=col>&lt;dbl&gt;</th><th scope=col>&lt;int&gt;</th><th scope=col>&lt;dbl&gt;</th><th scope=col>&lt;dbl&gt;</th><th scope=col>&lt;dbl&gt;</th><th scope=col>&lt;dbl&gt;</th><th scope=col>&lt;dbl&gt;</th><th scope=col>&lt;dbl&gt;</th><th scope=col>&lt;dbl&gt;</th><th scope=col>&lt;int&gt;</th></tr>\n",
       "</thead>\n",
       "<tbody>\n",
       "\t<tr><td>1</td><td>14.23</td><td>1.71</td><td>2.43</td><td>15.6</td><td>127</td><td>2.80</td><td>3.06</td><td>0.28</td><td>2.29</td><td>5.64</td><td>1.04</td><td>3.92</td><td>1065</td></tr>\n",
       "\t<tr><td>1</td><td>13.20</td><td>1.78</td><td>2.14</td><td>11.2</td><td>100</td><td>2.65</td><td>2.76</td><td>0.26</td><td>1.28</td><td>4.38</td><td>1.05</td><td>3.40</td><td>1050</td></tr>\n",
       "\t<tr><td>1</td><td>13.16</td><td>2.36</td><td>2.67</td><td>18.6</td><td>101</td><td>2.80</td><td>3.24</td><td>0.30</td><td>2.81</td><td>5.68</td><td>1.03</td><td>3.17</td><td>1185</td></tr>\n",
       "\t<tr><td>1</td><td>14.37</td><td>1.95</td><td>2.50</td><td>16.8</td><td>113</td><td>3.85</td><td>3.49</td><td>0.24</td><td>2.18</td><td>7.80</td><td>0.86</td><td>3.45</td><td>1480</td></tr>\n",
       "\t<tr><td>1</td><td>13.24</td><td>2.59</td><td>2.87</td><td>21.0</td><td>118</td><td>2.80</td><td>2.69</td><td>0.39</td><td>1.82</td><td>4.32</td><td>1.04</td><td>2.93</td><td> 735</td></tr>\n",
       "\t<tr><td>1</td><td>14.20</td><td>1.76</td><td>2.45</td><td>15.2</td><td>112</td><td>3.27</td><td>3.39</td><td>0.34</td><td>1.97</td><td>6.75</td><td>1.05</td><td>2.85</td><td>1450</td></tr>\n",
       "\t<tr><td>1</td><td>14.39</td><td>1.87</td><td>2.45</td><td>14.6</td><td> 96</td><td>2.50</td><td>2.52</td><td>0.30</td><td>1.98</td><td>5.25</td><td>1.02</td><td>3.58</td><td>1290</td></tr>\n",
       "\t<tr><td>1</td><td>14.06</td><td>2.15</td><td>2.61</td><td>17.6</td><td>121</td><td>2.60</td><td>2.51</td><td>0.31</td><td>1.25</td><td>5.05</td><td>1.06</td><td>3.58</td><td>1295</td></tr>\n",
       "\t<tr><td>1</td><td>14.83</td><td>1.64</td><td>2.17</td><td>14.0</td><td> 97</td><td>2.80</td><td>2.98</td><td>0.29</td><td>1.98</td><td>5.20</td><td>1.08</td><td>2.85</td><td>1045</td></tr>\n",
       "\t<tr><td>1</td><td>13.86</td><td>1.35</td><td>2.27</td><td>16.0</td><td> 98</td><td>2.98</td><td>3.15</td><td>0.22</td><td>1.85</td><td>7.22</td><td>1.01</td><td>3.55</td><td>1045</td></tr>\n",
       "\t<tr><td>1</td><td>14.10</td><td>2.16</td><td>2.30</td><td>18.0</td><td>105</td><td>2.95</td><td>3.32</td><td>0.22</td><td>2.38</td><td>5.75</td><td>1.25</td><td>3.17</td><td>1510</td></tr>\n",
       "\t<tr><td>1</td><td>14.12</td><td>1.48</td><td>2.32</td><td>16.8</td><td> 95</td><td>2.20</td><td>2.43</td><td>0.26</td><td>1.57</td><td>5.00</td><td>1.17</td><td>2.82</td><td>1280</td></tr>\n",
       "\t<tr><td>1</td><td>13.75</td><td>1.73</td><td>2.41</td><td>16.0</td><td> 89</td><td>2.60</td><td>2.76</td><td>0.29</td><td>1.81</td><td>5.60</td><td>1.15</td><td>2.90</td><td>1320</td></tr>\n",
       "\t<tr><td>1</td><td>14.75</td><td>1.73</td><td>2.39</td><td>11.4</td><td> 91</td><td>3.10</td><td>3.69</td><td>0.43</td><td>2.81</td><td>5.40</td><td>1.25</td><td>2.73</td><td>1150</td></tr>\n",
       "\t<tr><td>1</td><td>14.38</td><td>1.87</td><td>2.38</td><td>12.0</td><td>102</td><td>3.30</td><td>3.64</td><td>0.29</td><td>2.96</td><td>7.50</td><td>1.20</td><td>3.00</td><td>1547</td></tr>\n",
       "\t<tr><td>1</td><td>13.63</td><td>1.81</td><td>2.70</td><td>17.2</td><td>112</td><td>2.85</td><td>2.91</td><td>0.30</td><td>1.46</td><td>7.30</td><td>1.28</td><td>2.88</td><td>1310</td></tr>\n",
       "\t<tr><td>1</td><td>14.30</td><td>1.92</td><td>2.72</td><td>20.0</td><td>120</td><td>2.80</td><td>3.14</td><td>0.33</td><td>1.97</td><td>6.20</td><td>1.07</td><td>2.65</td><td>1280</td></tr>\n",
       "\t<tr><td>1</td><td>13.83</td><td>1.57</td><td>2.62</td><td>20.0</td><td>115</td><td>2.95</td><td>3.40</td><td>0.40</td><td>1.72</td><td>6.60</td><td>1.13</td><td>2.57</td><td>1130</td></tr>\n",
       "\t<tr><td>1</td><td>14.19</td><td>1.59</td><td>2.48</td><td>16.5</td><td>108</td><td>3.30</td><td>3.93</td><td>0.32</td><td>1.86</td><td>8.70</td><td>1.23</td><td>2.82</td><td>1680</td></tr>\n",
       "\t<tr><td>1</td><td>13.64</td><td>3.10</td><td>2.56</td><td>15.2</td><td>116</td><td>2.70</td><td>3.03</td><td>0.17</td><td>1.66</td><td>5.10</td><td>0.96</td><td>3.36</td><td> 845</td></tr>\n",
       "\t<tr><td>1</td><td>14.06</td><td>1.63</td><td>2.28</td><td>16.0</td><td>126</td><td>3.00</td><td>3.17</td><td>0.24</td><td>2.10</td><td>5.65</td><td>1.09</td><td>3.71</td><td> 780</td></tr>\n",
       "\t<tr><td>1</td><td>12.93</td><td>3.80</td><td>2.65</td><td>18.6</td><td>102</td><td>2.41</td><td>2.41</td><td>0.25</td><td>1.98</td><td>4.50</td><td>1.03</td><td>3.52</td><td> 770</td></tr>\n",
       "\t<tr><td>1</td><td>13.71</td><td>1.86</td><td>2.36</td><td>16.6</td><td>101</td><td>2.61</td><td>2.88</td><td>0.27</td><td>1.69</td><td>3.80</td><td>1.11</td><td>4.00</td><td>1035</td></tr>\n",
       "\t<tr><td>1</td><td>12.85</td><td>1.60</td><td>2.52</td><td>17.8</td><td> 95</td><td>2.48</td><td>2.37</td><td>0.26</td><td>1.46</td><td>3.93</td><td>1.09</td><td>3.63</td><td>1015</td></tr>\n",
       "\t<tr><td>1</td><td>13.50</td><td>1.81</td><td>2.61</td><td>20.0</td><td> 96</td><td>2.53</td><td>2.61</td><td>0.28</td><td>1.66</td><td>3.52</td><td>1.12</td><td>3.82</td><td> 845</td></tr>\n",
       "\t<tr><td>1</td><td>13.05</td><td>2.05</td><td>3.22</td><td>25.0</td><td>124</td><td>2.63</td><td>2.68</td><td>0.47</td><td>1.92</td><td>3.58</td><td>1.13</td><td>3.20</td><td> 830</td></tr>\n",
       "\t<tr><td>1</td><td>13.39</td><td>1.77</td><td>2.62</td><td>16.1</td><td> 93</td><td>2.85</td><td>2.94</td><td>0.34</td><td>1.45</td><td>4.80</td><td>0.92</td><td>3.22</td><td>1195</td></tr>\n",
       "\t<tr><td>1</td><td>13.30</td><td>1.72</td><td>2.14</td><td>17.0</td><td> 94</td><td>2.40</td><td>2.19</td><td>0.27</td><td>1.35</td><td>3.95</td><td>1.02</td><td>2.77</td><td>1285</td></tr>\n",
       "\t<tr><td>1</td><td>13.87</td><td>1.90</td><td>2.80</td><td>19.4</td><td>107</td><td>2.95</td><td>2.97</td><td>0.37</td><td>1.76</td><td>4.50</td><td>1.25</td><td>3.40</td><td> 915</td></tr>\n",
       "\t<tr><td>1</td><td>14.02</td><td>1.68</td><td>2.21</td><td>16.0</td><td> 96</td><td>2.65</td><td>2.33</td><td>0.26</td><td>1.98</td><td>4.70</td><td>1.04</td><td>3.59</td><td>1035</td></tr>\n",
       "\t<tr><td>⋮</td><td>⋮</td><td>⋮</td><td>⋮</td><td>⋮</td><td>⋮</td><td>⋮</td><td>⋮</td><td>⋮</td><td>⋮</td><td>⋮</td><td>⋮</td><td>⋮</td><td>⋮</td></tr>\n",
       "\t<tr><td>3</td><td>13.32</td><td>3.24</td><td>2.38</td><td>21.5</td><td> 92</td><td>1.93</td><td>0.76</td><td>0.45</td><td>1.25</td><td> 8.420000</td><td>0.55</td><td>1.62</td><td>650</td></tr>\n",
       "\t<tr><td>3</td><td>13.08</td><td>3.90</td><td>2.36</td><td>21.5</td><td>113</td><td>1.41</td><td>1.39</td><td>0.34</td><td>1.14</td><td> 9.400000</td><td>0.57</td><td>1.33</td><td>550</td></tr>\n",
       "\t<tr><td>3</td><td>13.50</td><td>3.12</td><td>2.62</td><td>24.0</td><td>123</td><td>1.40</td><td>1.57</td><td>0.22</td><td>1.25</td><td> 8.600000</td><td>0.59</td><td>1.30</td><td>500</td></tr>\n",
       "\t<tr><td>3</td><td>12.79</td><td>2.67</td><td>2.48</td><td>22.0</td><td>112</td><td>1.48</td><td>1.36</td><td>0.24</td><td>1.26</td><td>10.800000</td><td>0.48</td><td>1.47</td><td>480</td></tr>\n",
       "\t<tr><td>3</td><td>13.11</td><td>1.90</td><td>2.75</td><td>25.5</td><td>116</td><td>2.20</td><td>1.28</td><td>0.26</td><td>1.56</td><td> 7.100000</td><td>0.61</td><td>1.33</td><td>425</td></tr>\n",
       "\t<tr><td>3</td><td>13.23</td><td>3.30</td><td>2.28</td><td>18.5</td><td> 98</td><td>1.80</td><td>0.83</td><td>0.61</td><td>1.87</td><td>10.520000</td><td>0.56</td><td>1.51</td><td>675</td></tr>\n",
       "\t<tr><td>3</td><td>12.58</td><td>1.29</td><td>2.10</td><td>20.0</td><td>103</td><td>1.48</td><td>0.58</td><td>0.53</td><td>1.40</td><td> 7.600000</td><td>0.58</td><td>1.55</td><td>640</td></tr>\n",
       "\t<tr><td>3</td><td>13.17</td><td>5.19</td><td>2.32</td><td>22.0</td><td> 93</td><td>1.74</td><td>0.63</td><td>0.61</td><td>1.55</td><td> 7.900000</td><td>0.60</td><td>1.48</td><td>725</td></tr>\n",
       "\t<tr><td>3</td><td>13.84</td><td>4.12</td><td>2.38</td><td>19.5</td><td> 89</td><td>1.80</td><td>0.83</td><td>0.48</td><td>1.56</td><td> 9.010000</td><td>0.57</td><td>1.64</td><td>480</td></tr>\n",
       "\t<tr><td>3</td><td>12.45</td><td>3.03</td><td>2.64</td><td>27.0</td><td> 97</td><td>1.90</td><td>0.58</td><td>0.63</td><td>1.14</td><td> 7.500000</td><td>0.67</td><td>1.73</td><td>880</td></tr>\n",
       "\t<tr><td>3</td><td>14.34</td><td>1.68</td><td>2.70</td><td>25.0</td><td> 98</td><td>2.80</td><td>1.31</td><td>0.53</td><td>2.70</td><td>13.000000</td><td>0.57</td><td>1.96</td><td>660</td></tr>\n",
       "\t<tr><td>3</td><td>13.48</td><td>1.67</td><td>2.64</td><td>22.5</td><td> 89</td><td>2.60</td><td>1.10</td><td>0.52</td><td>2.29</td><td>11.750000</td><td>0.57</td><td>1.78</td><td>620</td></tr>\n",
       "\t<tr><td>3</td><td>12.36</td><td>3.83</td><td>2.38</td><td>21.0</td><td> 88</td><td>2.30</td><td>0.92</td><td>0.50</td><td>1.04</td><td> 7.650000</td><td>0.56</td><td>1.58</td><td>520</td></tr>\n",
       "\t<tr><td>3</td><td>13.69</td><td>3.26</td><td>2.54</td><td>20.0</td><td>107</td><td>1.83</td><td>0.56</td><td>0.50</td><td>0.80</td><td> 5.880000</td><td>0.96</td><td>1.82</td><td>680</td></tr>\n",
       "\t<tr><td>3</td><td>12.85</td><td>3.27</td><td>2.58</td><td>22.0</td><td>106</td><td>1.65</td><td>0.60</td><td>0.60</td><td>0.96</td><td> 5.580000</td><td>0.87</td><td>2.11</td><td>570</td></tr>\n",
       "\t<tr><td>3</td><td>12.96</td><td>3.45</td><td>2.35</td><td>18.5</td><td>106</td><td>1.39</td><td>0.70</td><td>0.40</td><td>0.94</td><td> 5.280000</td><td>0.68</td><td>1.75</td><td>675</td></tr>\n",
       "\t<tr><td>3</td><td>13.78</td><td>2.76</td><td>2.30</td><td>22.0</td><td> 90</td><td>1.35</td><td>0.68</td><td>0.41</td><td>1.03</td><td> 9.580000</td><td>0.70</td><td>1.68</td><td>615</td></tr>\n",
       "\t<tr><td>3</td><td>13.73</td><td>4.36</td><td>2.26</td><td>22.5</td><td> 88</td><td>1.28</td><td>0.47</td><td>0.52</td><td>1.15</td><td> 6.620000</td><td>0.78</td><td>1.75</td><td>520</td></tr>\n",
       "\t<tr><td>3</td><td>13.45</td><td>3.70</td><td>2.60</td><td>23.0</td><td>111</td><td>1.70</td><td>0.92</td><td>0.43</td><td>1.46</td><td>10.680000</td><td>0.85</td><td>1.56</td><td>695</td></tr>\n",
       "\t<tr><td>3</td><td>12.82</td><td>3.37</td><td>2.30</td><td>19.5</td><td> 88</td><td>1.48</td><td>0.66</td><td>0.40</td><td>0.97</td><td>10.260000</td><td>0.72</td><td>1.75</td><td>685</td></tr>\n",
       "\t<tr><td>3</td><td>13.58</td><td>2.58</td><td>2.69</td><td>24.5</td><td>105</td><td>1.55</td><td>0.84</td><td>0.39</td><td>1.54</td><td> 8.660000</td><td>0.74</td><td>1.80</td><td>750</td></tr>\n",
       "\t<tr><td>3</td><td>13.40</td><td>4.60</td><td>2.86</td><td>25.0</td><td>112</td><td>1.98</td><td>0.96</td><td>0.27</td><td>1.11</td><td> 8.500000</td><td>0.67</td><td>1.92</td><td>630</td></tr>\n",
       "\t<tr><td>3</td><td>12.20</td><td>3.03</td><td>2.32</td><td>19.0</td><td> 96</td><td>1.25</td><td>0.49</td><td>0.40</td><td>0.73</td><td> 5.500000</td><td>0.66</td><td>1.83</td><td>510</td></tr>\n",
       "\t<tr><td>3</td><td>12.77</td><td>2.39</td><td>2.28</td><td>19.5</td><td> 86</td><td>1.39</td><td>0.51</td><td>0.48</td><td>0.64</td><td> 9.899999</td><td>0.57</td><td>1.63</td><td>470</td></tr>\n",
       "\t<tr><td>3</td><td>14.16</td><td>2.51</td><td>2.48</td><td>20.0</td><td> 91</td><td>1.68</td><td>0.70</td><td>0.44</td><td>1.24</td><td> 9.700000</td><td>0.62</td><td>1.71</td><td>660</td></tr>\n",
       "\t<tr><td>3</td><td>13.71</td><td>5.65</td><td>2.45</td><td>20.5</td><td> 95</td><td>1.68</td><td>0.61</td><td>0.52</td><td>1.06</td><td> 7.700000</td><td>0.64</td><td>1.74</td><td>740</td></tr>\n",
       "\t<tr><td>3</td><td>13.40</td><td>3.91</td><td>2.48</td><td>23.0</td><td>102</td><td>1.80</td><td>0.75</td><td>0.43</td><td>1.41</td><td> 7.300000</td><td>0.70</td><td>1.56</td><td>750</td></tr>\n",
       "\t<tr><td>3</td><td>13.27</td><td>4.28</td><td>2.26</td><td>20.0</td><td>120</td><td>1.59</td><td>0.69</td><td>0.43</td><td>1.35</td><td>10.200000</td><td>0.59</td><td>1.56</td><td>835</td></tr>\n",
       "\t<tr><td>3</td><td>13.17</td><td>2.59</td><td>2.37</td><td>20.0</td><td>120</td><td>1.65</td><td>0.68</td><td>0.53</td><td>1.46</td><td> 9.300000</td><td>0.60</td><td>1.62</td><td>840</td></tr>\n",
       "\t<tr><td>3</td><td>14.13</td><td>4.10</td><td>2.74</td><td>24.5</td><td> 96</td><td>2.05</td><td>0.76</td><td>0.56</td><td>1.35</td><td> 9.200000</td><td>0.61</td><td>1.60</td><td>560</td></tr>\n",
       "</tbody>\n",
       "</table>\n"
      ],
      "text/latex": [
       "A data.frame: 178 × 14\n",
       "\\begin{tabular}{llllllllllllll}\n",
       " V1 & V2 & V3 & V4 & V5 & V6 & V7 & V8 & V9 & V10 & V11 & V12 & V13 & V14\\\\\n",
       " <int> & <dbl> & <dbl> & <dbl> & <dbl> & <int> & <dbl> & <dbl> & <dbl> & <dbl> & <dbl> & <dbl> & <dbl> & <int>\\\\\n",
       "\\hline\n",
       "\t 1 & 14.23 & 1.71 & 2.43 & 15.6 & 127 & 2.80 & 3.06 & 0.28 & 2.29 & 5.64 & 1.04 & 3.92 & 1065\\\\\n",
       "\t 1 & 13.20 & 1.78 & 2.14 & 11.2 & 100 & 2.65 & 2.76 & 0.26 & 1.28 & 4.38 & 1.05 & 3.40 & 1050\\\\\n",
       "\t 1 & 13.16 & 2.36 & 2.67 & 18.6 & 101 & 2.80 & 3.24 & 0.30 & 2.81 & 5.68 & 1.03 & 3.17 & 1185\\\\\n",
       "\t 1 & 14.37 & 1.95 & 2.50 & 16.8 & 113 & 3.85 & 3.49 & 0.24 & 2.18 & 7.80 & 0.86 & 3.45 & 1480\\\\\n",
       "\t 1 & 13.24 & 2.59 & 2.87 & 21.0 & 118 & 2.80 & 2.69 & 0.39 & 1.82 & 4.32 & 1.04 & 2.93 &  735\\\\\n",
       "\t 1 & 14.20 & 1.76 & 2.45 & 15.2 & 112 & 3.27 & 3.39 & 0.34 & 1.97 & 6.75 & 1.05 & 2.85 & 1450\\\\\n",
       "\t 1 & 14.39 & 1.87 & 2.45 & 14.6 &  96 & 2.50 & 2.52 & 0.30 & 1.98 & 5.25 & 1.02 & 3.58 & 1290\\\\\n",
       "\t 1 & 14.06 & 2.15 & 2.61 & 17.6 & 121 & 2.60 & 2.51 & 0.31 & 1.25 & 5.05 & 1.06 & 3.58 & 1295\\\\\n",
       "\t 1 & 14.83 & 1.64 & 2.17 & 14.0 &  97 & 2.80 & 2.98 & 0.29 & 1.98 & 5.20 & 1.08 & 2.85 & 1045\\\\\n",
       "\t 1 & 13.86 & 1.35 & 2.27 & 16.0 &  98 & 2.98 & 3.15 & 0.22 & 1.85 & 7.22 & 1.01 & 3.55 & 1045\\\\\n",
       "\t 1 & 14.10 & 2.16 & 2.30 & 18.0 & 105 & 2.95 & 3.32 & 0.22 & 2.38 & 5.75 & 1.25 & 3.17 & 1510\\\\\n",
       "\t 1 & 14.12 & 1.48 & 2.32 & 16.8 &  95 & 2.20 & 2.43 & 0.26 & 1.57 & 5.00 & 1.17 & 2.82 & 1280\\\\\n",
       "\t 1 & 13.75 & 1.73 & 2.41 & 16.0 &  89 & 2.60 & 2.76 & 0.29 & 1.81 & 5.60 & 1.15 & 2.90 & 1320\\\\\n",
       "\t 1 & 14.75 & 1.73 & 2.39 & 11.4 &  91 & 3.10 & 3.69 & 0.43 & 2.81 & 5.40 & 1.25 & 2.73 & 1150\\\\\n",
       "\t 1 & 14.38 & 1.87 & 2.38 & 12.0 & 102 & 3.30 & 3.64 & 0.29 & 2.96 & 7.50 & 1.20 & 3.00 & 1547\\\\\n",
       "\t 1 & 13.63 & 1.81 & 2.70 & 17.2 & 112 & 2.85 & 2.91 & 0.30 & 1.46 & 7.30 & 1.28 & 2.88 & 1310\\\\\n",
       "\t 1 & 14.30 & 1.92 & 2.72 & 20.0 & 120 & 2.80 & 3.14 & 0.33 & 1.97 & 6.20 & 1.07 & 2.65 & 1280\\\\\n",
       "\t 1 & 13.83 & 1.57 & 2.62 & 20.0 & 115 & 2.95 & 3.40 & 0.40 & 1.72 & 6.60 & 1.13 & 2.57 & 1130\\\\\n",
       "\t 1 & 14.19 & 1.59 & 2.48 & 16.5 & 108 & 3.30 & 3.93 & 0.32 & 1.86 & 8.70 & 1.23 & 2.82 & 1680\\\\\n",
       "\t 1 & 13.64 & 3.10 & 2.56 & 15.2 & 116 & 2.70 & 3.03 & 0.17 & 1.66 & 5.10 & 0.96 & 3.36 &  845\\\\\n",
       "\t 1 & 14.06 & 1.63 & 2.28 & 16.0 & 126 & 3.00 & 3.17 & 0.24 & 2.10 & 5.65 & 1.09 & 3.71 &  780\\\\\n",
       "\t 1 & 12.93 & 3.80 & 2.65 & 18.6 & 102 & 2.41 & 2.41 & 0.25 & 1.98 & 4.50 & 1.03 & 3.52 &  770\\\\\n",
       "\t 1 & 13.71 & 1.86 & 2.36 & 16.6 & 101 & 2.61 & 2.88 & 0.27 & 1.69 & 3.80 & 1.11 & 4.00 & 1035\\\\\n",
       "\t 1 & 12.85 & 1.60 & 2.52 & 17.8 &  95 & 2.48 & 2.37 & 0.26 & 1.46 & 3.93 & 1.09 & 3.63 & 1015\\\\\n",
       "\t 1 & 13.50 & 1.81 & 2.61 & 20.0 &  96 & 2.53 & 2.61 & 0.28 & 1.66 & 3.52 & 1.12 & 3.82 &  845\\\\\n",
       "\t 1 & 13.05 & 2.05 & 3.22 & 25.0 & 124 & 2.63 & 2.68 & 0.47 & 1.92 & 3.58 & 1.13 & 3.20 &  830\\\\\n",
       "\t 1 & 13.39 & 1.77 & 2.62 & 16.1 &  93 & 2.85 & 2.94 & 0.34 & 1.45 & 4.80 & 0.92 & 3.22 & 1195\\\\\n",
       "\t 1 & 13.30 & 1.72 & 2.14 & 17.0 &  94 & 2.40 & 2.19 & 0.27 & 1.35 & 3.95 & 1.02 & 2.77 & 1285\\\\\n",
       "\t 1 & 13.87 & 1.90 & 2.80 & 19.4 & 107 & 2.95 & 2.97 & 0.37 & 1.76 & 4.50 & 1.25 & 3.40 &  915\\\\\n",
       "\t 1 & 14.02 & 1.68 & 2.21 & 16.0 &  96 & 2.65 & 2.33 & 0.26 & 1.98 & 4.70 & 1.04 & 3.59 & 1035\\\\\n",
       "\t ⋮ & ⋮ & ⋮ & ⋮ & ⋮ & ⋮ & ⋮ & ⋮ & ⋮ & ⋮ & ⋮ & ⋮ & ⋮ & ⋮\\\\\n",
       "\t 3 & 13.32 & 3.24 & 2.38 & 21.5 &  92 & 1.93 & 0.76 & 0.45 & 1.25 &  8.420000 & 0.55 & 1.62 & 650\\\\\n",
       "\t 3 & 13.08 & 3.90 & 2.36 & 21.5 & 113 & 1.41 & 1.39 & 0.34 & 1.14 &  9.400000 & 0.57 & 1.33 & 550\\\\\n",
       "\t 3 & 13.50 & 3.12 & 2.62 & 24.0 & 123 & 1.40 & 1.57 & 0.22 & 1.25 &  8.600000 & 0.59 & 1.30 & 500\\\\\n",
       "\t 3 & 12.79 & 2.67 & 2.48 & 22.0 & 112 & 1.48 & 1.36 & 0.24 & 1.26 & 10.800000 & 0.48 & 1.47 & 480\\\\\n",
       "\t 3 & 13.11 & 1.90 & 2.75 & 25.5 & 116 & 2.20 & 1.28 & 0.26 & 1.56 &  7.100000 & 0.61 & 1.33 & 425\\\\\n",
       "\t 3 & 13.23 & 3.30 & 2.28 & 18.5 &  98 & 1.80 & 0.83 & 0.61 & 1.87 & 10.520000 & 0.56 & 1.51 & 675\\\\\n",
       "\t 3 & 12.58 & 1.29 & 2.10 & 20.0 & 103 & 1.48 & 0.58 & 0.53 & 1.40 &  7.600000 & 0.58 & 1.55 & 640\\\\\n",
       "\t 3 & 13.17 & 5.19 & 2.32 & 22.0 &  93 & 1.74 & 0.63 & 0.61 & 1.55 &  7.900000 & 0.60 & 1.48 & 725\\\\\n",
       "\t 3 & 13.84 & 4.12 & 2.38 & 19.5 &  89 & 1.80 & 0.83 & 0.48 & 1.56 &  9.010000 & 0.57 & 1.64 & 480\\\\\n",
       "\t 3 & 12.45 & 3.03 & 2.64 & 27.0 &  97 & 1.90 & 0.58 & 0.63 & 1.14 &  7.500000 & 0.67 & 1.73 & 880\\\\\n",
       "\t 3 & 14.34 & 1.68 & 2.70 & 25.0 &  98 & 2.80 & 1.31 & 0.53 & 2.70 & 13.000000 & 0.57 & 1.96 & 660\\\\\n",
       "\t 3 & 13.48 & 1.67 & 2.64 & 22.5 &  89 & 2.60 & 1.10 & 0.52 & 2.29 & 11.750000 & 0.57 & 1.78 & 620\\\\\n",
       "\t 3 & 12.36 & 3.83 & 2.38 & 21.0 &  88 & 2.30 & 0.92 & 0.50 & 1.04 &  7.650000 & 0.56 & 1.58 & 520\\\\\n",
       "\t 3 & 13.69 & 3.26 & 2.54 & 20.0 & 107 & 1.83 & 0.56 & 0.50 & 0.80 &  5.880000 & 0.96 & 1.82 & 680\\\\\n",
       "\t 3 & 12.85 & 3.27 & 2.58 & 22.0 & 106 & 1.65 & 0.60 & 0.60 & 0.96 &  5.580000 & 0.87 & 2.11 & 570\\\\\n",
       "\t 3 & 12.96 & 3.45 & 2.35 & 18.5 & 106 & 1.39 & 0.70 & 0.40 & 0.94 &  5.280000 & 0.68 & 1.75 & 675\\\\\n",
       "\t 3 & 13.78 & 2.76 & 2.30 & 22.0 &  90 & 1.35 & 0.68 & 0.41 & 1.03 &  9.580000 & 0.70 & 1.68 & 615\\\\\n",
       "\t 3 & 13.73 & 4.36 & 2.26 & 22.5 &  88 & 1.28 & 0.47 & 0.52 & 1.15 &  6.620000 & 0.78 & 1.75 & 520\\\\\n",
       "\t 3 & 13.45 & 3.70 & 2.60 & 23.0 & 111 & 1.70 & 0.92 & 0.43 & 1.46 & 10.680000 & 0.85 & 1.56 & 695\\\\\n",
       "\t 3 & 12.82 & 3.37 & 2.30 & 19.5 &  88 & 1.48 & 0.66 & 0.40 & 0.97 & 10.260000 & 0.72 & 1.75 & 685\\\\\n",
       "\t 3 & 13.58 & 2.58 & 2.69 & 24.5 & 105 & 1.55 & 0.84 & 0.39 & 1.54 &  8.660000 & 0.74 & 1.80 & 750\\\\\n",
       "\t 3 & 13.40 & 4.60 & 2.86 & 25.0 & 112 & 1.98 & 0.96 & 0.27 & 1.11 &  8.500000 & 0.67 & 1.92 & 630\\\\\n",
       "\t 3 & 12.20 & 3.03 & 2.32 & 19.0 &  96 & 1.25 & 0.49 & 0.40 & 0.73 &  5.500000 & 0.66 & 1.83 & 510\\\\\n",
       "\t 3 & 12.77 & 2.39 & 2.28 & 19.5 &  86 & 1.39 & 0.51 & 0.48 & 0.64 &  9.899999 & 0.57 & 1.63 & 470\\\\\n",
       "\t 3 & 14.16 & 2.51 & 2.48 & 20.0 &  91 & 1.68 & 0.70 & 0.44 & 1.24 &  9.700000 & 0.62 & 1.71 & 660\\\\\n",
       "\t 3 & 13.71 & 5.65 & 2.45 & 20.5 &  95 & 1.68 & 0.61 & 0.52 & 1.06 &  7.700000 & 0.64 & 1.74 & 740\\\\\n",
       "\t 3 & 13.40 & 3.91 & 2.48 & 23.0 & 102 & 1.80 & 0.75 & 0.43 & 1.41 &  7.300000 & 0.70 & 1.56 & 750\\\\\n",
       "\t 3 & 13.27 & 4.28 & 2.26 & 20.0 & 120 & 1.59 & 0.69 & 0.43 & 1.35 & 10.200000 & 0.59 & 1.56 & 835\\\\\n",
       "\t 3 & 13.17 & 2.59 & 2.37 & 20.0 & 120 & 1.65 & 0.68 & 0.53 & 1.46 &  9.300000 & 0.60 & 1.62 & 840\\\\\n",
       "\t 3 & 14.13 & 4.10 & 2.74 & 24.5 &  96 & 2.05 & 0.76 & 0.56 & 1.35 &  9.200000 & 0.61 & 1.60 & 560\\\\\n",
       "\\end{tabular}\n"
      ],
      "text/markdown": [
       "\n",
       "A data.frame: 178 × 14\n",
       "\n",
       "| V1 &lt;int&gt; | V2 &lt;dbl&gt; | V3 &lt;dbl&gt; | V4 &lt;dbl&gt; | V5 &lt;dbl&gt; | V6 &lt;int&gt; | V7 &lt;dbl&gt; | V8 &lt;dbl&gt; | V9 &lt;dbl&gt; | V10 &lt;dbl&gt; | V11 &lt;dbl&gt; | V12 &lt;dbl&gt; | V13 &lt;dbl&gt; | V14 &lt;int&gt; |\n",
       "|---|---|---|---|---|---|---|---|---|---|---|---|---|---|\n",
       "| 1 | 14.23 | 1.71 | 2.43 | 15.6 | 127 | 2.80 | 3.06 | 0.28 | 2.29 | 5.64 | 1.04 | 3.92 | 1065 |\n",
       "| 1 | 13.20 | 1.78 | 2.14 | 11.2 | 100 | 2.65 | 2.76 | 0.26 | 1.28 | 4.38 | 1.05 | 3.40 | 1050 |\n",
       "| 1 | 13.16 | 2.36 | 2.67 | 18.6 | 101 | 2.80 | 3.24 | 0.30 | 2.81 | 5.68 | 1.03 | 3.17 | 1185 |\n",
       "| 1 | 14.37 | 1.95 | 2.50 | 16.8 | 113 | 3.85 | 3.49 | 0.24 | 2.18 | 7.80 | 0.86 | 3.45 | 1480 |\n",
       "| 1 | 13.24 | 2.59 | 2.87 | 21.0 | 118 | 2.80 | 2.69 | 0.39 | 1.82 | 4.32 | 1.04 | 2.93 |  735 |\n",
       "| 1 | 14.20 | 1.76 | 2.45 | 15.2 | 112 | 3.27 | 3.39 | 0.34 | 1.97 | 6.75 | 1.05 | 2.85 | 1450 |\n",
       "| 1 | 14.39 | 1.87 | 2.45 | 14.6 |  96 | 2.50 | 2.52 | 0.30 | 1.98 | 5.25 | 1.02 | 3.58 | 1290 |\n",
       "| 1 | 14.06 | 2.15 | 2.61 | 17.6 | 121 | 2.60 | 2.51 | 0.31 | 1.25 | 5.05 | 1.06 | 3.58 | 1295 |\n",
       "| 1 | 14.83 | 1.64 | 2.17 | 14.0 |  97 | 2.80 | 2.98 | 0.29 | 1.98 | 5.20 | 1.08 | 2.85 | 1045 |\n",
       "| 1 | 13.86 | 1.35 | 2.27 | 16.0 |  98 | 2.98 | 3.15 | 0.22 | 1.85 | 7.22 | 1.01 | 3.55 | 1045 |\n",
       "| 1 | 14.10 | 2.16 | 2.30 | 18.0 | 105 | 2.95 | 3.32 | 0.22 | 2.38 | 5.75 | 1.25 | 3.17 | 1510 |\n",
       "| 1 | 14.12 | 1.48 | 2.32 | 16.8 |  95 | 2.20 | 2.43 | 0.26 | 1.57 | 5.00 | 1.17 | 2.82 | 1280 |\n",
       "| 1 | 13.75 | 1.73 | 2.41 | 16.0 |  89 | 2.60 | 2.76 | 0.29 | 1.81 | 5.60 | 1.15 | 2.90 | 1320 |\n",
       "| 1 | 14.75 | 1.73 | 2.39 | 11.4 |  91 | 3.10 | 3.69 | 0.43 | 2.81 | 5.40 | 1.25 | 2.73 | 1150 |\n",
       "| 1 | 14.38 | 1.87 | 2.38 | 12.0 | 102 | 3.30 | 3.64 | 0.29 | 2.96 | 7.50 | 1.20 | 3.00 | 1547 |\n",
       "| 1 | 13.63 | 1.81 | 2.70 | 17.2 | 112 | 2.85 | 2.91 | 0.30 | 1.46 | 7.30 | 1.28 | 2.88 | 1310 |\n",
       "| 1 | 14.30 | 1.92 | 2.72 | 20.0 | 120 | 2.80 | 3.14 | 0.33 | 1.97 | 6.20 | 1.07 | 2.65 | 1280 |\n",
       "| 1 | 13.83 | 1.57 | 2.62 | 20.0 | 115 | 2.95 | 3.40 | 0.40 | 1.72 | 6.60 | 1.13 | 2.57 | 1130 |\n",
       "| 1 | 14.19 | 1.59 | 2.48 | 16.5 | 108 | 3.30 | 3.93 | 0.32 | 1.86 | 8.70 | 1.23 | 2.82 | 1680 |\n",
       "| 1 | 13.64 | 3.10 | 2.56 | 15.2 | 116 | 2.70 | 3.03 | 0.17 | 1.66 | 5.10 | 0.96 | 3.36 |  845 |\n",
       "| 1 | 14.06 | 1.63 | 2.28 | 16.0 | 126 | 3.00 | 3.17 | 0.24 | 2.10 | 5.65 | 1.09 | 3.71 |  780 |\n",
       "| 1 | 12.93 | 3.80 | 2.65 | 18.6 | 102 | 2.41 | 2.41 | 0.25 | 1.98 | 4.50 | 1.03 | 3.52 |  770 |\n",
       "| 1 | 13.71 | 1.86 | 2.36 | 16.6 | 101 | 2.61 | 2.88 | 0.27 | 1.69 | 3.80 | 1.11 | 4.00 | 1035 |\n",
       "| 1 | 12.85 | 1.60 | 2.52 | 17.8 |  95 | 2.48 | 2.37 | 0.26 | 1.46 | 3.93 | 1.09 | 3.63 | 1015 |\n",
       "| 1 | 13.50 | 1.81 | 2.61 | 20.0 |  96 | 2.53 | 2.61 | 0.28 | 1.66 | 3.52 | 1.12 | 3.82 |  845 |\n",
       "| 1 | 13.05 | 2.05 | 3.22 | 25.0 | 124 | 2.63 | 2.68 | 0.47 | 1.92 | 3.58 | 1.13 | 3.20 |  830 |\n",
       "| 1 | 13.39 | 1.77 | 2.62 | 16.1 |  93 | 2.85 | 2.94 | 0.34 | 1.45 | 4.80 | 0.92 | 3.22 | 1195 |\n",
       "| 1 | 13.30 | 1.72 | 2.14 | 17.0 |  94 | 2.40 | 2.19 | 0.27 | 1.35 | 3.95 | 1.02 | 2.77 | 1285 |\n",
       "| 1 | 13.87 | 1.90 | 2.80 | 19.4 | 107 | 2.95 | 2.97 | 0.37 | 1.76 | 4.50 | 1.25 | 3.40 |  915 |\n",
       "| 1 | 14.02 | 1.68 | 2.21 | 16.0 |  96 | 2.65 | 2.33 | 0.26 | 1.98 | 4.70 | 1.04 | 3.59 | 1035 |\n",
       "| ⋮ | ⋮ | ⋮ | ⋮ | ⋮ | ⋮ | ⋮ | ⋮ | ⋮ | ⋮ | ⋮ | ⋮ | ⋮ | ⋮ |\n",
       "| 3 | 13.32 | 3.24 | 2.38 | 21.5 |  92 | 1.93 | 0.76 | 0.45 | 1.25 |  8.420000 | 0.55 | 1.62 | 650 |\n",
       "| 3 | 13.08 | 3.90 | 2.36 | 21.5 | 113 | 1.41 | 1.39 | 0.34 | 1.14 |  9.400000 | 0.57 | 1.33 | 550 |\n",
       "| 3 | 13.50 | 3.12 | 2.62 | 24.0 | 123 | 1.40 | 1.57 | 0.22 | 1.25 |  8.600000 | 0.59 | 1.30 | 500 |\n",
       "| 3 | 12.79 | 2.67 | 2.48 | 22.0 | 112 | 1.48 | 1.36 | 0.24 | 1.26 | 10.800000 | 0.48 | 1.47 | 480 |\n",
       "| 3 | 13.11 | 1.90 | 2.75 | 25.5 | 116 | 2.20 | 1.28 | 0.26 | 1.56 |  7.100000 | 0.61 | 1.33 | 425 |\n",
       "| 3 | 13.23 | 3.30 | 2.28 | 18.5 |  98 | 1.80 | 0.83 | 0.61 | 1.87 | 10.520000 | 0.56 | 1.51 | 675 |\n",
       "| 3 | 12.58 | 1.29 | 2.10 | 20.0 | 103 | 1.48 | 0.58 | 0.53 | 1.40 |  7.600000 | 0.58 | 1.55 | 640 |\n",
       "| 3 | 13.17 | 5.19 | 2.32 | 22.0 |  93 | 1.74 | 0.63 | 0.61 | 1.55 |  7.900000 | 0.60 | 1.48 | 725 |\n",
       "| 3 | 13.84 | 4.12 | 2.38 | 19.5 |  89 | 1.80 | 0.83 | 0.48 | 1.56 |  9.010000 | 0.57 | 1.64 | 480 |\n",
       "| 3 | 12.45 | 3.03 | 2.64 | 27.0 |  97 | 1.90 | 0.58 | 0.63 | 1.14 |  7.500000 | 0.67 | 1.73 | 880 |\n",
       "| 3 | 14.34 | 1.68 | 2.70 | 25.0 |  98 | 2.80 | 1.31 | 0.53 | 2.70 | 13.000000 | 0.57 | 1.96 | 660 |\n",
       "| 3 | 13.48 | 1.67 | 2.64 | 22.5 |  89 | 2.60 | 1.10 | 0.52 | 2.29 | 11.750000 | 0.57 | 1.78 | 620 |\n",
       "| 3 | 12.36 | 3.83 | 2.38 | 21.0 |  88 | 2.30 | 0.92 | 0.50 | 1.04 |  7.650000 | 0.56 | 1.58 | 520 |\n",
       "| 3 | 13.69 | 3.26 | 2.54 | 20.0 | 107 | 1.83 | 0.56 | 0.50 | 0.80 |  5.880000 | 0.96 | 1.82 | 680 |\n",
       "| 3 | 12.85 | 3.27 | 2.58 | 22.0 | 106 | 1.65 | 0.60 | 0.60 | 0.96 |  5.580000 | 0.87 | 2.11 | 570 |\n",
       "| 3 | 12.96 | 3.45 | 2.35 | 18.5 | 106 | 1.39 | 0.70 | 0.40 | 0.94 |  5.280000 | 0.68 | 1.75 | 675 |\n",
       "| 3 | 13.78 | 2.76 | 2.30 | 22.0 |  90 | 1.35 | 0.68 | 0.41 | 1.03 |  9.580000 | 0.70 | 1.68 | 615 |\n",
       "| 3 | 13.73 | 4.36 | 2.26 | 22.5 |  88 | 1.28 | 0.47 | 0.52 | 1.15 |  6.620000 | 0.78 | 1.75 | 520 |\n",
       "| 3 | 13.45 | 3.70 | 2.60 | 23.0 | 111 | 1.70 | 0.92 | 0.43 | 1.46 | 10.680000 | 0.85 | 1.56 | 695 |\n",
       "| 3 | 12.82 | 3.37 | 2.30 | 19.5 |  88 | 1.48 | 0.66 | 0.40 | 0.97 | 10.260000 | 0.72 | 1.75 | 685 |\n",
       "| 3 | 13.58 | 2.58 | 2.69 | 24.5 | 105 | 1.55 | 0.84 | 0.39 | 1.54 |  8.660000 | 0.74 | 1.80 | 750 |\n",
       "| 3 | 13.40 | 4.60 | 2.86 | 25.0 | 112 | 1.98 | 0.96 | 0.27 | 1.11 |  8.500000 | 0.67 | 1.92 | 630 |\n",
       "| 3 | 12.20 | 3.03 | 2.32 | 19.0 |  96 | 1.25 | 0.49 | 0.40 | 0.73 |  5.500000 | 0.66 | 1.83 | 510 |\n",
       "| 3 | 12.77 | 2.39 | 2.28 | 19.5 |  86 | 1.39 | 0.51 | 0.48 | 0.64 |  9.899999 | 0.57 | 1.63 | 470 |\n",
       "| 3 | 14.16 | 2.51 | 2.48 | 20.0 |  91 | 1.68 | 0.70 | 0.44 | 1.24 |  9.700000 | 0.62 | 1.71 | 660 |\n",
       "| 3 | 13.71 | 5.65 | 2.45 | 20.5 |  95 | 1.68 | 0.61 | 0.52 | 1.06 |  7.700000 | 0.64 | 1.74 | 740 |\n",
       "| 3 | 13.40 | 3.91 | 2.48 | 23.0 | 102 | 1.80 | 0.75 | 0.43 | 1.41 |  7.300000 | 0.70 | 1.56 | 750 |\n",
       "| 3 | 13.27 | 4.28 | 2.26 | 20.0 | 120 | 1.59 | 0.69 | 0.43 | 1.35 | 10.200000 | 0.59 | 1.56 | 835 |\n",
       "| 3 | 13.17 | 2.59 | 2.37 | 20.0 | 120 | 1.65 | 0.68 | 0.53 | 1.46 |  9.300000 | 0.60 | 1.62 | 840 |\n",
       "| 3 | 14.13 | 4.10 | 2.74 | 24.5 |  96 | 2.05 | 0.76 | 0.56 | 1.35 |  9.200000 | 0.61 | 1.60 | 560 |\n",
       "\n"
      ],
      "text/plain": [
       "    V1 V2    V3   V4   V5   V6  V7   V8   V9   V10  V11       V12  V13  V14 \n",
       "1   1  14.23 1.71 2.43 15.6 127 2.80 3.06 0.28 2.29 5.64      1.04 3.92 1065\n",
       "2   1  13.20 1.78 2.14 11.2 100 2.65 2.76 0.26 1.28 4.38      1.05 3.40 1050\n",
       "3   1  13.16 2.36 2.67 18.6 101 2.80 3.24 0.30 2.81 5.68      1.03 3.17 1185\n",
       "4   1  14.37 1.95 2.50 16.8 113 3.85 3.49 0.24 2.18 7.80      0.86 3.45 1480\n",
       "5   1  13.24 2.59 2.87 21.0 118 2.80 2.69 0.39 1.82 4.32      1.04 2.93  735\n",
       "6   1  14.20 1.76 2.45 15.2 112 3.27 3.39 0.34 1.97 6.75      1.05 2.85 1450\n",
       "7   1  14.39 1.87 2.45 14.6  96 2.50 2.52 0.30 1.98 5.25      1.02 3.58 1290\n",
       "8   1  14.06 2.15 2.61 17.6 121 2.60 2.51 0.31 1.25 5.05      1.06 3.58 1295\n",
       "9   1  14.83 1.64 2.17 14.0  97 2.80 2.98 0.29 1.98 5.20      1.08 2.85 1045\n",
       "10  1  13.86 1.35 2.27 16.0  98 2.98 3.15 0.22 1.85 7.22      1.01 3.55 1045\n",
       "11  1  14.10 2.16 2.30 18.0 105 2.95 3.32 0.22 2.38 5.75      1.25 3.17 1510\n",
       "12  1  14.12 1.48 2.32 16.8  95 2.20 2.43 0.26 1.57 5.00      1.17 2.82 1280\n",
       "13  1  13.75 1.73 2.41 16.0  89 2.60 2.76 0.29 1.81 5.60      1.15 2.90 1320\n",
       "14  1  14.75 1.73 2.39 11.4  91 3.10 3.69 0.43 2.81 5.40      1.25 2.73 1150\n",
       "15  1  14.38 1.87 2.38 12.0 102 3.30 3.64 0.29 2.96 7.50      1.20 3.00 1547\n",
       "16  1  13.63 1.81 2.70 17.2 112 2.85 2.91 0.30 1.46 7.30      1.28 2.88 1310\n",
       "17  1  14.30 1.92 2.72 20.0 120 2.80 3.14 0.33 1.97 6.20      1.07 2.65 1280\n",
       "18  1  13.83 1.57 2.62 20.0 115 2.95 3.40 0.40 1.72 6.60      1.13 2.57 1130\n",
       "19  1  14.19 1.59 2.48 16.5 108 3.30 3.93 0.32 1.86 8.70      1.23 2.82 1680\n",
       "20  1  13.64 3.10 2.56 15.2 116 2.70 3.03 0.17 1.66 5.10      0.96 3.36  845\n",
       "21  1  14.06 1.63 2.28 16.0 126 3.00 3.17 0.24 2.10 5.65      1.09 3.71  780\n",
       "22  1  12.93 3.80 2.65 18.6 102 2.41 2.41 0.25 1.98 4.50      1.03 3.52  770\n",
       "23  1  13.71 1.86 2.36 16.6 101 2.61 2.88 0.27 1.69 3.80      1.11 4.00 1035\n",
       "24  1  12.85 1.60 2.52 17.8  95 2.48 2.37 0.26 1.46 3.93      1.09 3.63 1015\n",
       "25  1  13.50 1.81 2.61 20.0  96 2.53 2.61 0.28 1.66 3.52      1.12 3.82  845\n",
       "26  1  13.05 2.05 3.22 25.0 124 2.63 2.68 0.47 1.92 3.58      1.13 3.20  830\n",
       "27  1  13.39 1.77 2.62 16.1  93 2.85 2.94 0.34 1.45 4.80      0.92 3.22 1195\n",
       "28  1  13.30 1.72 2.14 17.0  94 2.40 2.19 0.27 1.35 3.95      1.02 2.77 1285\n",
       "29  1  13.87 1.90 2.80 19.4 107 2.95 2.97 0.37 1.76 4.50      1.25 3.40  915\n",
       "30  1  14.02 1.68 2.21 16.0  96 2.65 2.33 0.26 1.98 4.70      1.04 3.59 1035\n",
       "⋮   ⋮  ⋮     ⋮    ⋮    ⋮    ⋮   ⋮    ⋮    ⋮    ⋮    ⋮         ⋮    ⋮    ⋮   \n",
       "149 3  13.32 3.24 2.38 21.5  92 1.93 0.76 0.45 1.25  8.420000 0.55 1.62 650 \n",
       "150 3  13.08 3.90 2.36 21.5 113 1.41 1.39 0.34 1.14  9.400000 0.57 1.33 550 \n",
       "151 3  13.50 3.12 2.62 24.0 123 1.40 1.57 0.22 1.25  8.600000 0.59 1.30 500 \n",
       "152 3  12.79 2.67 2.48 22.0 112 1.48 1.36 0.24 1.26 10.800000 0.48 1.47 480 \n",
       "153 3  13.11 1.90 2.75 25.5 116 2.20 1.28 0.26 1.56  7.100000 0.61 1.33 425 \n",
       "154 3  13.23 3.30 2.28 18.5  98 1.80 0.83 0.61 1.87 10.520000 0.56 1.51 675 \n",
       "155 3  12.58 1.29 2.10 20.0 103 1.48 0.58 0.53 1.40  7.600000 0.58 1.55 640 \n",
       "156 3  13.17 5.19 2.32 22.0  93 1.74 0.63 0.61 1.55  7.900000 0.60 1.48 725 \n",
       "157 3  13.84 4.12 2.38 19.5  89 1.80 0.83 0.48 1.56  9.010000 0.57 1.64 480 \n",
       "158 3  12.45 3.03 2.64 27.0  97 1.90 0.58 0.63 1.14  7.500000 0.67 1.73 880 \n",
       "159 3  14.34 1.68 2.70 25.0  98 2.80 1.31 0.53 2.70 13.000000 0.57 1.96 660 \n",
       "160 3  13.48 1.67 2.64 22.5  89 2.60 1.10 0.52 2.29 11.750000 0.57 1.78 620 \n",
       "161 3  12.36 3.83 2.38 21.0  88 2.30 0.92 0.50 1.04  7.650000 0.56 1.58 520 \n",
       "162 3  13.69 3.26 2.54 20.0 107 1.83 0.56 0.50 0.80  5.880000 0.96 1.82 680 \n",
       "163 3  12.85 3.27 2.58 22.0 106 1.65 0.60 0.60 0.96  5.580000 0.87 2.11 570 \n",
       "164 3  12.96 3.45 2.35 18.5 106 1.39 0.70 0.40 0.94  5.280000 0.68 1.75 675 \n",
       "165 3  13.78 2.76 2.30 22.0  90 1.35 0.68 0.41 1.03  9.580000 0.70 1.68 615 \n",
       "166 3  13.73 4.36 2.26 22.5  88 1.28 0.47 0.52 1.15  6.620000 0.78 1.75 520 \n",
       "167 3  13.45 3.70 2.60 23.0 111 1.70 0.92 0.43 1.46 10.680000 0.85 1.56 695 \n",
       "168 3  12.82 3.37 2.30 19.5  88 1.48 0.66 0.40 0.97 10.260000 0.72 1.75 685 \n",
       "169 3  13.58 2.58 2.69 24.5 105 1.55 0.84 0.39 1.54  8.660000 0.74 1.80 750 \n",
       "170 3  13.40 4.60 2.86 25.0 112 1.98 0.96 0.27 1.11  8.500000 0.67 1.92 630 \n",
       "171 3  12.20 3.03 2.32 19.0  96 1.25 0.49 0.40 0.73  5.500000 0.66 1.83 510 \n",
       "172 3  12.77 2.39 2.28 19.5  86 1.39 0.51 0.48 0.64  9.899999 0.57 1.63 470 \n",
       "173 3  14.16 2.51 2.48 20.0  91 1.68 0.70 0.44 1.24  9.700000 0.62 1.71 660 \n",
       "174 3  13.71 5.65 2.45 20.5  95 1.68 0.61 0.52 1.06  7.700000 0.64 1.74 740 \n",
       "175 3  13.40 3.91 2.48 23.0 102 1.80 0.75 0.43 1.41  7.300000 0.70 1.56 750 \n",
       "176 3  13.27 4.28 2.26 20.0 120 1.59 0.69 0.43 1.35 10.200000 0.59 1.56 835 \n",
       "177 3  13.17 2.59 2.37 20.0 120 1.65 0.68 0.53 1.46  9.300000 0.60 1.62 840 \n",
       "178 3  14.13 4.10 2.74 24.5  96 2.05 0.76 0.56 1.35  9.200000 0.61 1.60 560 "
      ]
     },
     "metadata": {},
     "output_type": "display_data"
    }
   ],
   "source": [
    "wine"
   ]
  },
  {
   "cell_type": "markdown",
   "metadata": {},
   "source": [
    "## Dibujando los datos\n",
    "\n",
    "Ahora, mostraremos una librería y ciertas funciones que nos permiten dibujar de diversas formas la muestra que hemos obtenido en los datos. \n",
    "\n",
    "Utilizaremos la librería ```car```, y dentro de ella la función ```scatterplotMatrix```. Hay que llamar a esta función utilizando la variable donde tenemos la base de datos y un rango, que nos indica el rango de variables que queremos mostrar. Por ejemplo, lo hacemos para las dos primeras variables:"
   ]
  },
  {
   "cell_type": "code",
   "execution_count": 10,
   "metadata": {},
   "outputs": [
    {
     "data": {
      "image/png": "[encoded data removed]",
      "text/plain": [
       "plot without title"
      ]
     },
     "metadata": {
      "image/png": {
       "height": 420,
       "width": 420
      },
      "text/plain": {
       "height": 420,
       "width": 420
      }
     },
     "output_type": "display_data"
    }
   ],
   "source": [
    "library(\"car\")\n",
    "scatterplotMatrix(wine[2:3])\n"
   ]
  },
  {
   "cell_type": "markdown",
   "metadata": {},
   "source": [
    "# Cálculo usando los datos\n",
    "\n",
    "Una vez hemos obtenido los datos y los hemos representado para poder tener una visión de los mismos, pasamos a realizar cálculos con ellos. Utilizaremos la función ```sapply``` para aplicar una función sobre cada columna de nuestro *data frame*. Utilizaremos funciones pre-definidas en *R* para obtener información sobre nuestro conjunto de datos.\n",
    "\n",
    "## Media y desviación típica muestrales\n",
    "\n",
    "Calculamos primero la media muestral. La función que tiene *R* para hacerlo es ```mean()```. Usando esta función y la anteriormente mencionada, podemos calcular la media muestral da todas nuestras variables aleatorias. Lo haremos para el conjunto total de los datos, y luego hacemos una prueba en la que seleccionamos únicamente las muestras que han sido obtenidas en la *fábrica numero 1*"
   ]
  },
  {
   "cell_type": "code",
   "execution_count": 11,
   "metadata": {
    "scrolled": false
   },
   "outputs": [
    {
     "name": "stdout",
     "output_type": "stream",
     "text": [
      "[1] \"Media muestral del conjunto completo\"\n"
     ]
    },
    {
     "data": {
      "text/html": [
       "<dl class=dl-horizontal>\n",
       "\t<dt>V2</dt>\n",
       "\t\t<dd>13.0006179775281</dd>\n",
       "\t<dt>V3</dt>\n",
       "\t\t<dd>2.33634831460674</dd>\n",
       "\t<dt>V4</dt>\n",
       "\t\t<dd>2.36651685393258</dd>\n",
       "\t<dt>V5</dt>\n",
       "\t\t<dd>19.4949438202247</dd>\n",
       "\t<dt>V6</dt>\n",
       "\t\t<dd>99.7415730337079</dd>\n",
       "\t<dt>V7</dt>\n",
       "\t\t<dd>2.29511235955056</dd>\n",
       "\t<dt>V8</dt>\n",
       "\t\t<dd>2.02926966292135</dd>\n",
       "\t<dt>V9</dt>\n",
       "\t\t<dd>0.36185393258427</dd>\n",
       "\t<dt>V10</dt>\n",
       "\t\t<dd>1.59089887640449</dd>\n",
       "\t<dt>V11</dt>\n",
       "\t\t<dd>5.05808988202247</dd>\n",
       "\t<dt>V12</dt>\n",
       "\t\t<dd>0.957449438202247</dd>\n",
       "\t<dt>V13</dt>\n",
       "\t\t<dd>2.61168539325843</dd>\n",
       "\t<dt>V14</dt>\n",
       "\t\t<dd>746.893258426966</dd>\n",
       "</dl>\n"
      ],
      "text/latex": [
       "\\begin{description*}\n",
       "\\item[V2] 13.0006179775281\n",
       "\\item[V3] 2.33634831460674\n",
       "\\item[V4] 2.36651685393258\n",
       "\\item[V5] 19.4949438202247\n",
       "\\item[V6] 99.7415730337079\n",
       "\\item[V7] 2.29511235955056\n",
       "\\item[V8] 2.02926966292135\n",
       "\\item[V9] 0.36185393258427\n",
       "\\item[V10] 1.59089887640449\n",
       "\\item[V11] 5.05808988202247\n",
       "\\item[V12] 0.957449438202247\n",
       "\\item[V13] 2.61168539325843\n",
       "\\item[V14] 746.893258426966\n",
       "\\end{description*}\n"
      ],
      "text/markdown": [
       "V2\n",
       ":   13.0006179775281V3\n",
       ":   2.33634831460674V4\n",
       ":   2.36651685393258V5\n",
       ":   19.4949438202247V6\n",
       ":   99.7415730337079V7\n",
       ":   2.29511235955056V8\n",
       ":   2.02926966292135V9\n",
       ":   0.36185393258427V10\n",
       ":   1.59089887640449V11\n",
       ":   5.05808988202247V12\n",
       ":   0.957449438202247V13\n",
       ":   2.61168539325843V14\n",
       ":   746.893258426966\n",
       "\n"
      ],
      "text/plain": [
       "         V2          V3          V4          V5          V6          V7 \n",
       " 13.0006180   2.3363483   2.3665169  19.4949438  99.7415730   2.2951124 \n",
       "         V8          V9         V10         V11         V12         V13 \n",
       "  2.0292697   0.3618539   1.5908989   5.0580899   0.9574494   2.6116854 \n",
       "        V14 \n",
       "746.8932584 "
      ]
     },
     "metadata": {},
     "output_type": "display_data"
    },
    {
     "name": "stdout",
     "output_type": "stream",
     "text": [
      "[1] \"Comparativa de medias muestrales de vinos en primera y tercera fábricas\"\n"
     ]
    },
    {
     "data": {
      "text/html": [
       "<dl class=dl-horizontal>\n",
       "\t<dt>V2</dt>\n",
       "\t\t<dd>0.811826538005857</dd>\n",
       "\t<dt>V3</dt>\n",
       "\t\t<dd>1.11714609761446</dd>\n",
       "\t<dt>V4</dt>\n",
       "\t\t<dd>0.274344009060815</dd>\n",
       "\t<dt>V5</dt>\n",
       "\t\t<dd>3.3395637671735</dd>\n",
       "\t<dt>V6</dt>\n",
       "\t\t<dd>14.2824835152957</dd>\n",
       "\t<dt>V7</dt>\n",
       "\t\t<dd>0.625851048833989</dd>\n",
       "\t<dt>V8</dt>\n",
       "\t\t<dd>0.998858685016947</dd>\n",
       "\t<dt>V9</dt>\n",
       "\t\t<dd>0.124453340296679</dd>\n",
       "\t<dt>V10</dt>\n",
       "\t\t<dd>0.572358862674761</dd>\n",
       "\t<dt>V11</dt>\n",
       "\t\t<dd>2.31828587182241</dd>\n",
       "\t<dt>V12</dt>\n",
       "\t\t<dd>0.228571565829823</dd>\n",
       "\t<dt>V13</dt>\n",
       "\t\t<dd>0.70999042876505</dd>\n",
       "\t<dt>V14</dt>\n",
       "\t\t<dd>314.907474276849</dd>\n",
       "</dl>\n"
      ],
      "text/latex": [
       "\\begin{description*}\n",
       "\\item[V2] 0.811826538005857\n",
       "\\item[V3] 1.11714609761446\n",
       "\\item[V4] 0.274344009060815\n",
       "\\item[V5] 3.3395637671735\n",
       "\\item[V6] 14.2824835152957\n",
       "\\item[V7] 0.625851048833989\n",
       "\\item[V8] 0.998858685016947\n",
       "\\item[V9] 0.124453340296679\n",
       "\\item[V10] 0.572358862674761\n",
       "\\item[V11] 2.31828587182241\n",
       "\\item[V12] 0.228571565829823\n",
       "\\item[V13] 0.70999042876505\n",
       "\\item[V14] 314.907474276849\n",
       "\\end{description*}\n"
      ],
      "text/markdown": [
       "V2\n",
       ":   0.811826538005857V3\n",
       ":   1.11714609761446V4\n",
       ":   0.274344009060815V5\n",
       ":   3.3395637671735V6\n",
       ":   14.2824835152957V7\n",
       ":   0.625851048833989V8\n",
       ":   0.998858685016947V9\n",
       ":   0.124453340296679V10\n",
       ":   0.572358862674761V11\n",
       ":   2.31828587182241V12\n",
       ":   0.228571565829823V13\n",
       ":   0.70999042876505V14\n",
       ":   314.907474276849\n",
       "\n"
      ],
      "text/plain": [
       "         V2          V3          V4          V5          V6          V7 \n",
       "  0.8118265   1.1171461   0.2743440   3.3395638  14.2824835   0.6258510 \n",
       "         V8          V9         V10         V11         V12         V13 \n",
       "  0.9988587   0.1244533   0.5723589   2.3182859   0.2285716   0.7099904 \n",
       "        V14 \n",
       "314.9074743 "
      ]
     },
     "metadata": {},
     "output_type": "display_data"
    },
    {
     "data": {
      "image/png": "[encoded data removed]",
      "text/plain": [
       "plot without title"
      ]
     },
     "metadata": {
      "image/png": {
       "height": 420,
       "width": 420
      },
      "text/plain": {
       "height": 420,
       "width": 420
      }
     },
     "output_type": "display_data"
    }
   ],
   "source": [
    "print(\"Media muestral del conjunto completo\")\n",
    "sapply(wine[2:14],mean)\n",
    "selection1 <- wine[wine$V1 == \"1\",]\n",
    "selection3 <- wine[wine$V1 == \"3\",]\n",
    "print(\"Comparativa de medias muestrales de vinos en primera y tercera fábricas\")\n",
    "mean1 <- sapply(selection1[2:14],mean)\n",
    "mean2 <- sapply(selection3[2:14],mean)\n",
    "\n",
    "chemical <- c(2,3,4,5,6,7,8,9,10,11,12,13,14)\n",
    "plot(chemical,mean1,col = \"red\")\n",
    "points(chemical, mean2, col=\"blue\", pch=\"*\")\n",
    "legend(2,1000,legend=c(\"Medias en Fabrica 1\",\"Medias en Fabrica 2\"), col=c(\"red\",\"blue\"),\n",
    "                                   pch=c(\"o\",\"*\"))\n",
    "\n",
    "sapply(wine[2:14],sd)\n"
   ]
  },
  {
   "cell_type": "markdown",
   "metadata": {},
   "source": [
    "## Implementación en R"
   ]
  },
  {
   "cell_type": "markdown",
   "metadata": {},
   "source": [
    "## Diagramas de dispersión\n",
    "Vamos a ver como podemos representar diagramas de dispersión (*scatterplots*), de dos variables de $X$, que podrán ser muy útiles para ver mejor visualmente los datos, o para encontrar valores atípicos (*outliers*), puntos que son numéricamente distintos al resto.\n",
    "\n",
    "Por ejemplo tomemos de *USairpollution* las variables *popul* (nº de población del censo de 1970) y *manu* (empresas productoras con al menos 20 trabajadores), donde las representamos con `plot`:"
   ]
  },
  {
   "cell_type": "code",
   "execution_count": 12,
   "metadata": {},
   "outputs": [
    {
     "data": {
      "image/png": "[encoded data removed]",
      "text/plain": [
       "plot without title"
      ]
     },
     "metadata": {
      "image/png": {
       "height": 420,
       "width": 420
      },
      "text/plain": {
       "height": 420,
       "width": 420
      }
     },
     "output_type": "display_data"
    }
   ],
   "source": [
    "plot(popul ~ manu, data = USairpollution)"
   ]
  },
  {
   "cell_type": "markdown",
   "metadata": {},
   "source": [
    "También podemos representar todas los scatterplots de todas las parejas posibles a la vez con `pairs`:"
   ]
  },
  {
   "cell_type": "code",
   "execution_count": 13,
   "metadata": {},
   "outputs": [
    {
     "data": {
      "image/png": "[encoded data removed]",
      "text/plain": [
       "plot without title"
      ]
     },
     "metadata": {
      "image/png": {
       "height": 420,
       "width": 420
      },
      "text/plain": {
       "height": 420,
       "width": 420
      }
     },
     "output_type": "display_data"
    }
   ],
   "source": [
    "pairs(USairpollution, pch = \".\", cex = 1.5)"
   ]
  },
  {
   "cell_type": "markdown",
   "metadata": {},
   "source": [
    "Además podemos trazar las rectas de regresión (obteniéndolas con `lm`):"
   ]
  },
  {
   "cell_type": "code",
   "execution_count": 14,
   "metadata": {},
   "outputs": [
    {
     "data": {
      "image/png": "[encoded data removed]",
      "text/plain": [
       "plot without title"
      ]
     },
     "metadata": {
      "image/png": {
       "height": 420,
       "width": 420
      },
      "text/plain": {
       "height": 420,
       "width": 420
      }
     },
     "output_type": "display_data"
    }
   ],
   "source": [
    "pairs(USairpollution,\n",
    "     panel = function(x, y, ...) {\n",
    "         points(x, y, ...)\n",
    "         abline(lm(y ~ x), col = \"grey\")\n",
    "     }, pch = \".\", cex = 1.5)"
   ]
  },
  {
   "cell_type": "markdown",
   "metadata": {},
   "source": [
    "## Estandarización de variables\n",
    "\n",
    "En muchas ocasiones, como cuando queremos comparar variables con distintas unidades o realizar un *análisis de componentes principales (PCA)*, necesitamos que nuestras variables tengan $\\mu = 0$ y $\\sigma = 1$.\n",
    "\n",
    "Para ello, utilizamos la función ```scale()``` que tenemos en *R*. \n",
    "\n",
    "*Nota.-* La función ```scale()``` no devuelve un objeto *dataframe* como los que hemos estado usando hasta ahora. Por tanto, tenemos que utilizar la función ```as.data.frame()``` para obtener un objeto de este tipo y poder trabajar con él como lo hacíamos antes.\n",
    "\n"
   ]
  },
  {
   "cell_type": "code",
   "execution_count": 15,
   "metadata": {},
   "outputs": [
    {
     "data": {
      "text/html": [
       "<table>\n",
       "<caption>A data.frame: 178 × 13</caption>\n",
       "<thead>\n",
       "\t<tr><th scope=col>V2</th><th scope=col>V3</th><th scope=col>V4</th><th scope=col>V5</th><th scope=col>V6</th><th scope=col>V7</th><th scope=col>V8</th><th scope=col>V9</th><th scope=col>V10</th><th scope=col>V11</th><th scope=col>V12</th><th scope=col>V13</th><th scope=col>V14</th></tr>\n",
       "\t<tr><th scope=col>&lt;dbl&gt;</th><th scope=col>&lt;dbl&gt;</th><th scope=col>&lt;dbl&gt;</th><th scope=col>&lt;dbl&gt;</th><th scope=col>&lt;dbl&gt;</th><th scope=col>&lt;dbl&gt;</th><th scope=col>&lt;dbl&gt;</th><th scope=col>&lt;dbl&gt;</th><th scope=col>&lt;dbl&gt;</th><th scope=col>&lt;dbl&gt;</th><th scope=col>&lt;dbl&gt;</th><th scope=col>&lt;dbl&gt;</th><th scope=col>&lt;dbl&gt;</th></tr>\n",
       "</thead>\n",
       "<tbody>\n",
       "\t<tr><td> 1.51434077</td><td>-0.56066822</td><td> 0.23139979</td><td>-1.16630317</td><td> 1.90852151</td><td> 0.8067217</td><td>1.0319081</td><td>-0.65770780</td><td> 1.22143845</td><td> 0.251008784</td><td> 0.3611585</td><td> 1.84272147</td><td> 1.01015939</td></tr>\n",
       "\t<tr><td> 0.24559683</td><td>-0.49800856</td><td>-0.82566722</td><td>-2.48384052</td><td> 0.01809398</td><td> 0.5670481</td><td>0.7315653</td><td>-0.81841060</td><td>-0.54318872</td><td>-0.292496232</td><td> 0.4049085</td><td> 1.11031723</td><td> 0.96252635</td></tr>\n",
       "\t<tr><td> 0.19632522</td><td> 0.02117152</td><td> 1.10621386</td><td>-0.26798225</td><td> 0.08810981</td><td> 0.8067217</td><td>1.2121137</td><td>-0.49700500</td><td> 2.12995937</td><td> 0.268262912</td><td> 0.3174085</td><td> 0.78636920</td><td> 1.39122370</td></tr>\n",
       "\t<tr><td> 1.68679140</td><td>-0.34583508</td><td> 0.48655389</td><td>-0.80697481</td><td> 0.92829983</td><td> 2.4844372</td><td>1.4623994</td><td>-0.97911340</td><td> 1.02925134</td><td> 1.182731669</td><td>-0.4263410</td><td> 1.18074072</td><td> 2.32800680</td></tr>\n",
       "\t<tr><td> 0.29486844</td><td> 0.22705328</td><td> 1.83522559</td><td> 0.45067448</td><td> 1.27837900</td><td> 0.8067217</td><td>0.6614853</td><td> 0.22615759</td><td> 0.40027531</td><td>-0.318377423</td><td> 0.3611585</td><td> 0.44833648</td><td>-0.03776747</td></tr>\n",
       "\t<tr><td> 1.47738706</td><td>-0.51591132</td><td> 0.30430096</td><td>-1.28607930</td><td> 0.85828399</td><td> 1.5576991</td><td>1.3622851</td><td>-0.17559941</td><td> 0.66234866</td><td> 0.729810822</td><td> 0.4049085</td><td> 0.33565890</td><td> 2.23274072</td></tr>\n",
       "\t<tr><td> 1.71142720</td><td>-0.41744613</td><td> 0.30430096</td><td>-1.46574348</td><td>-0.26196936</td><td> 0.3273744</td><td>0.4912911</td><td>-0.49700500</td><td> 0.67982021</td><td> 0.082781041</td><td> 0.2736585</td><td> 1.36384178</td><td> 1.72465497</td></tr>\n",
       "\t<tr><td> 1.30493643</td><td>-0.16680747</td><td> 0.88751034</td><td>-0.56742256</td><td> 1.48842650</td><td> 0.4871569</td><td>0.4812796</td><td>-0.41665360</td><td>-0.59560339</td><td>-0.003489596</td><td> 0.4486584</td><td> 1.36384178</td><td> 1.74053265</td></tr>\n",
       "\t<tr><td> 2.25341491</td><td>-0.62332789</td><td>-0.71631546</td><td>-1.64540766</td><td>-0.19195352</td><td> 0.8067217</td><td>0.9518167</td><td>-0.57735640</td><td> 0.67982021</td><td> 0.061213382</td><td> 0.5361584</td><td> 0.33565890</td><td> 0.94664867</td></tr>\n",
       "\t<tr><td> 1.05857838</td><td>-0.88291793</td><td>-0.35180959</td><td>-1.04652705</td><td>-0.12193769</td><td> 1.0943301</td><td>1.1220109</td><td>-1.13981619</td><td> 0.45268998</td><td> 0.932546820</td><td> 0.2299086</td><td> 1.32158768</td><td> 0.94664867</td></tr>\n",
       "\t<tr><td> 1.35420804</td><td>-0.15785609</td><td>-0.24245783</td><td>-0.44764644</td><td> 0.36817315</td><td> 1.0463954</td><td>1.2922052</td><td>-1.13981619</td><td> 1.37868246</td><td> 0.298457635</td><td> 1.2799079</td><td> 0.78636920</td><td> 2.42327288</td></tr>\n",
       "\t<tr><td> 1.37884384</td><td>-0.76654998</td><td>-0.16955666</td><td>-0.80697481</td><td>-0.33198519</td><td>-0.1519728</td><td>0.4011882</td><td>-0.81841060</td><td>-0.03651359</td><td>-0.025057256</td><td> 0.9299081</td><td> 0.29340481</td><td> 1.69289961</td></tr>\n",
       "\t<tr><td> 0.92308146</td><td>-0.54276546</td><td> 0.15849862</td><td>-1.04652705</td><td>-0.75208020</td><td> 0.4871569</td><td>0.7315653</td><td>-0.57735640</td><td> 0.38280376</td><td> 0.233754657</td><td> 0.8424082</td><td> 0.40608239</td><td> 1.81992105</td></tr>\n",
       "\t<tr><td> 2.15487169</td><td>-0.54276546</td><td> 0.08559744</td><td>-2.42395246</td><td>-0.61204853</td><td> 1.2860690</td><td>1.6626279</td><td> 0.54756319</td><td> 2.12995937</td><td> 0.147484019</td><td> 1.2799079</td><td> 0.16664254</td><td> 1.28007994</td></tr>\n",
       "\t<tr><td> 1.69910930</td><td>-0.41744613</td><td> 0.04914686</td><td>-2.24428828</td><td> 0.15812565</td><td> 1.6056339</td><td>1.6125708</td><td>-0.57735640</td><td> 2.39203271</td><td> 1.053325713</td><td> 1.0611581</td><td> 0.54692935</td><td> 2.54076771</td></tr>\n",
       "\t<tr><td> 0.77526663</td><td>-0.47115441</td><td> 1.21556562</td><td>-0.68719868</td><td> 0.85828399</td><td> 0.8866129</td><td>0.8817367</td><td>-0.49700500</td><td>-0.22870071</td><td> 0.967055075</td><td> 1.4111579</td><td> 0.37791299</td><td> 1.78816569</td></tr>\n",
       "\t<tr><td> 1.60056608</td><td>-0.37268923</td><td> 1.28846679</td><td> 0.15123418</td><td> 1.41841067</td><td> 0.8067217</td><td>1.1119995</td><td>-0.25595080</td><td> 0.66234866</td><td> 0.492566569</td><td> 0.4924084</td><td> 0.05396496</td><td> 1.69289961</td></tr>\n",
       "\t<tr><td> 1.02162467</td><td>-0.68598755</td><td> 0.92396093</td><td> 0.15123418</td><td> 1.06833150</td><td> 1.0463954</td><td>1.3722966</td><td> 0.30650899</td><td> 0.22555975</td><td> 0.665107844</td><td> 0.7549083</td><td>-0.05871261</td><td> 1.21656922</td></tr>\n",
       "\t<tr><td> 1.46506916</td><td>-0.66808479</td><td> 0.41365272</td><td>-0.89680690</td><td> 0.57822065</td><td> 1.6056339</td><td>1.9029021</td><td>-0.33630220</td><td> 0.47016154</td><td> 1.570949537</td><td> 1.1924080</td><td> 0.29340481</td><td> 2.96311399</td></tr>\n",
       "\t<tr><td> 0.78758453</td><td> 0.68357369</td><td> 0.70525741</td><td>-1.28607930</td><td> 1.13834733</td><td> 0.6469393</td><td>1.0018738</td><td>-1.54157319</td><td> 0.12073042</td><td> 0.018078063</td><td> 0.0111587</td><td> 1.05397844</td><td> 0.31154148</td></tr>\n",
       "\t<tr><td> 1.30493643</td><td>-0.63227927</td><td>-0.31535901</td><td>-1.04652705</td><td> 1.83850567</td><td> 1.1262866</td><td>1.1420338</td><td>-0.97911340</td><td> 0.88947889</td><td> 0.255322316</td><td> 0.5799084</td><td> 1.54694284</td><td> 0.10513165</td></tr>\n",
       "\t<tr><td>-0.08698653</td><td> 1.31017034</td><td> 1.03331269</td><td>-0.26798225</td><td> 0.15812565</td><td> 0.1835703</td><td>0.3811654</td><td>-0.89876200</td><td> 0.67982021</td><td>-0.240733849</td><td> 0.3174085</td><td> 1.27933359</td><td> 0.07337629</td></tr>\n",
       "\t<tr><td> 0.87380985</td><td>-0.42639751</td><td>-0.02375431</td><td>-0.86686287</td><td> 0.08810981</td><td> 0.5031351</td><td>0.8517024</td><td>-0.73805920</td><td> 0.17314508</td><td>-0.542681081</td><td> 0.6674083</td><td> 1.95539905</td><td> 0.91489331</td></tr>\n",
       "\t<tr><td>-0.18552975</td><td>-0.65913341</td><td> 0.55945507</td><td>-0.50753450</td><td>-0.33198519</td><td> 0.2954180</td><td>0.3411197</td><td>-0.81841060</td><td>-0.22870071</td><td>-0.486605166</td><td> 0.5799084</td><td> 1.43426526</td><td> 0.85138259</td></tr>\n",
       "\t<tr><td> 0.61513390</td><td>-0.47115441</td><td> 0.88751034</td><td> 0.15123418</td><td>-0.26196936</td><td> 0.3753092</td><td>0.5813939</td><td>-0.65770780</td><td> 0.12073042</td><td>-0.663459973</td><td> 0.7111583</td><td> 1.70187450</td><td> 0.31154148</td></tr>\n",
       "\t<tr><td> 0.06082829</td><td>-0.25632128</td><td> 3.11099611</td><td> 1.64843571</td><td> 1.69847400</td><td> 0.5350916</td><td>0.6514739</td><td> 0.86896878</td><td> 0.57499088</td><td>-0.637578782</td><td> 0.7549083</td><td> 0.82862329</td><td> 0.26390844</td></tr>\n",
       "\t<tr><td> 0.47963697</td><td>-0.50695994</td><td> 0.92396093</td><td>-1.01658302</td><td>-0.47201686</td><td> 0.8866129</td><td>0.9117710</td><td>-0.17559941</td><td>-0.24617226</td><td>-0.111327893</td><td>-0.1638412</td><td> 0.85679269</td><td> 1.42297906</td></tr>\n",
       "\t<tr><td> 0.36877585</td><td>-0.55171684</td><td>-0.82566722</td><td>-0.74708674</td><td>-0.40200103</td><td> 0.1675920</td><td>0.1609140</td><td>-0.73805920</td><td>-0.42088782</td><td>-0.477978102</td><td> 0.2736585</td><td> 0.22298133</td><td> 1.70877729</td></tr>\n",
       "\t<tr><td> 1.07089628</td><td>-0.39059199</td><td> 1.58007149</td><td>-0.02843001</td><td> 0.50820482</td><td> 1.0463954</td><td>0.9418052</td><td> 0.06545479</td><td> 0.29544598</td><td>-0.240733849</td><td> 1.2799079</td><td> 1.11031723</td><td> 0.53382900</td></tr>\n",
       "\t<tr><td> 1.25566482</td><td>-0.58752236</td><td>-0.57051311</td><td>-1.04652705</td><td>-0.26196936</td><td> 0.5670481</td><td>0.3010740</td><td>-0.81841060</td><td> 0.67982021</td><td>-0.154463212</td><td> 0.3611585</td><td> 1.37792647</td><td> 0.91489331</td></tr>\n",
       "\t<tr><td>⋮</td><td>⋮</td><td>⋮</td><td>⋮</td><td>⋮</td><td>⋮</td><td>⋮</td><td>⋮</td><td>⋮</td><td>⋮</td><td>⋮</td><td>⋮</td><td>⋮</td></tr>\n",
       "\t<tr><td> 0.39341166</td><td> 0.80889302</td><td> 0.04914686</td><td> 0.600394638</td><td>-0.5420327</td><td>-0.583385392</td><td>-1.2707200</td><td> 0.7082660</td><td>-0.59560339</td><td>1.45017064</td><td>-1.7825902</td><td>-1.3967588</td><td>-0.307688024</td></tr>\n",
       "\t<tr><td> 0.09778200</td><td> 1.39968415</td><td>-0.02375431</td><td> 0.600394638</td><td> 0.9282998</td><td>-1.414254017</td><td>-0.6400001</td><td>-0.1755994</td><td>-0.78779050</td><td>1.87289677</td><td>-1.6950903</td><td>-1.8052150</td><td>-0.625241617</td></tr>\n",
       "\t<tr><td> 0.61513390</td><td> 0.70147646</td><td> 0.92396093</td><td> 1.348995406</td><td> 1.6284582</td><td>-1.430232259</td><td>-0.4597944</td><td>-1.1398162</td><td>-0.59560339</td><td>1.52781422</td><td>-1.6075903</td><td>-1.8474691</td><td>-0.784018414</td></tr>\n",
       "\t<tr><td>-0.25943717</td><td> 0.29866433</td><td> 0.41365272</td><td> 0.750114792</td><td> 0.8582840</td><td>-1.302406317</td><td>-0.6700344</td><td>-0.9791134</td><td>-0.57813183</td><td>2.47679123</td><td>-2.0888400</td><td>-1.6080293</td><td>-0.847529132</td></tr>\n",
       "\t<tr><td> 0.13473571</td><td>-0.39059199</td><td> 1.39781855</td><td> 1.798155867</td><td> 1.1383473</td><td>-0.151972837</td><td>-0.7501258</td><td>-0.8184106</td><td>-0.05398515</td><td>0.88078444</td><td>-1.5200904</td><td>-1.8052150</td><td>-1.022183609</td></tr>\n",
       "\t<tr><td> 0.28255053</td><td> 0.86260131</td><td>-0.31535901</td><td>-0.297926283</td><td>-0.1219377</td><td>-0.791102548</td><td>-1.2006400</td><td> 1.9938884</td><td> 0.48763309</td><td>2.35601234</td><td>-1.7388402</td><td>-1.5516905</td><td>-0.228299625</td></tr>\n",
       "\t<tr><td>-0.51811312</td><td>-0.93662621</td><td>-0.97146956</td><td> 0.151234178</td><td> 0.2281415</td><td>-1.302406317</td><td>-1.4509256</td><td> 1.3510772</td><td>-0.33353004</td><td>1.09646103</td><td>-1.6513403</td><td>-1.4953517</td><td>-0.339443383</td></tr>\n",
       "\t<tr><td> 0.20864312</td><td> 2.55441226</td><td>-0.16955666</td><td> 0.750114792</td><td>-0.4720169</td><td>-0.886972005</td><td>-1.4008685</td><td> 1.9938884</td><td>-0.07145670</td><td>1.22586699</td><td>-1.5638404</td><td>-1.5939446</td><td>-0.069522829</td></tr>\n",
       "\t<tr><td> 1.03394258</td><td> 1.59661452</td><td> 0.04914686</td><td> 0.001514024</td><td>-0.7520802</td><td>-0.791102548</td><td>-1.2006400</td><td> 0.9493202</td><td>-0.05398515</td><td>1.70466903</td><td>-1.6950903</td><td>-1.3685894</td><td>-0.847529132</td></tr>\n",
       "\t<tr><td>-0.67824585</td><td> 0.62091403</td><td> 0.99686210</td><td> 2.247316327</td><td>-0.1919535</td><td>-0.631320120</td><td>-1.4509256</td><td> 2.1545912</td><td>-0.78779050</td><td>1.05332571</td><td>-1.2575905</td><td>-1.2418272</td><td> 0.422685241</td></tr>\n",
       "\t<tr><td> 1.64983769</td><td>-0.58752236</td><td> 1.21556562</td><td> 1.648435713</td><td>-0.1219377</td><td> 0.806721729</td><td>-0.7200915</td><td> 1.3510772</td><td> 1.93777225</td><td>3.42576824</td><td>-1.6950903</td><td>-0.9178791</td><td>-0.275932664</td></tr>\n",
       "\t<tr><td> 0.59049809</td><td>-0.59647374</td><td> 0.99686210</td><td> 0.899834945</td><td>-0.7520802</td><td> 0.487156874</td><td>-0.9303315</td><td> 1.2707258</td><td> 1.22143845</td><td>2.88657676</td><td>-1.6950903</td><td>-1.1714037</td><td>-0.402954102</td></tr>\n",
       "\t<tr><td>-0.78910697</td><td> 1.33702448</td><td> 0.04914686</td><td> 0.450674485</td><td>-0.8220960</td><td> 0.007809591</td><td>-1.1105371</td><td> 1.1100230</td><td>-0.96250606</td><td>1.11802869</td><td>-1.7388402</td><td>-1.4530976</td><td>-0.720507695</td></tr>\n",
       "\t<tr><td> 0.84917404</td><td> 0.82679579</td><td> 0.63235624</td><td> 0.151234178</td><td> 0.5082048</td><td>-0.743167820</td><td>-1.4709485</td><td> 1.1100230</td><td>-1.38182341</td><td>0.35453355</td><td> 0.0111587</td><td>-1.1150649</td><td>-0.212421946</td></tr>\n",
       "\t<tr><td>-0.18552975</td><td> 0.83574717</td><td> 0.77815859</td><td> 0.750114792</td><td> 0.4381890</td><td>-1.030776190</td><td>-1.4309028</td><td> 1.9135370</td><td>-1.10227851</td><td>0.22512759</td><td>-0.3825911</td><td>-0.7066087</td><td>-0.561730898</td></tr>\n",
       "\t<tr><td>-0.05003283</td><td> 0.99687202</td><td>-0.06020490</td><td>-0.297926283</td><td> 0.4381890</td><td>-1.446210502</td><td>-1.3307885</td><td> 0.3065090</td><td>-1.13722163</td><td>0.09572164</td><td>-1.2138406</td><td>-1.2136578</td><td>-0.228299625</td></tr>\n",
       "\t<tr><td> 0.96003516</td><td> 0.37922675</td><td>-0.24245783</td><td> 0.750114792</td><td>-0.6820644</td><td>-1.510123473</td><td>-1.3508114</td><td> 0.3868604</td><td>-0.97997762</td><td>1.95054034</td><td>-1.1263406</td><td>-1.3122506</td><td>-0.418831781</td></tr>\n",
       "\t<tr><td> 0.89844565</td><td> 1.81144766</td><td>-0.38826018</td><td> 0.899834945</td><td>-0.8220960</td><td>-1.621971173</td><td>-1.5610513</td><td> 1.2707258</td><td>-0.77031895</td><td>0.67373491</td><td>-0.7763408</td><td>-1.2136578</td><td>-0.720507695</td></tr>\n",
       "\t<tr><td> 0.55354439</td><td> 1.22065654</td><td> 0.85105976</td><td> 1.049555099</td><td> 0.7882682</td><td>-0.950884976</td><td>-1.1105371</td><td> 0.5475632</td><td>-0.22870071</td><td>2.42502885</td><td>-0.4700910</td><td>-1.4812670</td><td>-0.164788907</td></tr>\n",
       "\t<tr><td>-0.22248346</td><td> 0.92526097</td><td>-0.24245783</td><td> 0.001514024</td><td>-0.8220960</td><td>-1.302406317</td><td>-1.3708342</td><td> 0.3065090</td><td>-1.08480696</td><td>2.24386051</td><td>-1.0388407</td><td>-1.2136578</td><td>-0.196544266</td></tr>\n",
       "\t<tr><td> 0.71367712</td><td> 0.21810190</td><td> 1.17911504</td><td> 1.498715559</td><td> 0.3681732</td><td>-1.190558618</td><td>-1.1906285</td><td> 0.2261576</td><td>-0.08892826</td><td>1.55369541</td><td>-0.9513407</td><td>-1.1432343</td><td> 0.009865569</td></tr>\n",
       "\t<tr><td> 0.49195487</td><td> 2.02628080</td><td> 1.79877500</td><td> 1.648435713</td><td> 0.8582840</td><td>-0.503494178</td><td>-1.0704914</td><td>-0.7380592</td><td>-0.84020517</td><td>1.48467890</td><td>-1.2575905</td><td>-0.9742179</td><td>-0.371198742</td></tr>\n",
       "\t<tr><td>-0.98619340</td><td> 0.62091403</td><td>-0.16955666</td><td>-0.148206130</td><td>-0.2619694</td><td>-1.669905901</td><td>-1.5410285</td><td> 0.3065090</td><td>-1.50412430</td><td>0.19061934</td><td>-1.3013405</td><td>-1.1009802</td><td>-0.752263054</td></tr>\n",
       "\t<tr><td>-0.28407297</td><td> 0.04802567</td><td>-0.31535901</td><td> 0.001514024</td><td>-0.9621277</td><td>-1.446210502</td><td>-1.5210056</td><td> 0.9493202</td><td>-1.66136831</td><td>2.08857293</td><td>-1.6950903</td><td>-1.3826741</td><td>-0.879284492</td></tr>\n",
       "\t<tr><td> 1.42811545</td><td> 0.15544223</td><td> 0.41365272</td><td> 0.151234178</td><td>-0.6120485</td><td>-0.982841462</td><td>-1.3307885</td><td> 0.6279146</td><td>-0.61307494</td><td>2.00230272</td><td>-1.4763404</td><td>-1.2699965</td><td>-0.275932664</td></tr>\n",
       "\t<tr><td> 0.87380985</td><td> 2.96617577</td><td> 0.30430096</td><td> 0.300954331</td><td>-0.3319852</td><td>-0.982841462</td><td>-1.4208913</td><td> 1.2707258</td><td>-0.92756295</td><td>1.13959635</td><td>-1.3888405</td><td>-1.2277425</td><td>-0.021889790</td></tr>\n",
       "\t<tr><td> 0.49195487</td><td> 1.40863553</td><td> 0.41365272</td><td> 1.049555099</td><td> 0.1581256</td><td>-0.791102548</td><td>-1.2807314</td><td> 0.5475632</td><td>-0.31605849</td><td>0.96705508</td><td>-1.1263406</td><td>-1.4812670</td><td> 0.009865569</td></tr>\n",
       "\t<tr><td> 0.33182214</td><td> 1.73983662</td><td>-0.38826018</td><td> 0.151234178</td><td> 1.4184107</td><td>-1.126645647</td><td>-1.3407999</td><td> 0.5475632</td><td>-0.42088782</td><td>2.21797932</td><td>-1.6075903</td><td>-1.4812670</td><td> 0.279786124</td></tr>\n",
       "\t<tr><td> 0.20864312</td><td> 0.22705328</td><td> 0.01269627</td><td> 0.151234178</td><td> 1.4184107</td><td>-1.030776190</td><td>-1.3508114</td><td> 1.3510772</td><td>-0.22870071</td><td>1.82976145</td><td>-1.5638404</td><td>-1.3967588</td><td> 0.295663803</td></tr>\n",
       "\t<tr><td> 1.39116174</td><td> 1.57871176</td><td> 1.36136797</td><td> 1.498715559</td><td>-0.2619694</td><td>-0.391646479</td><td>-1.2707200</td><td> 1.5921314</td><td>-0.42088782</td><td>1.78662613</td><td>-1.5200904</td><td>-1.4249282</td><td>-0.593486258</td></tr>\n",
       "</tbody>\n",
       "</table>\n"
      ],
      "text/latex": [
       "A data.frame: 178 × 13\n",
       "\\begin{tabular}{lllllllllllll}\n",
       " V2 & V3 & V4 & V5 & V6 & V7 & V8 & V9 & V10 & V11 & V12 & V13 & V14\\\\\n",
       " <dbl> & <dbl> & <dbl> & <dbl> & <dbl> & <dbl> & <dbl> & <dbl> & <dbl> & <dbl> & <dbl> & <dbl> & <dbl>\\\\\n",
       "\\hline\n",
       "\t  1.51434077 & -0.56066822 &  0.23139979 & -1.16630317 &  1.90852151 &  0.8067217 & 1.0319081 & -0.65770780 &  1.22143845 &  0.251008784 &  0.3611585 &  1.84272147 &  1.01015939\\\\\n",
       "\t  0.24559683 & -0.49800856 & -0.82566722 & -2.48384052 &  0.01809398 &  0.5670481 & 0.7315653 & -0.81841060 & -0.54318872 & -0.292496232 &  0.4049085 &  1.11031723 &  0.96252635\\\\\n",
       "\t  0.19632522 &  0.02117152 &  1.10621386 & -0.26798225 &  0.08810981 &  0.8067217 & 1.2121137 & -0.49700500 &  2.12995937 &  0.268262912 &  0.3174085 &  0.78636920 &  1.39122370\\\\\n",
       "\t  1.68679140 & -0.34583508 &  0.48655389 & -0.80697481 &  0.92829983 &  2.4844372 & 1.4623994 & -0.97911340 &  1.02925134 &  1.182731669 & -0.4263410 &  1.18074072 &  2.32800680\\\\\n",
       "\t  0.29486844 &  0.22705328 &  1.83522559 &  0.45067448 &  1.27837900 &  0.8067217 & 0.6614853 &  0.22615759 &  0.40027531 & -0.318377423 &  0.3611585 &  0.44833648 & -0.03776747\\\\\n",
       "\t  1.47738706 & -0.51591132 &  0.30430096 & -1.28607930 &  0.85828399 &  1.5576991 & 1.3622851 & -0.17559941 &  0.66234866 &  0.729810822 &  0.4049085 &  0.33565890 &  2.23274072\\\\\n",
       "\t  1.71142720 & -0.41744613 &  0.30430096 & -1.46574348 & -0.26196936 &  0.3273744 & 0.4912911 & -0.49700500 &  0.67982021 &  0.082781041 &  0.2736585 &  1.36384178 &  1.72465497\\\\\n",
       "\t  1.30493643 & -0.16680747 &  0.88751034 & -0.56742256 &  1.48842650 &  0.4871569 & 0.4812796 & -0.41665360 & -0.59560339 & -0.003489596 &  0.4486584 &  1.36384178 &  1.74053265\\\\\n",
       "\t  2.25341491 & -0.62332789 & -0.71631546 & -1.64540766 & -0.19195352 &  0.8067217 & 0.9518167 & -0.57735640 &  0.67982021 &  0.061213382 &  0.5361584 &  0.33565890 &  0.94664867\\\\\n",
       "\t  1.05857838 & -0.88291793 & -0.35180959 & -1.04652705 & -0.12193769 &  1.0943301 & 1.1220109 & -1.13981619 &  0.45268998 &  0.932546820 &  0.2299086 &  1.32158768 &  0.94664867\\\\\n",
       "\t  1.35420804 & -0.15785609 & -0.24245783 & -0.44764644 &  0.36817315 &  1.0463954 & 1.2922052 & -1.13981619 &  1.37868246 &  0.298457635 &  1.2799079 &  0.78636920 &  2.42327288\\\\\n",
       "\t  1.37884384 & -0.76654998 & -0.16955666 & -0.80697481 & -0.33198519 & -0.1519728 & 0.4011882 & -0.81841060 & -0.03651359 & -0.025057256 &  0.9299081 &  0.29340481 &  1.69289961\\\\\n",
       "\t  0.92308146 & -0.54276546 &  0.15849862 & -1.04652705 & -0.75208020 &  0.4871569 & 0.7315653 & -0.57735640 &  0.38280376 &  0.233754657 &  0.8424082 &  0.40608239 &  1.81992105\\\\\n",
       "\t  2.15487169 & -0.54276546 &  0.08559744 & -2.42395246 & -0.61204853 &  1.2860690 & 1.6626279 &  0.54756319 &  2.12995937 &  0.147484019 &  1.2799079 &  0.16664254 &  1.28007994\\\\\n",
       "\t  1.69910930 & -0.41744613 &  0.04914686 & -2.24428828 &  0.15812565 &  1.6056339 & 1.6125708 & -0.57735640 &  2.39203271 &  1.053325713 &  1.0611581 &  0.54692935 &  2.54076771\\\\\n",
       "\t  0.77526663 & -0.47115441 &  1.21556562 & -0.68719868 &  0.85828399 &  0.8866129 & 0.8817367 & -0.49700500 & -0.22870071 &  0.967055075 &  1.4111579 &  0.37791299 &  1.78816569\\\\\n",
       "\t  1.60056608 & -0.37268923 &  1.28846679 &  0.15123418 &  1.41841067 &  0.8067217 & 1.1119995 & -0.25595080 &  0.66234866 &  0.492566569 &  0.4924084 &  0.05396496 &  1.69289961\\\\\n",
       "\t  1.02162467 & -0.68598755 &  0.92396093 &  0.15123418 &  1.06833150 &  1.0463954 & 1.3722966 &  0.30650899 &  0.22555975 &  0.665107844 &  0.7549083 & -0.05871261 &  1.21656922\\\\\n",
       "\t  1.46506916 & -0.66808479 &  0.41365272 & -0.89680690 &  0.57822065 &  1.6056339 & 1.9029021 & -0.33630220 &  0.47016154 &  1.570949537 &  1.1924080 &  0.29340481 &  2.96311399\\\\\n",
       "\t  0.78758453 &  0.68357369 &  0.70525741 & -1.28607930 &  1.13834733 &  0.6469393 & 1.0018738 & -1.54157319 &  0.12073042 &  0.018078063 &  0.0111587 &  1.05397844 &  0.31154148\\\\\n",
       "\t  1.30493643 & -0.63227927 & -0.31535901 & -1.04652705 &  1.83850567 &  1.1262866 & 1.1420338 & -0.97911340 &  0.88947889 &  0.255322316 &  0.5799084 &  1.54694284 &  0.10513165\\\\\n",
       "\t -0.08698653 &  1.31017034 &  1.03331269 & -0.26798225 &  0.15812565 &  0.1835703 & 0.3811654 & -0.89876200 &  0.67982021 & -0.240733849 &  0.3174085 &  1.27933359 &  0.07337629\\\\\n",
       "\t  0.87380985 & -0.42639751 & -0.02375431 & -0.86686287 &  0.08810981 &  0.5031351 & 0.8517024 & -0.73805920 &  0.17314508 & -0.542681081 &  0.6674083 &  1.95539905 &  0.91489331\\\\\n",
       "\t -0.18552975 & -0.65913341 &  0.55945507 & -0.50753450 & -0.33198519 &  0.2954180 & 0.3411197 & -0.81841060 & -0.22870071 & -0.486605166 &  0.5799084 &  1.43426526 &  0.85138259\\\\\n",
       "\t  0.61513390 & -0.47115441 &  0.88751034 &  0.15123418 & -0.26196936 &  0.3753092 & 0.5813939 & -0.65770780 &  0.12073042 & -0.663459973 &  0.7111583 &  1.70187450 &  0.31154148\\\\\n",
       "\t  0.06082829 & -0.25632128 &  3.11099611 &  1.64843571 &  1.69847400 &  0.5350916 & 0.6514739 &  0.86896878 &  0.57499088 & -0.637578782 &  0.7549083 &  0.82862329 &  0.26390844\\\\\n",
       "\t  0.47963697 & -0.50695994 &  0.92396093 & -1.01658302 & -0.47201686 &  0.8866129 & 0.9117710 & -0.17559941 & -0.24617226 & -0.111327893 & -0.1638412 &  0.85679269 &  1.42297906\\\\\n",
       "\t  0.36877585 & -0.55171684 & -0.82566722 & -0.74708674 & -0.40200103 &  0.1675920 & 0.1609140 & -0.73805920 & -0.42088782 & -0.477978102 &  0.2736585 &  0.22298133 &  1.70877729\\\\\n",
       "\t  1.07089628 & -0.39059199 &  1.58007149 & -0.02843001 &  0.50820482 &  1.0463954 & 0.9418052 &  0.06545479 &  0.29544598 & -0.240733849 &  1.2799079 &  1.11031723 &  0.53382900\\\\\n",
       "\t  1.25566482 & -0.58752236 & -0.57051311 & -1.04652705 & -0.26196936 &  0.5670481 & 0.3010740 & -0.81841060 &  0.67982021 & -0.154463212 &  0.3611585 &  1.37792647 &  0.91489331\\\\\n",
       "\t ⋮ & ⋮ & ⋮ & ⋮ & ⋮ & ⋮ & ⋮ & ⋮ & ⋮ & ⋮ & ⋮ & ⋮ & ⋮\\\\\n",
       "\t  0.39341166 &  0.80889302 &  0.04914686 &  0.600394638 & -0.5420327 & -0.583385392 & -1.2707200 &  0.7082660 & -0.59560339 & 1.45017064 & -1.7825902 & -1.3967588 & -0.307688024\\\\\n",
       "\t  0.09778200 &  1.39968415 & -0.02375431 &  0.600394638 &  0.9282998 & -1.414254017 & -0.6400001 & -0.1755994 & -0.78779050 & 1.87289677 & -1.6950903 & -1.8052150 & -0.625241617\\\\\n",
       "\t  0.61513390 &  0.70147646 &  0.92396093 &  1.348995406 &  1.6284582 & -1.430232259 & -0.4597944 & -1.1398162 & -0.59560339 & 1.52781422 & -1.6075903 & -1.8474691 & -0.784018414\\\\\n",
       "\t -0.25943717 &  0.29866433 &  0.41365272 &  0.750114792 &  0.8582840 & -1.302406317 & -0.6700344 & -0.9791134 & -0.57813183 & 2.47679123 & -2.0888400 & -1.6080293 & -0.847529132\\\\\n",
       "\t  0.13473571 & -0.39059199 &  1.39781855 &  1.798155867 &  1.1383473 & -0.151972837 & -0.7501258 & -0.8184106 & -0.05398515 & 0.88078444 & -1.5200904 & -1.8052150 & -1.022183609\\\\\n",
       "\t  0.28255053 &  0.86260131 & -0.31535901 & -0.297926283 & -0.1219377 & -0.791102548 & -1.2006400 &  1.9938884 &  0.48763309 & 2.35601234 & -1.7388402 & -1.5516905 & -0.228299625\\\\\n",
       "\t -0.51811312 & -0.93662621 & -0.97146956 &  0.151234178 &  0.2281415 & -1.302406317 & -1.4509256 &  1.3510772 & -0.33353004 & 1.09646103 & -1.6513403 & -1.4953517 & -0.339443383\\\\\n",
       "\t  0.20864312 &  2.55441226 & -0.16955666 &  0.750114792 & -0.4720169 & -0.886972005 & -1.4008685 &  1.9938884 & -0.07145670 & 1.22586699 & -1.5638404 & -1.5939446 & -0.069522829\\\\\n",
       "\t  1.03394258 &  1.59661452 &  0.04914686 &  0.001514024 & -0.7520802 & -0.791102548 & -1.2006400 &  0.9493202 & -0.05398515 & 1.70466903 & -1.6950903 & -1.3685894 & -0.847529132\\\\\n",
       "\t -0.67824585 &  0.62091403 &  0.99686210 &  2.247316327 & -0.1919535 & -0.631320120 & -1.4509256 &  2.1545912 & -0.78779050 & 1.05332571 & -1.2575905 & -1.2418272 &  0.422685241\\\\\n",
       "\t  1.64983769 & -0.58752236 &  1.21556562 &  1.648435713 & -0.1219377 &  0.806721729 & -0.7200915 &  1.3510772 &  1.93777225 & 3.42576824 & -1.6950903 & -0.9178791 & -0.275932664\\\\\n",
       "\t  0.59049809 & -0.59647374 &  0.99686210 &  0.899834945 & -0.7520802 &  0.487156874 & -0.9303315 &  1.2707258 &  1.22143845 & 2.88657676 & -1.6950903 & -1.1714037 & -0.402954102\\\\\n",
       "\t -0.78910697 &  1.33702448 &  0.04914686 &  0.450674485 & -0.8220960 &  0.007809591 & -1.1105371 &  1.1100230 & -0.96250606 & 1.11802869 & -1.7388402 & -1.4530976 & -0.720507695\\\\\n",
       "\t  0.84917404 &  0.82679579 &  0.63235624 &  0.151234178 &  0.5082048 & -0.743167820 & -1.4709485 &  1.1100230 & -1.38182341 & 0.35453355 &  0.0111587 & -1.1150649 & -0.212421946\\\\\n",
       "\t -0.18552975 &  0.83574717 &  0.77815859 &  0.750114792 &  0.4381890 & -1.030776190 & -1.4309028 &  1.9135370 & -1.10227851 & 0.22512759 & -0.3825911 & -0.7066087 & -0.561730898\\\\\n",
       "\t -0.05003283 &  0.99687202 & -0.06020490 & -0.297926283 &  0.4381890 & -1.446210502 & -1.3307885 &  0.3065090 & -1.13722163 & 0.09572164 & -1.2138406 & -1.2136578 & -0.228299625\\\\\n",
       "\t  0.96003516 &  0.37922675 & -0.24245783 &  0.750114792 & -0.6820644 & -1.510123473 & -1.3508114 &  0.3868604 & -0.97997762 & 1.95054034 & -1.1263406 & -1.3122506 & -0.418831781\\\\\n",
       "\t  0.89844565 &  1.81144766 & -0.38826018 &  0.899834945 & -0.8220960 & -1.621971173 & -1.5610513 &  1.2707258 & -0.77031895 & 0.67373491 & -0.7763408 & -1.2136578 & -0.720507695\\\\\n",
       "\t  0.55354439 &  1.22065654 &  0.85105976 &  1.049555099 &  0.7882682 & -0.950884976 & -1.1105371 &  0.5475632 & -0.22870071 & 2.42502885 & -0.4700910 & -1.4812670 & -0.164788907\\\\\n",
       "\t -0.22248346 &  0.92526097 & -0.24245783 &  0.001514024 & -0.8220960 & -1.302406317 & -1.3708342 &  0.3065090 & -1.08480696 & 2.24386051 & -1.0388407 & -1.2136578 & -0.196544266\\\\\n",
       "\t  0.71367712 &  0.21810190 &  1.17911504 &  1.498715559 &  0.3681732 & -1.190558618 & -1.1906285 &  0.2261576 & -0.08892826 & 1.55369541 & -0.9513407 & -1.1432343 &  0.009865569\\\\\n",
       "\t  0.49195487 &  2.02628080 &  1.79877500 &  1.648435713 &  0.8582840 & -0.503494178 & -1.0704914 & -0.7380592 & -0.84020517 & 1.48467890 & -1.2575905 & -0.9742179 & -0.371198742\\\\\n",
       "\t -0.98619340 &  0.62091403 & -0.16955666 & -0.148206130 & -0.2619694 & -1.669905901 & -1.5410285 &  0.3065090 & -1.50412430 & 0.19061934 & -1.3013405 & -1.1009802 & -0.752263054\\\\\n",
       "\t -0.28407297 &  0.04802567 & -0.31535901 &  0.001514024 & -0.9621277 & -1.446210502 & -1.5210056 &  0.9493202 & -1.66136831 & 2.08857293 & -1.6950903 & -1.3826741 & -0.879284492\\\\\n",
       "\t  1.42811545 &  0.15544223 &  0.41365272 &  0.151234178 & -0.6120485 & -0.982841462 & -1.3307885 &  0.6279146 & -0.61307494 & 2.00230272 & -1.4763404 & -1.2699965 & -0.275932664\\\\\n",
       "\t  0.87380985 &  2.96617577 &  0.30430096 &  0.300954331 & -0.3319852 & -0.982841462 & -1.4208913 &  1.2707258 & -0.92756295 & 1.13959635 & -1.3888405 & -1.2277425 & -0.021889790\\\\\n",
       "\t  0.49195487 &  1.40863553 &  0.41365272 &  1.049555099 &  0.1581256 & -0.791102548 & -1.2807314 &  0.5475632 & -0.31605849 & 0.96705508 & -1.1263406 & -1.4812670 &  0.009865569\\\\\n",
       "\t  0.33182214 &  1.73983662 & -0.38826018 &  0.151234178 &  1.4184107 & -1.126645647 & -1.3407999 &  0.5475632 & -0.42088782 & 2.21797932 & -1.6075903 & -1.4812670 &  0.279786124\\\\\n",
       "\t  0.20864312 &  0.22705328 &  0.01269627 &  0.151234178 &  1.4184107 & -1.030776190 & -1.3508114 &  1.3510772 & -0.22870071 & 1.82976145 & -1.5638404 & -1.3967588 &  0.295663803\\\\\n",
       "\t  1.39116174 &  1.57871176 &  1.36136797 &  1.498715559 & -0.2619694 & -0.391646479 & -1.2707200 &  1.5921314 & -0.42088782 & 1.78662613 & -1.5200904 & -1.4249282 & -0.593486258\\\\\n",
       "\\end{tabular}\n"
      ],
      "text/markdown": [
       "\n",
       "A data.frame: 178 × 13\n",
       "\n",
       "| V2 &lt;dbl&gt; | V3 &lt;dbl&gt; | V4 &lt;dbl&gt; | V5 &lt;dbl&gt; | V6 &lt;dbl&gt; | V7 &lt;dbl&gt; | V8 &lt;dbl&gt; | V9 &lt;dbl&gt; | V10 &lt;dbl&gt; | V11 &lt;dbl&gt; | V12 &lt;dbl&gt; | V13 &lt;dbl&gt; | V14 &lt;dbl&gt; |\n",
       "|---|---|---|---|---|---|---|---|---|---|---|---|---|\n",
       "|  1.51434077 | -0.56066822 |  0.23139979 | -1.16630317 |  1.90852151 |  0.8067217 | 1.0319081 | -0.65770780 |  1.22143845 |  0.251008784 |  0.3611585 |  1.84272147 |  1.01015939 |\n",
       "|  0.24559683 | -0.49800856 | -0.82566722 | -2.48384052 |  0.01809398 |  0.5670481 | 0.7315653 | -0.81841060 | -0.54318872 | -0.292496232 |  0.4049085 |  1.11031723 |  0.96252635 |\n",
       "|  0.19632522 |  0.02117152 |  1.10621386 | -0.26798225 |  0.08810981 |  0.8067217 | 1.2121137 | -0.49700500 |  2.12995937 |  0.268262912 |  0.3174085 |  0.78636920 |  1.39122370 |\n",
       "|  1.68679140 | -0.34583508 |  0.48655389 | -0.80697481 |  0.92829983 |  2.4844372 | 1.4623994 | -0.97911340 |  1.02925134 |  1.182731669 | -0.4263410 |  1.18074072 |  2.32800680 |\n",
       "|  0.29486844 |  0.22705328 |  1.83522559 |  0.45067448 |  1.27837900 |  0.8067217 | 0.6614853 |  0.22615759 |  0.40027531 | -0.318377423 |  0.3611585 |  0.44833648 | -0.03776747 |\n",
       "|  1.47738706 | -0.51591132 |  0.30430096 | -1.28607930 |  0.85828399 |  1.5576991 | 1.3622851 | -0.17559941 |  0.66234866 |  0.729810822 |  0.4049085 |  0.33565890 |  2.23274072 |\n",
       "|  1.71142720 | -0.41744613 |  0.30430096 | -1.46574348 | -0.26196936 |  0.3273744 | 0.4912911 | -0.49700500 |  0.67982021 |  0.082781041 |  0.2736585 |  1.36384178 |  1.72465497 |\n",
       "|  1.30493643 | -0.16680747 |  0.88751034 | -0.56742256 |  1.48842650 |  0.4871569 | 0.4812796 | -0.41665360 | -0.59560339 | -0.003489596 |  0.4486584 |  1.36384178 |  1.74053265 |\n",
       "|  2.25341491 | -0.62332789 | -0.71631546 | -1.64540766 | -0.19195352 |  0.8067217 | 0.9518167 | -0.57735640 |  0.67982021 |  0.061213382 |  0.5361584 |  0.33565890 |  0.94664867 |\n",
       "|  1.05857838 | -0.88291793 | -0.35180959 | -1.04652705 | -0.12193769 |  1.0943301 | 1.1220109 | -1.13981619 |  0.45268998 |  0.932546820 |  0.2299086 |  1.32158768 |  0.94664867 |\n",
       "|  1.35420804 | -0.15785609 | -0.24245783 | -0.44764644 |  0.36817315 |  1.0463954 | 1.2922052 | -1.13981619 |  1.37868246 |  0.298457635 |  1.2799079 |  0.78636920 |  2.42327288 |\n",
       "|  1.37884384 | -0.76654998 | -0.16955666 | -0.80697481 | -0.33198519 | -0.1519728 | 0.4011882 | -0.81841060 | -0.03651359 | -0.025057256 |  0.9299081 |  0.29340481 |  1.69289961 |\n",
       "|  0.92308146 | -0.54276546 |  0.15849862 | -1.04652705 | -0.75208020 |  0.4871569 | 0.7315653 | -0.57735640 |  0.38280376 |  0.233754657 |  0.8424082 |  0.40608239 |  1.81992105 |\n",
       "|  2.15487169 | -0.54276546 |  0.08559744 | -2.42395246 | -0.61204853 |  1.2860690 | 1.6626279 |  0.54756319 |  2.12995937 |  0.147484019 |  1.2799079 |  0.16664254 |  1.28007994 |\n",
       "|  1.69910930 | -0.41744613 |  0.04914686 | -2.24428828 |  0.15812565 |  1.6056339 | 1.6125708 | -0.57735640 |  2.39203271 |  1.053325713 |  1.0611581 |  0.54692935 |  2.54076771 |\n",
       "|  0.77526663 | -0.47115441 |  1.21556562 | -0.68719868 |  0.85828399 |  0.8866129 | 0.8817367 | -0.49700500 | -0.22870071 |  0.967055075 |  1.4111579 |  0.37791299 |  1.78816569 |\n",
       "|  1.60056608 | -0.37268923 |  1.28846679 |  0.15123418 |  1.41841067 |  0.8067217 | 1.1119995 | -0.25595080 |  0.66234866 |  0.492566569 |  0.4924084 |  0.05396496 |  1.69289961 |\n",
       "|  1.02162467 | -0.68598755 |  0.92396093 |  0.15123418 |  1.06833150 |  1.0463954 | 1.3722966 |  0.30650899 |  0.22555975 |  0.665107844 |  0.7549083 | -0.05871261 |  1.21656922 |\n",
       "|  1.46506916 | -0.66808479 |  0.41365272 | -0.89680690 |  0.57822065 |  1.6056339 | 1.9029021 | -0.33630220 |  0.47016154 |  1.570949537 |  1.1924080 |  0.29340481 |  2.96311399 |\n",
       "|  0.78758453 |  0.68357369 |  0.70525741 | -1.28607930 |  1.13834733 |  0.6469393 | 1.0018738 | -1.54157319 |  0.12073042 |  0.018078063 |  0.0111587 |  1.05397844 |  0.31154148 |\n",
       "|  1.30493643 | -0.63227927 | -0.31535901 | -1.04652705 |  1.83850567 |  1.1262866 | 1.1420338 | -0.97911340 |  0.88947889 |  0.255322316 |  0.5799084 |  1.54694284 |  0.10513165 |\n",
       "| -0.08698653 |  1.31017034 |  1.03331269 | -0.26798225 |  0.15812565 |  0.1835703 | 0.3811654 | -0.89876200 |  0.67982021 | -0.240733849 |  0.3174085 |  1.27933359 |  0.07337629 |\n",
       "|  0.87380985 | -0.42639751 | -0.02375431 | -0.86686287 |  0.08810981 |  0.5031351 | 0.8517024 | -0.73805920 |  0.17314508 | -0.542681081 |  0.6674083 |  1.95539905 |  0.91489331 |\n",
       "| -0.18552975 | -0.65913341 |  0.55945507 | -0.50753450 | -0.33198519 |  0.2954180 | 0.3411197 | -0.81841060 | -0.22870071 | -0.486605166 |  0.5799084 |  1.43426526 |  0.85138259 |\n",
       "|  0.61513390 | -0.47115441 |  0.88751034 |  0.15123418 | -0.26196936 |  0.3753092 | 0.5813939 | -0.65770780 |  0.12073042 | -0.663459973 |  0.7111583 |  1.70187450 |  0.31154148 |\n",
       "|  0.06082829 | -0.25632128 |  3.11099611 |  1.64843571 |  1.69847400 |  0.5350916 | 0.6514739 |  0.86896878 |  0.57499088 | -0.637578782 |  0.7549083 |  0.82862329 |  0.26390844 |\n",
       "|  0.47963697 | -0.50695994 |  0.92396093 | -1.01658302 | -0.47201686 |  0.8866129 | 0.9117710 | -0.17559941 | -0.24617226 | -0.111327893 | -0.1638412 |  0.85679269 |  1.42297906 |\n",
       "|  0.36877585 | -0.55171684 | -0.82566722 | -0.74708674 | -0.40200103 |  0.1675920 | 0.1609140 | -0.73805920 | -0.42088782 | -0.477978102 |  0.2736585 |  0.22298133 |  1.70877729 |\n",
       "|  1.07089628 | -0.39059199 |  1.58007149 | -0.02843001 |  0.50820482 |  1.0463954 | 0.9418052 |  0.06545479 |  0.29544598 | -0.240733849 |  1.2799079 |  1.11031723 |  0.53382900 |\n",
       "|  1.25566482 | -0.58752236 | -0.57051311 | -1.04652705 | -0.26196936 |  0.5670481 | 0.3010740 | -0.81841060 |  0.67982021 | -0.154463212 |  0.3611585 |  1.37792647 |  0.91489331 |\n",
       "| ⋮ | ⋮ | ⋮ | ⋮ | ⋮ | ⋮ | ⋮ | ⋮ | ⋮ | ⋮ | ⋮ | ⋮ | ⋮ |\n",
       "|  0.39341166 |  0.80889302 |  0.04914686 |  0.600394638 | -0.5420327 | -0.583385392 | -1.2707200 |  0.7082660 | -0.59560339 | 1.45017064 | -1.7825902 | -1.3967588 | -0.307688024 |\n",
       "|  0.09778200 |  1.39968415 | -0.02375431 |  0.600394638 |  0.9282998 | -1.414254017 | -0.6400001 | -0.1755994 | -0.78779050 | 1.87289677 | -1.6950903 | -1.8052150 | -0.625241617 |\n",
       "|  0.61513390 |  0.70147646 |  0.92396093 |  1.348995406 |  1.6284582 | -1.430232259 | -0.4597944 | -1.1398162 | -0.59560339 | 1.52781422 | -1.6075903 | -1.8474691 | -0.784018414 |\n",
       "| -0.25943717 |  0.29866433 |  0.41365272 |  0.750114792 |  0.8582840 | -1.302406317 | -0.6700344 | -0.9791134 | -0.57813183 | 2.47679123 | -2.0888400 | -1.6080293 | -0.847529132 |\n",
       "|  0.13473571 | -0.39059199 |  1.39781855 |  1.798155867 |  1.1383473 | -0.151972837 | -0.7501258 | -0.8184106 | -0.05398515 | 0.88078444 | -1.5200904 | -1.8052150 | -1.022183609 |\n",
       "|  0.28255053 |  0.86260131 | -0.31535901 | -0.297926283 | -0.1219377 | -0.791102548 | -1.2006400 |  1.9938884 |  0.48763309 | 2.35601234 | -1.7388402 | -1.5516905 | -0.228299625 |\n",
       "| -0.51811312 | -0.93662621 | -0.97146956 |  0.151234178 |  0.2281415 | -1.302406317 | -1.4509256 |  1.3510772 | -0.33353004 | 1.09646103 | -1.6513403 | -1.4953517 | -0.339443383 |\n",
       "|  0.20864312 |  2.55441226 | -0.16955666 |  0.750114792 | -0.4720169 | -0.886972005 | -1.4008685 |  1.9938884 | -0.07145670 | 1.22586699 | -1.5638404 | -1.5939446 | -0.069522829 |\n",
       "|  1.03394258 |  1.59661452 |  0.04914686 |  0.001514024 | -0.7520802 | -0.791102548 | -1.2006400 |  0.9493202 | -0.05398515 | 1.70466903 | -1.6950903 | -1.3685894 | -0.847529132 |\n",
       "| -0.67824585 |  0.62091403 |  0.99686210 |  2.247316327 | -0.1919535 | -0.631320120 | -1.4509256 |  2.1545912 | -0.78779050 | 1.05332571 | -1.2575905 | -1.2418272 |  0.422685241 |\n",
       "|  1.64983769 | -0.58752236 |  1.21556562 |  1.648435713 | -0.1219377 |  0.806721729 | -0.7200915 |  1.3510772 |  1.93777225 | 3.42576824 | -1.6950903 | -0.9178791 | -0.275932664 |\n",
       "|  0.59049809 | -0.59647374 |  0.99686210 |  0.899834945 | -0.7520802 |  0.487156874 | -0.9303315 |  1.2707258 |  1.22143845 | 2.88657676 | -1.6950903 | -1.1714037 | -0.402954102 |\n",
       "| -0.78910697 |  1.33702448 |  0.04914686 |  0.450674485 | -0.8220960 |  0.007809591 | -1.1105371 |  1.1100230 | -0.96250606 | 1.11802869 | -1.7388402 | -1.4530976 | -0.720507695 |\n",
       "|  0.84917404 |  0.82679579 |  0.63235624 |  0.151234178 |  0.5082048 | -0.743167820 | -1.4709485 |  1.1100230 | -1.38182341 | 0.35453355 |  0.0111587 | -1.1150649 | -0.212421946 |\n",
       "| -0.18552975 |  0.83574717 |  0.77815859 |  0.750114792 |  0.4381890 | -1.030776190 | -1.4309028 |  1.9135370 | -1.10227851 | 0.22512759 | -0.3825911 | -0.7066087 | -0.561730898 |\n",
       "| -0.05003283 |  0.99687202 | -0.06020490 | -0.297926283 |  0.4381890 | -1.446210502 | -1.3307885 |  0.3065090 | -1.13722163 | 0.09572164 | -1.2138406 | -1.2136578 | -0.228299625 |\n",
       "|  0.96003516 |  0.37922675 | -0.24245783 |  0.750114792 | -0.6820644 | -1.510123473 | -1.3508114 |  0.3868604 | -0.97997762 | 1.95054034 | -1.1263406 | -1.3122506 | -0.418831781 |\n",
       "|  0.89844565 |  1.81144766 | -0.38826018 |  0.899834945 | -0.8220960 | -1.621971173 | -1.5610513 |  1.2707258 | -0.77031895 | 0.67373491 | -0.7763408 | -1.2136578 | -0.720507695 |\n",
       "|  0.55354439 |  1.22065654 |  0.85105976 |  1.049555099 |  0.7882682 | -0.950884976 | -1.1105371 |  0.5475632 | -0.22870071 | 2.42502885 | -0.4700910 | -1.4812670 | -0.164788907 |\n",
       "| -0.22248346 |  0.92526097 | -0.24245783 |  0.001514024 | -0.8220960 | -1.302406317 | -1.3708342 |  0.3065090 | -1.08480696 | 2.24386051 | -1.0388407 | -1.2136578 | -0.196544266 |\n",
       "|  0.71367712 |  0.21810190 |  1.17911504 |  1.498715559 |  0.3681732 | -1.190558618 | -1.1906285 |  0.2261576 | -0.08892826 | 1.55369541 | -0.9513407 | -1.1432343 |  0.009865569 |\n",
       "|  0.49195487 |  2.02628080 |  1.79877500 |  1.648435713 |  0.8582840 | -0.503494178 | -1.0704914 | -0.7380592 | -0.84020517 | 1.48467890 | -1.2575905 | -0.9742179 | -0.371198742 |\n",
       "| -0.98619340 |  0.62091403 | -0.16955666 | -0.148206130 | -0.2619694 | -1.669905901 | -1.5410285 |  0.3065090 | -1.50412430 | 0.19061934 | -1.3013405 | -1.1009802 | -0.752263054 |\n",
       "| -0.28407297 |  0.04802567 | -0.31535901 |  0.001514024 | -0.9621277 | -1.446210502 | -1.5210056 |  0.9493202 | -1.66136831 | 2.08857293 | -1.6950903 | -1.3826741 | -0.879284492 |\n",
       "|  1.42811545 |  0.15544223 |  0.41365272 |  0.151234178 | -0.6120485 | -0.982841462 | -1.3307885 |  0.6279146 | -0.61307494 | 2.00230272 | -1.4763404 | -1.2699965 | -0.275932664 |\n",
       "|  0.87380985 |  2.96617577 |  0.30430096 |  0.300954331 | -0.3319852 | -0.982841462 | -1.4208913 |  1.2707258 | -0.92756295 | 1.13959635 | -1.3888405 | -1.2277425 | -0.021889790 |\n",
       "|  0.49195487 |  1.40863553 |  0.41365272 |  1.049555099 |  0.1581256 | -0.791102548 | -1.2807314 |  0.5475632 | -0.31605849 | 0.96705508 | -1.1263406 | -1.4812670 |  0.009865569 |\n",
       "|  0.33182214 |  1.73983662 | -0.38826018 |  0.151234178 |  1.4184107 | -1.126645647 | -1.3407999 |  0.5475632 | -0.42088782 | 2.21797932 | -1.6075903 | -1.4812670 |  0.279786124 |\n",
       "|  0.20864312 |  0.22705328 |  0.01269627 |  0.151234178 |  1.4184107 | -1.030776190 | -1.3508114 |  1.3510772 | -0.22870071 | 1.82976145 | -1.5638404 | -1.3967588 |  0.295663803 |\n",
       "|  1.39116174 |  1.57871176 |  1.36136797 |  1.498715559 | -0.2619694 | -0.391646479 | -1.2707200 |  1.5921314 | -0.42088782 | 1.78662613 | -1.5200904 | -1.4249282 | -0.593486258 |\n",
       "\n"
      ],
      "text/plain": [
       "    V2          V3          V4          V5           V6          V7          \n",
       "1    1.51434077 -0.56066822  0.23139979 -1.16630317   1.90852151  0.8067217  \n",
       "2    0.24559683 -0.49800856 -0.82566722 -2.48384052   0.01809398  0.5670481  \n",
       "3    0.19632522  0.02117152  1.10621386 -0.26798225   0.08810981  0.8067217  \n",
       "4    1.68679140 -0.34583508  0.48655389 -0.80697481   0.92829983  2.4844372  \n",
       "5    0.29486844  0.22705328  1.83522559  0.45067448   1.27837900  0.8067217  \n",
       "6    1.47738706 -0.51591132  0.30430096 -1.28607930   0.85828399  1.5576991  \n",
       "7    1.71142720 -0.41744613  0.30430096 -1.46574348  -0.26196936  0.3273744  \n",
       "8    1.30493643 -0.16680747  0.88751034 -0.56742256   1.48842650  0.4871569  \n",
       "9    2.25341491 -0.62332789 -0.71631546 -1.64540766  -0.19195352  0.8067217  \n",
       "10   1.05857838 -0.88291793 -0.35180959 -1.04652705  -0.12193769  1.0943301  \n",
       "11   1.35420804 -0.15785609 -0.24245783 -0.44764644   0.36817315  1.0463954  \n",
       "12   1.37884384 -0.76654998 -0.16955666 -0.80697481  -0.33198519 -0.1519728  \n",
       "13   0.92308146 -0.54276546  0.15849862 -1.04652705  -0.75208020  0.4871569  \n",
       "14   2.15487169 -0.54276546  0.08559744 -2.42395246  -0.61204853  1.2860690  \n",
       "15   1.69910930 -0.41744613  0.04914686 -2.24428828   0.15812565  1.6056339  \n",
       "16   0.77526663 -0.47115441  1.21556562 -0.68719868   0.85828399  0.8866129  \n",
       "17   1.60056608 -0.37268923  1.28846679  0.15123418   1.41841067  0.8067217  \n",
       "18   1.02162467 -0.68598755  0.92396093  0.15123418   1.06833150  1.0463954  \n",
       "19   1.46506916 -0.66808479  0.41365272 -0.89680690   0.57822065  1.6056339  \n",
       "20   0.78758453  0.68357369  0.70525741 -1.28607930   1.13834733  0.6469393  \n",
       "21   1.30493643 -0.63227927 -0.31535901 -1.04652705   1.83850567  1.1262866  \n",
       "22  -0.08698653  1.31017034  1.03331269 -0.26798225   0.15812565  0.1835703  \n",
       "23   0.87380985 -0.42639751 -0.02375431 -0.86686287   0.08810981  0.5031351  \n",
       "24  -0.18552975 -0.65913341  0.55945507 -0.50753450  -0.33198519  0.2954180  \n",
       "25   0.61513390 -0.47115441  0.88751034  0.15123418  -0.26196936  0.3753092  \n",
       "26   0.06082829 -0.25632128  3.11099611  1.64843571   1.69847400  0.5350916  \n",
       "27   0.47963697 -0.50695994  0.92396093 -1.01658302  -0.47201686  0.8866129  \n",
       "28   0.36877585 -0.55171684 -0.82566722 -0.74708674  -0.40200103  0.1675920  \n",
       "29   1.07089628 -0.39059199  1.58007149 -0.02843001   0.50820482  1.0463954  \n",
       "30   1.25566482 -0.58752236 -0.57051311 -1.04652705  -0.26196936  0.5670481  \n",
       "⋮   ⋮           ⋮           ⋮           ⋮            ⋮           ⋮           \n",
       "149  0.39341166  0.80889302  0.04914686  0.600394638 -0.5420327  -0.583385392\n",
       "150  0.09778200  1.39968415 -0.02375431  0.600394638  0.9282998  -1.414254017\n",
       "151  0.61513390  0.70147646  0.92396093  1.348995406  1.6284582  -1.430232259\n",
       "152 -0.25943717  0.29866433  0.41365272  0.750114792  0.8582840  -1.302406317\n",
       "153  0.13473571 -0.39059199  1.39781855  1.798155867  1.1383473  -0.151972837\n",
       "154  0.28255053  0.86260131 -0.31535901 -0.297926283 -0.1219377  -0.791102548\n",
       "155 -0.51811312 -0.93662621 -0.97146956  0.151234178  0.2281415  -1.302406317\n",
       "156  0.20864312  2.55441226 -0.16955666  0.750114792 -0.4720169  -0.886972005\n",
       "157  1.03394258  1.59661452  0.04914686  0.001514024 -0.7520802  -0.791102548\n",
       "158 -0.67824585  0.62091403  0.99686210  2.247316327 -0.1919535  -0.631320120\n",
       "159  1.64983769 -0.58752236  1.21556562  1.648435713 -0.1219377   0.806721729\n",
       "160  0.59049809 -0.59647374  0.99686210  0.899834945 -0.7520802   0.487156874\n",
       "161 -0.78910697  1.33702448  0.04914686  0.450674485 -0.8220960   0.007809591\n",
       "162  0.84917404  0.82679579  0.63235624  0.151234178  0.5082048  -0.743167820\n",
       "163 -0.18552975  0.83574717  0.77815859  0.750114792  0.4381890  -1.030776190\n",
       "164 -0.05003283  0.99687202 -0.06020490 -0.297926283  0.4381890  -1.446210502\n",
       "165  0.96003516  0.37922675 -0.24245783  0.750114792 -0.6820644  -1.510123473\n",
       "166  0.89844565  1.81144766 -0.38826018  0.899834945 -0.8220960  -1.621971173\n",
       "167  0.55354439  1.22065654  0.85105976  1.049555099  0.7882682  -0.950884976\n",
       "168 -0.22248346  0.92526097 -0.24245783  0.001514024 -0.8220960  -1.302406317\n",
       "169  0.71367712  0.21810190  1.17911504  1.498715559  0.3681732  -1.190558618\n",
       "170  0.49195487  2.02628080  1.79877500  1.648435713  0.8582840  -0.503494178\n",
       "171 -0.98619340  0.62091403 -0.16955666 -0.148206130 -0.2619694  -1.669905901\n",
       "172 -0.28407297  0.04802567 -0.31535901  0.001514024 -0.9621277  -1.446210502\n",
       "173  1.42811545  0.15544223  0.41365272  0.151234178 -0.6120485  -0.982841462\n",
       "174  0.87380985  2.96617577  0.30430096  0.300954331 -0.3319852  -0.982841462\n",
       "175  0.49195487  1.40863553  0.41365272  1.049555099  0.1581256  -0.791102548\n",
       "176  0.33182214  1.73983662 -0.38826018  0.151234178  1.4184107  -1.126645647\n",
       "177  0.20864312  0.22705328  0.01269627  0.151234178  1.4184107  -1.030776190\n",
       "178  1.39116174  1.57871176  1.36136797  1.498715559 -0.2619694  -0.391646479\n",
       "    V8         V9          V10         V11          V12        V13        \n",
       "1   1.0319081  -0.65770780  1.22143845  0.251008784  0.3611585  1.84272147\n",
       "2   0.7315653  -0.81841060 -0.54318872 -0.292496232  0.4049085  1.11031723\n",
       "3   1.2121137  -0.49700500  2.12995937  0.268262912  0.3174085  0.78636920\n",
       "4   1.4623994  -0.97911340  1.02925134  1.182731669 -0.4263410  1.18074072\n",
       "5   0.6614853   0.22615759  0.40027531 -0.318377423  0.3611585  0.44833648\n",
       "6   1.3622851  -0.17559941  0.66234866  0.729810822  0.4049085  0.33565890\n",
       "7   0.4912911  -0.49700500  0.67982021  0.082781041  0.2736585  1.36384178\n",
       "8   0.4812796  -0.41665360 -0.59560339 -0.003489596  0.4486584  1.36384178\n",
       "9   0.9518167  -0.57735640  0.67982021  0.061213382  0.5361584  0.33565890\n",
       "10  1.1220109  -1.13981619  0.45268998  0.932546820  0.2299086  1.32158768\n",
       "11  1.2922052  -1.13981619  1.37868246  0.298457635  1.2799079  0.78636920\n",
       "12  0.4011882  -0.81841060 -0.03651359 -0.025057256  0.9299081  0.29340481\n",
       "13  0.7315653  -0.57735640  0.38280376  0.233754657  0.8424082  0.40608239\n",
       "14  1.6626279   0.54756319  2.12995937  0.147484019  1.2799079  0.16664254\n",
       "15  1.6125708  -0.57735640  2.39203271  1.053325713  1.0611581  0.54692935\n",
       "16  0.8817367  -0.49700500 -0.22870071  0.967055075  1.4111579  0.37791299\n",
       "17  1.1119995  -0.25595080  0.66234866  0.492566569  0.4924084  0.05396496\n",
       "18  1.3722966   0.30650899  0.22555975  0.665107844  0.7549083 -0.05871261\n",
       "19  1.9029021  -0.33630220  0.47016154  1.570949537  1.1924080  0.29340481\n",
       "20  1.0018738  -1.54157319  0.12073042  0.018078063  0.0111587  1.05397844\n",
       "21  1.1420338  -0.97911340  0.88947889  0.255322316  0.5799084  1.54694284\n",
       "22  0.3811654  -0.89876200  0.67982021 -0.240733849  0.3174085  1.27933359\n",
       "23  0.8517024  -0.73805920  0.17314508 -0.542681081  0.6674083  1.95539905\n",
       "24  0.3411197  -0.81841060 -0.22870071 -0.486605166  0.5799084  1.43426526\n",
       "25  0.5813939  -0.65770780  0.12073042 -0.663459973  0.7111583  1.70187450\n",
       "26  0.6514739   0.86896878  0.57499088 -0.637578782  0.7549083  0.82862329\n",
       "27  0.9117710  -0.17559941 -0.24617226 -0.111327893 -0.1638412  0.85679269\n",
       "28  0.1609140  -0.73805920 -0.42088782 -0.477978102  0.2736585  0.22298133\n",
       "29  0.9418052   0.06545479  0.29544598 -0.240733849  1.2799079  1.11031723\n",
       "30  0.3010740  -0.81841060  0.67982021 -0.154463212  0.3611585  1.37792647\n",
       "⋮   ⋮          ⋮           ⋮           ⋮            ⋮          ⋮          \n",
       "149 -1.2707200  0.7082660  -0.59560339 1.45017064   -1.7825902 -1.3967588 \n",
       "150 -0.6400001 -0.1755994  -0.78779050 1.87289677   -1.6950903 -1.8052150 \n",
       "151 -0.4597944 -1.1398162  -0.59560339 1.52781422   -1.6075903 -1.8474691 \n",
       "152 -0.6700344 -0.9791134  -0.57813183 2.47679123   -2.0888400 -1.6080293 \n",
       "153 -0.7501258 -0.8184106  -0.05398515 0.88078444   -1.5200904 -1.8052150 \n",
       "154 -1.2006400  1.9938884   0.48763309 2.35601234   -1.7388402 -1.5516905 \n",
       "155 -1.4509256  1.3510772  -0.33353004 1.09646103   -1.6513403 -1.4953517 \n",
       "156 -1.4008685  1.9938884  -0.07145670 1.22586699   -1.5638404 -1.5939446 \n",
       "157 -1.2006400  0.9493202  -0.05398515 1.70466903   -1.6950903 -1.3685894 \n",
       "158 -1.4509256  2.1545912  -0.78779050 1.05332571   -1.2575905 -1.2418272 \n",
       "159 -0.7200915  1.3510772   1.93777225 3.42576824   -1.6950903 -0.9178791 \n",
       "160 -0.9303315  1.2707258   1.22143845 2.88657676   -1.6950903 -1.1714037 \n",
       "161 -1.1105371  1.1100230  -0.96250606 1.11802869   -1.7388402 -1.4530976 \n",
       "162 -1.4709485  1.1100230  -1.38182341 0.35453355    0.0111587 -1.1150649 \n",
       "163 -1.4309028  1.9135370  -1.10227851 0.22512759   -0.3825911 -0.7066087 \n",
       "164 -1.3307885  0.3065090  -1.13722163 0.09572164   -1.2138406 -1.2136578 \n",
       "165 -1.3508114  0.3868604  -0.97997762 1.95054034   -1.1263406 -1.3122506 \n",
       "166 -1.5610513  1.2707258  -0.77031895 0.67373491   -0.7763408 -1.2136578 \n",
       "167 -1.1105371  0.5475632  -0.22870071 2.42502885   -0.4700910 -1.4812670 \n",
       "168 -1.3708342  0.3065090  -1.08480696 2.24386051   -1.0388407 -1.2136578 \n",
       "169 -1.1906285  0.2261576  -0.08892826 1.55369541   -0.9513407 -1.1432343 \n",
       "170 -1.0704914 -0.7380592  -0.84020517 1.48467890   -1.2575905 -0.9742179 \n",
       "171 -1.5410285  0.3065090  -1.50412430 0.19061934   -1.3013405 -1.1009802 \n",
       "172 -1.5210056  0.9493202  -1.66136831 2.08857293   -1.6950903 -1.3826741 \n",
       "173 -1.3307885  0.6279146  -0.61307494 2.00230272   -1.4763404 -1.2699965 \n",
       "174 -1.4208913  1.2707258  -0.92756295 1.13959635   -1.3888405 -1.2277425 \n",
       "175 -1.2807314  0.5475632  -0.31605849 0.96705508   -1.1263406 -1.4812670 \n",
       "176 -1.3407999  0.5475632  -0.42088782 2.21797932   -1.6075903 -1.4812670 \n",
       "177 -1.3508114  1.3510772  -0.22870071 1.82976145   -1.5638404 -1.3967588 \n",
       "178 -1.2707200  1.5921314  -0.42088782 1.78662613   -1.5200904 -1.4249282 \n",
       "    V14         \n",
       "1    1.01015939 \n",
       "2    0.96252635 \n",
       "3    1.39122370 \n",
       "4    2.32800680 \n",
       "5   -0.03776747 \n",
       "6    2.23274072 \n",
       "7    1.72465497 \n",
       "8    1.74053265 \n",
       "9    0.94664867 \n",
       "10   0.94664867 \n",
       "11   2.42327288 \n",
       "12   1.69289961 \n",
       "13   1.81992105 \n",
       "14   1.28007994 \n",
       "15   2.54076771 \n",
       "16   1.78816569 \n",
       "17   1.69289961 \n",
       "18   1.21656922 \n",
       "19   2.96311399 \n",
       "20   0.31154148 \n",
       "21   0.10513165 \n",
       "22   0.07337629 \n",
       "23   0.91489331 \n",
       "24   0.85138259 \n",
       "25   0.31154148 \n",
       "26   0.26390844 \n",
       "27   1.42297906 \n",
       "28   1.70877729 \n",
       "29   0.53382900 \n",
       "30   0.91489331 \n",
       "⋮   ⋮           \n",
       "149 -0.307688024\n",
       "150 -0.625241617\n",
       "151 -0.784018414\n",
       "152 -0.847529132\n",
       "153 -1.022183609\n",
       "154 -0.228299625\n",
       "155 -0.339443383\n",
       "156 -0.069522829\n",
       "157 -0.847529132\n",
       "158  0.422685241\n",
       "159 -0.275932664\n",
       "160 -0.402954102\n",
       "161 -0.720507695\n",
       "162 -0.212421946\n",
       "163 -0.561730898\n",
       "164 -0.228299625\n",
       "165 -0.418831781\n",
       "166 -0.720507695\n",
       "167 -0.164788907\n",
       "168 -0.196544266\n",
       "169  0.009865569\n",
       "170 -0.371198742\n",
       "171 -0.752263054\n",
       "172 -0.879284492\n",
       "173 -0.275932664\n",
       "174 -0.021889790\n",
       "175  0.009865569\n",
       "176  0.279786124\n",
       "177  0.295663803\n",
       "178 -0.593486258"
      ]
     },
     "metadata": {},
     "output_type": "display_data"
    }
   ],
   "source": [
    "standardised_wine <- as.data.frame(scale(wine[2:14]))\n",
    "standardised_wine"
   ]
  },
  {
   "cell_type": "markdown",
   "metadata": {},
   "source": [
    "Si nos fijamos en el contenido del *dataframe* ```wine``` que obtuvimos al principio, este posee algunos valores muy grandes en algunas variables. Podemos observarlo fácilmente en que algunos de los vectores de medias tienen valores superiores a $700$. Tratemos de aplicar ahora la media y la desviación típica a nuestro conjunto de datos estandarizado:"
   ]
  },
  {
   "cell_type": "code",
   "execution_count": 16,
   "metadata": {},
   "outputs": [
    {
     "name": "stdout",
     "output_type": "stream",
     "text": [
      "[1] \"Medias estandarizadas\"\n"
     ]
    },
    {
     "data": {
      "text/html": [
       "<dl class=dl-horizontal>\n",
       "\t<dt>V2</dt>\n",
       "\t\t<dd>-8.59176620688482e-16</dd>\n",
       "\t<dt>V3</dt>\n",
       "\t\t<dd>-6.77644630873763e-17</dd>\n",
       "\t<dt>V4</dt>\n",
       "\t\t<dd>8.0451760363661e-16</dd>\n",
       "\t<dt>V5</dt>\n",
       "\t\t<dd>-7.72049403184734e-17</dd>\n",
       "\t<dt>V6</dt>\n",
       "\t\t<dd>-4.07393534579009e-17</dd>\n",
       "\t<dt>V7</dt>\n",
       "\t\t<dd>-1.39556006322723e-17</dd>\n",
       "\t<dt>V8</dt>\n",
       "\t\t<dd>6.95826335844938e-17</dd>\n",
       "\t<dt>V9</dt>\n",
       "\t\t<dd>-1.04218629278997e-16</dd>\n",
       "\t<dt>V10</dt>\n",
       "\t\t<dd>-1.22136897486352e-16</dd>\n",
       "\t<dt>V11</dt>\n",
       "\t\t<dd>3.64937578439868e-17</dd>\n",
       "\t<dt>V12</dt>\n",
       "\t\t<dd>2.09374057963209e-16</dd>\n",
       "\t<dt>V13</dt>\n",
       "\t\t<dd>3.00345929462872e-16</dd>\n",
       "\t<dt>V14</dt>\n",
       "\t\t<dd>-1.03442937443795e-16</dd>\n",
       "</dl>\n"
      ],
      "text/latex": [
       "\\begin{description*}\n",
       "\\item[V2] -8.59176620688482e-16\n",
       "\\item[V3] -6.77644630873763e-17\n",
       "\\item[V4] 8.0451760363661e-16\n",
       "\\item[V5] -7.72049403184734e-17\n",
       "\\item[V6] -4.07393534579009e-17\n",
       "\\item[V7] -1.39556006322723e-17\n",
       "\\item[V8] 6.95826335844938e-17\n",
       "\\item[V9] -1.04218629278997e-16\n",
       "\\item[V10] -1.22136897486352e-16\n",
       "\\item[V11] 3.64937578439868e-17\n",
       "\\item[V12] 2.09374057963209e-16\n",
       "\\item[V13] 3.00345929462872e-16\n",
       "\\item[V14] -1.03442937443795e-16\n",
       "\\end{description*}\n"
      ],
      "text/markdown": [
       "V2\n",
       ":   -8.59176620688482e-16V3\n",
       ":   -6.77644630873763e-17V4\n",
       ":   8.0451760363661e-16V5\n",
       ":   -7.72049403184734e-17V6\n",
       ":   -4.07393534579009e-17V7\n",
       ":   -1.39556006322723e-17V8\n",
       ":   6.95826335844938e-17V9\n",
       ":   -1.04218629278997e-16V10\n",
       ":   -1.22136897486352e-16V11\n",
       ":   3.64937578439868e-17V12\n",
       ":   2.09374057963209e-16V13\n",
       ":   3.00345929462872e-16V14\n",
       ":   -1.03442937443795e-16\n",
       "\n"
      ],
      "text/plain": [
       "           V2            V3            V4            V5            V6 \n",
       "-8.591766e-16 -6.776446e-17  8.045176e-16 -7.720494e-17 -4.073935e-17 \n",
       "           V7            V8            V9           V10           V11 \n",
       "-1.395560e-17  6.958263e-17 -1.042186e-16 -1.221369e-16  3.649376e-17 \n",
       "          V12           V13           V14 \n",
       " 2.093741e-16  3.003459e-16 -1.034429e-16 "
      ]
     },
     "metadata": {},
     "output_type": "display_data"
    },
    {
     "name": "stdout",
     "output_type": "stream",
     "text": [
      "[1] \"Desviacion típica estandarizadas\"\n"
     ]
    },
    {
     "data": {
      "text/html": [
       "<dl class=dl-horizontal>\n",
       "\t<dt>V2</dt>\n",
       "\t\t<dd>1</dd>\n",
       "\t<dt>V3</dt>\n",
       "\t\t<dd>1</dd>\n",
       "\t<dt>V4</dt>\n",
       "\t\t<dd>1</dd>\n",
       "\t<dt>V5</dt>\n",
       "\t\t<dd>1</dd>\n",
       "\t<dt>V6</dt>\n",
       "\t\t<dd>1</dd>\n",
       "\t<dt>V7</dt>\n",
       "\t\t<dd>1</dd>\n",
       "\t<dt>V8</dt>\n",
       "\t\t<dd>1</dd>\n",
       "\t<dt>V9</dt>\n",
       "\t\t<dd>1</dd>\n",
       "\t<dt>V10</dt>\n",
       "\t\t<dd>1</dd>\n",
       "\t<dt>V11</dt>\n",
       "\t\t<dd>1</dd>\n",
       "\t<dt>V12</dt>\n",
       "\t\t<dd>1</dd>\n",
       "\t<dt>V13</dt>\n",
       "\t\t<dd>1</dd>\n",
       "\t<dt>V14</dt>\n",
       "\t\t<dd>1</dd>\n",
       "</dl>\n"
      ],
      "text/latex": [
       "\\begin{description*}\n",
       "\\item[V2] 1\n",
       "\\item[V3] 1\n",
       "\\item[V4] 1\n",
       "\\item[V5] 1\n",
       "\\item[V6] 1\n",
       "\\item[V7] 1\n",
       "\\item[V8] 1\n",
       "\\item[V9] 1\n",
       "\\item[V10] 1\n",
       "\\item[V11] 1\n",
       "\\item[V12] 1\n",
       "\\item[V13] 1\n",
       "\\item[V14] 1\n",
       "\\end{description*}\n"
      ],
      "text/markdown": [
       "V2\n",
       ":   1V3\n",
       ":   1V4\n",
       ":   1V5\n",
       ":   1V6\n",
       ":   1V7\n",
       ":   1V8\n",
       ":   1V9\n",
       ":   1V10\n",
       ":   1V11\n",
       ":   1V12\n",
       ":   1V13\n",
       ":   1V14\n",
       ":   1\n",
       "\n"
      ],
      "text/plain": [
       " V2  V3  V4  V5  V6  V7  V8  V9 V10 V11 V12 V13 V14 \n",
       "  1   1   1   1   1   1   1   1   1   1   1   1   1 "
      ]
     },
     "metadata": {},
     "output_type": "display_data"
    }
   ],
   "source": [
    "print(\"Medias estandarizadas\")\n",
    "sapply(standardised_wine,mean)\n",
    "print(\"Desviacion típica estandarizadas\")\n",
    "sapply(standardised_wine,sd)\n"
   ]
  },
  {
   "cell_type": "markdown",
   "metadata": {},
   "source": [
    "Vemos que para todas las variables, $\\mu_i \\sim 0$ y $\\sigma_i =1, \\ \\forall i = 2,\\dots,12$, con lo que nuestras variables quedaron estandarizadas."
   ]
  },
  {
   "cell_type": "markdown",
   "metadata": {},
   "source": [
    "# Implementaciones del temario EMV"
   ]
  },
  {
   "cell_type": "markdown",
   "metadata": {},
   "source": [
    "## Distribución Normal Multivariante"
   ]
  },
  {
   "cell_type": "markdown",
   "metadata": {},
   "source": [
    "Representamos una distribución normal multivariante de dimensión p mediante el vector de medias y la matriz de varianzas-covarianzas (incluiremos el p para que quede claro cual es la dimensión de la DNM).\n",
    "\n",
    "Veamos como definimos la clase DNM, con lo que ya hemos mencionado:"
   ]
  },
  {
   "cell_type": "code",
   "execution_count": 17,
   "metadata": {},
   "outputs": [],
   "source": [
    "DNM <- setRefClass(\"DNM\", \n",
    "                   fields = list(p = \"numeric\", \n",
    "                                 media = \"matrix\", \n",
    "                                 cov = \"matrix\"))"
   ]
  },
  {
   "cell_type": "markdown",
   "metadata": {},
   "source": [
    "Necesitamos pasar la dimensión, el vector de medias y la matriz de varianzas-covarianzas; la dimensión es redundante pero así queda más claro visualmente. Se deja a responsabilidad del usuario que las dimensiones de la media y las covarianzas coincidan (y que la matriz de varianzas-covarianzas sea $>= 0$)\n",
    "\n",
    "**Nota**: p es de tipo `numeric` por lo cual puede aceptar reales, se ha hecho así porque si se pone de tipo `integer` se tienen que hacer casteos todo el rato con `integer()` por lo que es mejor dejarlo en `numeric`y se deja al usuario que no ponga otra cosa que no sean enteros."
   ]
  },
  {
   "cell_type": "markdown",
   "metadata": {},
   "source": [
    "Ejemplo de creacion de la DNM $\\pmb{X} = (X_1, X_2, X_3)^T \\sim N_3 \\begin{pmatrix} \\begin{pmatrix} 2 \\\\ 3 \\\\ -1 \\end{pmatrix}, && \\begin{pmatrix} 1 & 0 & 1 \\\\ 0 & 5 & -2 \\\\ 1 & -2 & 2 \\end{pmatrix} \\end{pmatrix} $"
   ]
  },
  {
   "cell_type": "code",
   "execution_count": 18,
   "metadata": {},
   "outputs": [
    {
     "data": {
      "text/plain": [
       "Reference class object of class \"DNM\"\n",
       "Field \"p\":\n",
       "[1] 3\n",
       "Field \"media\":\n",
       "     [,1]\n",
       "[1,]    2\n",
       "[2,]    3\n",
       "[3,]   -1\n",
       "Field \"cov\":\n",
       "     [,1] [,2] [,3]\n",
       "[1,]    1    0    1\n",
       "[2,]    0    5   -2\n",
       "[3,]    1   -2    2"
      ]
     },
     "metadata": {},
     "output_type": "display_data"
    },
    {
     "data": {
      "text/html": [
       "<table>\n",
       "<caption>A matrix: 3 × 3 of type dbl</caption>\n",
       "<tbody>\n",
       "\t<tr><td>1</td><td> 0</td><td> 1</td></tr>\n",
       "\t<tr><td>0</td><td> 5</td><td>-2</td></tr>\n",
       "\t<tr><td>1</td><td>-2</td><td> 2</td></tr>\n",
       "</tbody>\n",
       "</table>\n"
      ],
      "text/latex": [
       "A matrix: 3 × 3 of type dbl\n",
       "\\begin{tabular}{lll}\n",
       "\t 1 &  0 &  1\\\\\n",
       "\t 0 &  5 & -2\\\\\n",
       "\t 1 & -2 &  2\\\\\n",
       "\\end{tabular}\n"
      ],
      "text/markdown": [
       "\n",
       "A matrix: 3 × 3 of type dbl\n",
       "\n",
       "| 1 |  0 |  1 |\n",
       "| 0 |  5 | -2 |\n",
       "| 1 | -2 |  2 |\n",
       "\n"
      ],
      "text/plain": [
       "     [,1] [,2] [,3]\n",
       "[1,] 1     0    1  \n",
       "[2,] 0     5   -2  \n",
       "[3,] 1    -2    2  "
      ]
     },
     "metadata": {},
     "output_type": "display_data"
    }
   ],
   "source": [
    "# Vector medias\n",
    "means <- matrix(c(2,3,-1), nrow = 3, ncol = 1)\n",
    "# Matriz covarianzas\n",
    "cov <- matrix(c(1, 0, 1, 0, 5, -2, 1, -2, 2), nrow = 3, ncol = 3)\n",
    "# Creamos la DNM\n",
    "X <- DNM$new(p = 3, media = means, cov = cov); X\n",
    "\n",
    "t(chol(X$cov)) %*% (chol(X$cov))"
   ]
  },
  {
   "cell_type": "markdown",
   "metadata": {},
   "source": [
    "### Función característica"
   ]
  },
  {
   "cell_type": "markdown",
   "metadata": {},
   "source": [
    "Implementamos la **función caracteristica** de la DNM $\\pmb{X} = (X_1, \\ldots, X_p)^T \\sim N_p(\\pmb{\\mu}, \\Sigma)$, dada por $$ \\Psi_{\\pmb{X}} (\\pmb{t}) = \\exp\\left(i \\pmb{t}^T \\pmb{\\mu} - \\frac{1}{2} \\pmb{t}^T \\Sigma \\pmb{t}\\right), \\; \\pmb{t} \\in \\mathbb{R}^p $$"
   ]
  },
  {
   "cell_type": "code",
   "execution_count": 19,
   "metadata": {},
   "outputs": [],
   "source": [
    "# Pre: X es DNM, t es matriz\n",
    "funcion_caracteristica <- function(X, t) {\n",
    "    # Comprobación de rango\n",
    "    if (dim(t)[1] != X$p)\n",
    "        stop(\"Filas de t no coinciden con dimensión de X\")\n",
    "    if (dim(t)[2] != 1)\n",
    "        stop(\"t no es vector columna\")\n",
    "    # psi_X(t)\n",
    "    exp(as.complex(1i * t(t) %*% X$media - 0.5 * t(t) %*% X$cov %*% t))\n",
    "}"
   ]
  },
  {
   "cell_type": "markdown",
   "metadata": {},
   "source": [
    "Ejemplo con la $\\pmb{X}$ anterior y $\\pmb{t} = \\begin{pmatrix} 5 \\\\ 0 \\\\ 0 \\end{pmatrix}$:"
   ]
  },
  {
   "cell_type": "code",
   "execution_count": 20,
   "metadata": {},
   "outputs": [
    {
     "data": {
      "text/html": [
       "-3.12692857543366e-06-2.02737799857363e-06i"
      ],
      "text/latex": [
       "-3.12692857543366e-06-2.02737799857363e-06i"
      ],
      "text/markdown": [
       "-3.12692857543366e-06-2.02737799857363e-06i"
      ],
      "text/plain": [
       "[1] -3.126929e-06-2.027378e-06i"
      ]
     },
     "metadata": {},
     "output_type": "display_data"
    }
   ],
   "source": [
    "t = matrix(c(5, 0, 0), nrow = 3, ncol = 1)\n",
    "psi_t <- funcion_caracteristica(X, t); psi_t"
   ]
  },
  {
   "cell_type": "markdown",
   "metadata": {},
   "source": [
    "### Función densidad"
   ]
  },
  {
   "cell_type": "markdown",
   "metadata": {},
   "source": [
    "Implementamos la **función densidad** de una DNM $\\pmb{X} = (X_1, \\ldots, X_n)^T \\sim N_p(\\pmb{\\mu}, \\Sigma)$, con $\\Sigma > 0$, que está definida para un \n",
    "\n",
    "$$f_{\\pmb{X}}(\\pmb{x}) = \\dfrac{1}{(2\\pi)^{p/2}|\\Sigma|^{1/2}} \\exp\\left(-\\frac{1}{2}(\\pmb{x} - \\pmb{\\mu})^T\\Sigma^{-1}(\\pmb{x} - \\pmb{\\mu})\\right), \\; \\pmb{x} \\in \\mathbb{R}^p $$"
   ]
  },
  {
   "cell_type": "code",
   "execution_count": 21,
   "metadata": {},
   "outputs": [],
   "source": [
    "# Pre: X es DNM, x matriz\n",
    "funcion_densidad <- function(X, x) {\n",
    "    if (dim(x)[1] != X$p)\n",
    "        stop(\"Filas de x no coinciden con dimensión de X\")\n",
    "    if (dim(x)[2] != 1)\n",
    "        stop(\"x no es vector columna\")\n",
    "    if (det(X$cov) <= 0)\n",
    "        stop(\"Matriz de covarianzas no es definida positiva\")\n",
    "    # f_X(x)\n",
    "    exp(-0.5 * as.numeric(t(x - X$media) %*% solve(X$cov) %*% (x - X$media))) / ((2 * pi)^(X$p / 2) * sqrt(det(X$cov)))\n",
    "}"
   ]
  },
  {
   "cell_type": "markdown",
   "metadata": {},
   "source": [
    "Ejemplo con la $\\pmb{X}$ anterior y $\\pmb{x} = \\begin{pmatrix} 1 \\\\ 1 \\\\ 1 \\end{pmatrix}$:"
   ]
  },
  {
   "cell_type": "code",
   "execution_count": 22,
   "metadata": {},
   "outputs": [
    {
     "data": {
      "text/html": [
       "1.43516532458314e-07"
      ],
      "text/latex": [
       "1.43516532458314e-07"
      ],
      "text/markdown": [
       "1.43516532458314e-07"
      ],
      "text/plain": [
       "[1] 1.435165e-07"
      ]
     },
     "metadata": {},
     "output_type": "display_data"
    }
   ],
   "source": [
    "x = matrix(c(1, 1, 1), nrow = 3, ncol = 1)\n",
    "f_x <- funcion_densidad(X,x); f_x"
   ]
  },
  {
   "cell_type": "markdown",
   "metadata": {},
   "source": [
    "### Transformación lineal"
   ]
  },
  {
   "cell_type": "markdown",
   "metadata": {},
   "source": [
    "Implementamos la **transformación lineal**, que necesita como argumentos una DNM $\\pmb{X} \\sim N_p(\\pmb{\\mu}, \\Sigma)$, una matriz $B \\in \\mathcal{M}_{qxp}$ ($q \\leq p$) y un vector $\\pmb{b} \\in \\mathbb{R}^q$. Entonces devuelve la DNM definida como $\\pmb{Y} = B \\pmb{X} + \\pmb{b}$, entonces $\\pmb{Y} \\sim N_q(B \\pmb{\\mu} + \\pmb{b}, B \\Sigma B^T)$."
   ]
  },
  {
   "cell_type": "code",
   "execution_count": 23,
   "metadata": {},
   "outputs": [],
   "source": [
    "# Pre: X es DNM; B, b matrices\n",
    "transformacion_lineal <- function(X, B, b) {\n",
    "    # Comprobaciones de rango\n",
    "    if (dim(B)[1] > dim(B)[2])\n",
    "        stop(\"Dimensión de B incorrecta (q > p)\")\n",
    "    if (dim(B)[2] != X$p)\n",
    "        stop(\"Columnas de B no coinciden con dimensión de X\")\n",
    "    if (dim(b)[1] != dim(B)[1])\n",
    "        stop(\"Filas de B no coinciden con dimensión de b\")\n",
    "    if (dim(b)[2] != 1)\n",
    "        stop(\"b no es un vector columna\")\n",
    "    # Nueva DNM\n",
    "    media_y = matrix(B %*% X$media + b, ncol = 1)\n",
    "    cov_y = matrix(B %*% X$cov %*% t(B), nrow = dim(B)[1])\n",
    "    DNM$new(p = dim(B)[1], media = media_y, cov = cov_y)\n",
    "}"
   ]
  },
  {
   "cell_type": "markdown",
   "metadata": {},
   "source": [
    "Ejemplo con la $\\pmb{X}$ anterior, $B = \\begin{pmatrix} 1 & 1 & 0 \\end{pmatrix}$, $b = \\begin{pmatrix} 0 \\end{pmatrix}$:"
   ]
  },
  {
   "cell_type": "code",
   "execution_count": 24,
   "metadata": {},
   "outputs": [
    {
     "data": {
      "text/plain": [
       "Reference class object of class \"DNM\"\n",
       "Field \"p\":\n",
       "[1] 1\n",
       "Field \"media\":\n",
       "     [,1]\n",
       "[1,]    5\n",
       "Field \"cov\":\n",
       "     [,1]\n",
       "[1,]    6"
      ]
     },
     "metadata": {},
     "output_type": "display_data"
    }
   ],
   "source": [
    "B = matrix(c(1, 1, 0), nrow = 1, ncol = 3)\n",
    "b = matrix(0, nrow = 1, ncol = 1)\n",
    "Y <- transformacion_lineal(X, B, b); Y"
   ]
  },
  {
   "cell_type": "markdown",
   "metadata": {},
   "source": [
    "### Marginalización"
   ]
  },
  {
   "cell_type": "markdown",
   "metadata": {},
   "source": [
    "Implementamos la **marginalización** de una DNM $\\pmb{X} = (X_1, \\ldots, X_p)^T \\sim N_p(\\pmb{\\mu}, \\Sigma)$, que consiste en tomar el subvector $\\pmb{X}_{\\pmb{r}} = (X_{r_1}, \\ldots, X_{r_q})^T$ con $\\pmb{r} = (r_1, \\ldots, r_q)^T, r_1, \\ldots, r_q \\in \\{1, \\ldots, q\\}, q \\leq p $; obteniendo $\\pmb{X}_{\\pmb{r}} \\sim N_q(\\pmb{\\mu_{\\pmb{r}}}, \\Sigma_{\\pmb{r}})$ donde:\n",
    "- $\\pmb{\\mu_{\\pmb{r}}}$ es el subvector de $\\pmb{\\mu}$ correspondiente a $\\pmb{r}$.\n",
    "- $\\Sigma_{\\pmb{r}}$ es la submatriz de $\\Sigma$ definida por las filas y columnas correspondientes a $\\pmb{r}$."
   ]
  },
  {
   "cell_type": "code",
   "execution_count": 25,
   "metadata": {},
   "outputs": [],
   "source": [
    "# Pre: X es DNM, r es matriz\n",
    "marginalizar <- function(X, r) {\n",
    "    # Comprobar rangos\n",
    "    if (dim(r)[2] != 1)\n",
    "        stop(\"r no es vector columna.\")\n",
    "    if (dim(r)[1] > X$p)\n",
    "        stop(\"Filas de r más que dimensión de X\")\n",
    "    if (any(r < 1 || r > X$p))\n",
    "        stop(\"Algún r_i es < 1 ó > p\")\n",
    "    # mu_r\n",
    "    media_r <- matrix(X$media[r, ], ncol = 1)\n",
    "    # sigma_r\n",
    "    cov_r <- matrix(X$cov[r, r], nrow = dim(r)[1])\n",
    "    # X_r\n",
    "    DNM$new(p = dim(r)[1], media = media_r, cov = cov_r)\n",
    "}"
   ]
  },
  {
   "cell_type": "markdown",
   "metadata": {},
   "source": [
    "Ejemplo con la $\\pmb{X}$ anterior, y $\\pmb{r} = \\begin{pmatrix} 3 \\\\ 1 \\end{pmatrix}$:"
   ]
  },
  {
   "cell_type": "code",
   "execution_count": 26,
   "metadata": {},
   "outputs": [
    {
     "data": {
      "text/plain": [
       "Reference class object of class \"DNM\"\n",
       "Field \"p\":\n",
       "[1] 2\n",
       "Field \"media\":\n",
       "     [,1]\n",
       "[1,]   -1\n",
       "[2,]    2\n",
       "Field \"cov\":\n",
       "     [,1] [,2]\n",
       "[1,]    2    1\n",
       "[2,]    1    1"
      ]
     },
     "metadata": {},
     "output_type": "display_data"
    }
   ],
   "source": [
    "r = matrix(c(3, 1), nrow = 2, ncol = 1);\n",
    "X_r <- marginalizar(X, r); X_r"
   ]
  },
  {
   "cell_type": "markdown",
   "metadata": {},
   "source": [
    "### Partición"
   ]
  },
  {
   "cell_type": "markdown",
   "metadata": {},
   "source": [
    "Dada una DNM $\\pmb{X} = (X_1, \\ldots, X_p)^T \\sim N_p(\\pmb{\\mu}, \\Sigma)$ con $p > 1$ y $\\Sigma > 0$ podemos realizar una partición de $\\pmb{X} = (\\pmb{X}_{(1)}^T, \\pmb{X}_{(2)}^T)^T$ con $\\pmb{\\mu} = (\\pmb{\\mu}_{(1)}^T,\\pmb{\\mu}_{(2)}^T)^T$ y $\\Sigma = \\begin{pmatrix} \\Sigma_{(11)} & \\Sigma_{(12)} \\\\ \\Sigma_{(21)} & \\Sigma_{(22)} \\end{pmatrix} $ de manera que $\\pmb{X}_{(1)} = (X_1, \\ldots, X_q)^T$, y $\\pmb{X}_{(2)} = (X_{q+1}, \\ldots, X_p)$ ($1 \\leq q < p$).\n",
    "\n",
    "Implementamos un método para devolver las **DNM basadas en las particiones independientes**, que son $\\pmb{X}_{(1)} \\sim N_q\\left(\\pmb{\\mu}_{(1)}, \\Sigma_{(11)}\\right)$ y $\\pmb{X}_{(2)} - \\Sigma_{(21)}\\Sigma^{-1}_{(11)}\\Sigma_{(12)} \\sim N_{p-q}\\left(\\pmb{\\mu}_{(2)} - \\Sigma_{(21)}\\Sigma_{(11)}^{-1}\\pmb{\\mu}_{(1)}, \\Sigma_{(22)} - \\Sigma_{(21)}\\Sigma_{(11)}^{-1} \\Sigma_{(12)}\\right)$"
   ]
  },
  {
   "cell_type": "code",
   "execution_count": 27,
   "metadata": {},
   "outputs": [],
   "source": [
    "# Pre: X es DNM, q un entero\n",
    "particiones_independientes <- function(X, q) {\n",
    "    # Comprobaciones de rango\n",
    "    if (q < 1 || q >= X$p)\n",
    "        stop(\"q no puede ser < 1 ó >= p\")\n",
    "    if (det(X$cov) <= 0)\n",
    "        stop(\"Sigma no es definida positiva\")\n",
    "    # X_1\n",
    "    media_1 = matrix(X$media[1:q], ncol = 1)\n",
    "    cov_11 = matrix(X$cov[1:q,1:q], nrow = q)\n",
    "    X_1 <- DNM$new(p = q, media = media_1, cov = cov_11)\n",
    "    # X_2 - cov_21 * cov_11^-1 * cov_12\n",
    "    media_2 = matrix(X$media[(q+1):X$p], ncol = 1)\n",
    "    cov_22 = matrix(X$cov[(q+1):X$p, (q+1):X$p], nrow = X$p - q)\n",
    "    cov_12 = matrix(X$cov[1:q, (q+1):X$p], nrow = q)\n",
    "    cov_21 = matrix(X$cov[(q+1):X$p, 1:q], ncol = q)\n",
    "    X_2 <- DNM$new(p = X$p - q,\n",
    "                   media = media_2 - cov_21 %*% solve(cov_11) %*% media_1,\n",
    "                   cov = cov_22 - cov_21 %*% solve(cov_11) %*% cov_12)\n",
    "    # Devolvemos\n",
    "    c(X_1, X_2)\n",
    "}"
   ]
  },
  {
   "cell_type": "markdown",
   "metadata": {},
   "source": [
    "Ejemplo con la $\\pmb{X}$ anterior y $q = 2$:"
   ]
  },
  {
   "cell_type": "code",
   "execution_count": 28,
   "metadata": {},
   "outputs": [
    {
     "data": {
      "text/plain": [
       "[[1]]\n",
       "Reference class object of class \"DNM\"\n",
       "Field \"p\":\n",
       "[1] 2\n",
       "Field \"media\":\n",
       "     [,1]\n",
       "[1,]    2\n",
       "[2,]    3\n",
       "Field \"cov\":\n",
       "     [,1] [,2]\n",
       "[1,]    1    0\n",
       "[2,]    0    5\n",
       "\n",
       "[[2]]\n",
       "Reference class object of class \"DNM\"\n",
       "Field \"p\":\n",
       "[1] 1\n",
       "Field \"media\":\n",
       "     [,1]\n",
       "[1,] -1.8\n",
       "Field \"cov\":\n",
       "     [,1]\n",
       "[1,]  0.2\n"
      ]
     },
     "metadata": {},
     "output_type": "display_data"
    }
   ],
   "source": [
    "particiones_independientes(X, 2)"
   ]
  },
  {
   "cell_type": "markdown",
   "metadata": {},
   "source": [
    "### Distribución condicionada"
   ]
  },
  {
   "cell_type": "markdown",
   "metadata": {},
   "source": [
    "En las condiciones del apartado anterior, tenemos que la **distribución condicionada** de $\\pmb{X}_{(2)}$ dado $\\pmb{X}_{(1)} = \\pmb{x}_{(1)}$ es una DNM con $\\pmb{X}_{(2)} \\sim N_{p-q}(\\pmb{\\mu}_{(2)}+\\Sigma_{(21)} \\Sigma_{(11)}^{-1}(\\pmb{x}_{(1)} - \\pmb{\\mu}_{(1)}), \\Sigma_{(22)} - \\Sigma_{(21)} \\Sigma_{(11)}^{-1}\\Sigma_{(12)})$.\n",
    "\n",
    "Alternativamente, la distribución condicionada de $\\pmb{X}_{(1)}$ dado $\\pmb{X}_{(2)} = \\pmb{x}_{(2)}$ es una DNM con $\\pmb{X}_{(1)} \\sim N_{q}(\\pmb{\\mu}_{(1)}+\\Sigma_{(12)} \\Sigma_{(22)}^{-1}(\\pmb{x}_{(2)} - \\pmb{\\mu}_{(2)}), \\Sigma_{(11)} - \\Sigma_{(12)} \\Sigma_{(22)}^{-1}\\Sigma_{(21)})$.\n",
    "\n",
    "El último parametro es un booleano, si es `TRUE` entonces hace la condicionada dado $\\pmb{x}_{(2)}$, en caso contrario la hace dado $\\pmb{x}_{(1)}$."
   ]
  },
  {
   "cell_type": "code",
   "execution_count": 29,
   "metadata": {},
   "outputs": [],
   "source": [
    "# Pre: X es DNM, q es entero, x es matriz, dado_x2 es booleano\n",
    "particion_condicionada <- function(X, q, x, dado_x2) {\n",
    "    # Comprobaciones de rango\n",
    "    if (q < 1 || q >= X$p)\n",
    "        stop(\"q no puede ser < 1 ó >= p\")\n",
    "    if (dado_x2 && dim(x)[1] != (X$p - q))\n",
    "        stop(\"Filas de x_2 no coinciden con (p-q)\")\n",
    "    if (!dado_x2 && dim(x)[1] != (X$p - q))\n",
    "        stop(\"Filas de x_1 no coinciden con q\")\n",
    "    if (det(X$cov) <= 0)\n",
    "        stop(\"Sigma no es definida positiva\")\n",
    "    # Partición\n",
    "    media_1 = matrix(X$media[1:q], ncol = 1)\n",
    "    media_2 = matrix(X$media[(q+1):X$p], ncol = 1)\n",
    "    cov_11 = matrix(X$cov[1:q,1:q], nrow = q)\n",
    "    cov_22 = matrix(X$cov[(q+1):X$p, (q+1):X$p], nrow = X$p - q)\n",
    "    cov_12 = matrix(X$cov[1:q, (q+1):X$p], nrow = q)\n",
    "    cov_21 = matrix(X$cov[(q+1):X$p, 1:q], ncol = q)\n",
    "    # DNM condicionada\n",
    "    if (dado_x2) {\n",
    "        p_cond = q\n",
    "        media_cond = media_1 + cov_12 %*% solve(cov_22) %*% (x - media_2)\n",
    "        cov_cond = cov_11 - cov_12 %*% solve(cov_22) %*% cov_21\n",
    "    } else {\n",
    "        p_cond = X$p - q\n",
    "        media_cond = media_2 + cov_21 %*% solve(cov_11) %*% (x - media_1)\n",
    "        cov_cond = cov_22 - cov_21 %*% solve(cov_11) %*% cov_12\n",
    "    }\n",
    "    DNM$new(p = p_cond, media = media_cond, cov = cov_cond)\n",
    "}"
   ]
  },
  {
   "cell_type": "markdown",
   "metadata": {},
   "source": [
    "Ejemplo con la $\\pmb{X}$ anterior y $q = 2$, dado $x_{(2)} = \\begin{pmatrix} 1 \\end{pmatrix}$:"
   ]
  },
  {
   "cell_type": "code",
   "execution_count": 30,
   "metadata": {},
   "outputs": [
    {
     "data": {
      "text/plain": [
       "Reference class object of class \"DNM\"\n",
       "Field \"p\":\n",
       "[1] 2\n",
       "Field \"media\":\n",
       "     [,1]\n",
       "[1,]    3\n",
       "[2,]    1\n",
       "Field \"cov\":\n",
       "     [,1] [,2]\n",
       "[1,]  0.5    1\n",
       "[2,]  1.0    3"
      ]
     },
     "metadata": {},
     "output_type": "display_data"
    }
   ],
   "source": [
    "X_cond <- particion_condicionada(X, 2, matrix(1), TRUE); X_cond"
   ]
  },
  {
   "cell_type": "markdown",
   "metadata": {},
   "source": [
    "### Normalización"
   ]
  },
  {
   "cell_type": "markdown",
   "metadata": {},
   "source": [
    "Sea $\\pmb{X} \\sim N_p(\\pmb{\\mu}, \\Sigma)$ con $\\Sigma > 0$ devolvemos la matriz $A \\in M_{pxp}$ no singular tal que $A(\\pmb{X} - \\pmb{\\mu}) \\sim N_p(\\pmb{0}, I_{p})$ (lo conseguimos con la factorización de Cholesky)"
   ]
  },
  {
   "cell_type": "code",
   "execution_count": 31,
   "metadata": {},
   "outputs": [],
   "source": [
    "matriz_normalizacion <- function(X) {\n",
    "    solve(t(chol(X$cov)))\n",
    "}"
   ]
  },
  {
   "cell_type": "markdown",
   "metadata": {},
   "source": [
    "Ejemplo con la $\\pmb{X}$ anterior:"
   ]
  },
  {
   "cell_type": "code",
   "execution_count": 32,
   "metadata": {},
   "outputs": [
    {
     "name": "stdout",
     "output_type": "stream",
     "text": [
      "     [,1] [,2] [,3]\n",
      "[1,]    1    0    0\n",
      "[2,]    0    1    0\n",
      "[3,]    0    0    1\n"
     ]
    }
   ],
   "source": [
    "A <- matriz_normalizacion(X)\n",
    "print(round(A %*% X$cov %*% t(A)))"
   ]
  },
  {
   "cell_type": "markdown",
   "metadata": {},
   "source": [
    "## Inferencia en la DNM"
   ]
  },
  {
   "cell_type": "markdown",
   "metadata": {},
   "source": [
    "Con $\\pmb{X} = (X_1, \\ldots, X_p)^T \\sim N_p(\\pmb{\\mu}, \\Sigma)$, $\\Sigma > 0$, consideramos una muestra aleatoria simple dada por $X = (\\pmb{X}_1^T, \\ldots, \\pmb{X}_N^T)^T$, donde N es el tamaño muestral; de manera que cada observación se representa con $\\pmb{X}_\\alpha, \\alpha \\in \\{1, \\ldots, N\\}$. \n",
    "\n",
    "Veremos como hacer inferencia sobre la DNM que determina $X$."
   ]
  },
  {
   "cell_type": "markdown",
   "metadata": {},
   "source": [
    "### Muestra aleatoria simple"
   ]
  },
  {
   "cell_type": "markdown",
   "metadata": {},
   "source": [
    "Dada $\\pmb{X} \\sim N_p(\\pmb{\\mu}, \\Sigma), \\Sigma > 0$, podemos generar una muestra aleatoria simple de $\\pmb{X}$ de tamaño $N$, mediante la siguiente función:"
   ]
  },
  {
   "cell_type": "code",
   "execution_count": 33,
   "metadata": {},
   "outputs": [],
   "source": [
    "muestra_aleatoria <- function(N, media, cov) {\n",
    "    mvrnorm(N, media, cov)\n",
    "}\n",
    "\n",
    "muestra_aleatoria_EMV <- function(N, X) {\n",
    "    mvrnorm(N, X$media, X$cov)\n",
    "}"
   ]
  },
  {
   "cell_type": "markdown",
   "metadata": {},
   "source": [
    "Ejemplo de la m.a.s de tamaño 14 de la DNM $\\pmb{X} = (X_1, X_2, X_3)^T \\sim N_3 \\begin{pmatrix} \\begin{pmatrix} 2 \\\\ 3 \\\\ -1 \\end{pmatrix}, && \\begin{pmatrix} 1 & 0 & 1 \\\\ 0 & 1 & -0.5 \\\\ 1 & -0.5 & 2 \\end{pmatrix} \\end{pmatrix} $:"
   ]
  },
  {
   "cell_type": "code",
   "execution_count": 34,
   "metadata": {},
   "outputs": [
    {
     "data": {
      "text/html": [
       "<table>\n",
       "<caption>A matrix: 10 × 3 of type dbl</caption>\n",
       "<tbody>\n",
       "\t<tr><td> 2.00863770</td><td>2.820845</td><td>-0.9536311</td></tr>\n",
       "\t<tr><td> 2.63738700</td><td>3.910852</td><td>-0.1236769</td></tr>\n",
       "\t<tr><td> 2.79081625</td><td>2.245214</td><td> 0.5986766</td></tr>\n",
       "\t<tr><td> 3.41135996</td><td>2.534212</td><td> 2.1532126</td></tr>\n",
       "\t<tr><td> 3.12791616</td><td>1.909552</td><td> 0.6877082</td></tr>\n",
       "\t<tr><td>-0.09439048</td><td>1.975222</td><td>-2.6908610</td></tr>\n",
       "\t<tr><td> 1.06985983</td><td>3.158471</td><td>-0.3117945</td></tr>\n",
       "\t<tr><td> 2.12817850</td><td>2.391889</td><td>-0.9534681</td></tr>\n",
       "\t<tr><td> 1.82641447</td><td>2.238796</td><td>-0.5196546</td></tr>\n",
       "\t<tr><td> 2.84639585</td><td>2.609973</td><td> 0.5903323</td></tr>\n",
       "</tbody>\n",
       "</table>\n"
      ],
      "text/latex": [
       "A matrix: 10 × 3 of type dbl\n",
       "\\begin{tabular}{lll}\n",
       "\t  2.00863770 & 2.820845 & -0.9536311\\\\\n",
       "\t  2.63738700 & 3.910852 & -0.1236769\\\\\n",
       "\t  2.79081625 & 2.245214 &  0.5986766\\\\\n",
       "\t  3.41135996 & 2.534212 &  2.1532126\\\\\n",
       "\t  3.12791616 & 1.909552 &  0.6877082\\\\\n",
       "\t -0.09439048 & 1.975222 & -2.6908610\\\\\n",
       "\t  1.06985983 & 3.158471 & -0.3117945\\\\\n",
       "\t  2.12817850 & 2.391889 & -0.9534681\\\\\n",
       "\t  1.82641447 & 2.238796 & -0.5196546\\\\\n",
       "\t  2.84639585 & 2.609973 &  0.5903323\\\\\n",
       "\\end{tabular}\n"
      ],
      "text/markdown": [
       "\n",
       "A matrix: 10 × 3 of type dbl\n",
       "\n",
       "|  2.00863770 | 2.820845 | -0.9536311 |\n",
       "|  2.63738700 | 3.910852 | -0.1236769 |\n",
       "|  2.79081625 | 2.245214 |  0.5986766 |\n",
       "|  3.41135996 | 2.534212 |  2.1532126 |\n",
       "|  3.12791616 | 1.909552 |  0.6877082 |\n",
       "| -0.09439048 | 1.975222 | -2.6908610 |\n",
       "|  1.06985983 | 3.158471 | -0.3117945 |\n",
       "|  2.12817850 | 2.391889 | -0.9534681 |\n",
       "|  1.82641447 | 2.238796 | -0.5196546 |\n",
       "|  2.84639585 | 2.609973 |  0.5903323 |\n",
       "\n"
      ],
      "text/plain": [
       "      [,1]        [,2]     [,3]      \n",
       " [1,]  2.00863770 2.820845 -0.9536311\n",
       " [2,]  2.63738700 3.910852 -0.1236769\n",
       " [3,]  2.79081625 2.245214  0.5986766\n",
       " [4,]  3.41135996 2.534212  2.1532126\n",
       " [5,]  3.12791616 1.909552  0.6877082\n",
       " [6,] -0.09439048 1.975222 -2.6908610\n",
       " [7,]  1.06985983 3.158471 -0.3117945\n",
       " [8,]  2.12817850 2.391889 -0.9534681\n",
       " [9,]  1.82641447 2.238796 -0.5196546\n",
       "[10,]  2.84639585 2.609973  0.5903323"
      ]
     },
     "metadata": {},
     "output_type": "display_data"
    }
   ],
   "source": [
    "X_DNM <- DNM$new(p = 3, media = matrix(c(2,3,-1), ncol = 1), cov = matrix(c(1,0,1,0,1,-0.5,1,-0.5, 2), ncol = 3, nrow = 3))\n",
    "X <- muestra_aleatoria_EMV(20, X_DNM); X[1:10,]"
   ]
  },
  {
   "cell_type": "markdown",
   "metadata": {},
   "source": [
    "### Media muestral"
   ]
  },
  {
   "cell_type": "markdown",
   "metadata": {},
   "source": [
    "Para la media muestral $\\pmb{\\bar{X}} = \\frac{1}{N} \\sum^N_{\\alpha = 1} \\pmb{X}_\\alpha = \\begin{pmatrix} \\bar{X}_1 \\\\ \\vdots \\\\ \\bar{X}_p \\end{pmatrix}$ usamos `colMeans`(la media de cada variable/columna), además este es el estimador máximo verosímil ($\\pmb{\\hat{\\mu}} = \\pmb{\\bar{X}}$)."
   ]
  },
  {
   "cell_type": "code",
   "execution_count": 35,
   "metadata": {},
   "outputs": [],
   "source": [
    "media_muestral <- function(X) {\n",
    "    matrix(colMeans(X), ncol = 1)\n",
    "}"
   ]
  },
  {
   "cell_type": "markdown",
   "metadata": {},
   "source": [
    "Ejemplo con $X$ anterior:"
   ]
  },
  {
   "cell_type": "code",
   "execution_count": 36,
   "metadata": {},
   "outputs": [
    {
     "data": {
      "text/html": [
       "<table>\n",
       "<caption>A matrix: 3 × 1 of type dbl</caption>\n",
       "<tbody>\n",
       "\t<tr><td> 2.0124724</td></tr>\n",
       "\t<tr><td> 2.9600257</td></tr>\n",
       "\t<tr><td>-0.8978561</td></tr>\n",
       "</tbody>\n",
       "</table>\n"
      ],
      "text/latex": [
       "A matrix: 3 × 1 of type dbl\n",
       "\\begin{tabular}{l}\n",
       "\t  2.0124724\\\\\n",
       "\t  2.9600257\\\\\n",
       "\t -0.8978561\\\\\n",
       "\\end{tabular}\n"
      ],
      "text/markdown": [
       "\n",
       "A matrix: 3 × 1 of type dbl\n",
       "\n",
       "|  2.0124724 |\n",
       "|  2.9600257 |\n",
       "| -0.8978561 |\n",
       "\n"
      ],
      "text/plain": [
       "     [,1]      \n",
       "[1,]  2.0124724\n",
       "[2,]  2.9600257\n",
       "[3,] -0.8978561"
      ]
     },
     "metadata": {},
     "output_type": "display_data"
    }
   ],
   "source": [
    "media_muestral(X)"
   ]
  },
  {
   "cell_type": "markdown",
   "metadata": {},
   "source": [
    "### Matrices sobre covarianzas/correlaciones"
   ]
  },
  {
   "cell_type": "markdown",
   "metadata": {},
   "source": [
    "Implementamos las siguientes matrices:\n",
    "\n",
    "- Matriz de dispersiones muestral: $A = \\sum^N_{\\alpha = 1} (\\pmb{X}_\\alpha - \\pmb{\\bar{X}})(\\pmb{X}_\\alpha - \\pmb{\\bar{X}})^T$\n",
    "- Matriz de covarianzas muestral: $S_N = \\frac{1}{N} A$\n",
    "- Matriz de cuasi-covarianzas muestral: $S_{N+1} = \\frac{1}{N-1} A $ (también llamada matriz de covarianzas muestral)\n",
    "- Matriz de correlaciones muestral: $R = D^{1/2}S_N D^{-1/2}$, donde $D$ es la diagonal de $S_N$\n",
    "\n",
    "Sabemos que $\\hat{\\Sigma} = S_N$, $T = S_{N+1}$ es estimador eficiente de $\\Sigma$, y $\\hat{p} = R$ (coeficientes de correlacion lineal de Pearson)."
   ]
  },
  {
   "cell_type": "code",
   "execution_count": 37,
   "metadata": {},
   "outputs": [],
   "source": [
    "disp_muestral <- function(X) {\n",
    "    cov(X) * (nrow(X) - 1)\n",
    "}\n",
    "\n",
    "cov_muestral <- function(X) {\n",
    "    disp_muestral(X) / nrow(X)\n",
    "}\n",
    "\n",
    "cuasicov_muestral <- function(X) {\n",
    "    disp_muestral(X) / (nrow(X)-1)\n",
    "}\n",
    "\n",
    "cor_muestral <- function(X) {\n",
    "    cor(X)\n",
    "}"
   ]
  },
  {
   "cell_type": "markdown",
   "metadata": {},
   "source": [
    "Ejemplo con la $X$ anterior:"
   ]
  },
  {
   "cell_type": "code",
   "execution_count": 38,
   "metadata": {},
   "outputs": [
    {
     "name": "stdout",
     "output_type": "stream",
     "text": [
      "          [,1]      [,2]      [,3]\n",
      "[1,] 26.613912  4.367076 22.593071\n",
      "[2,]  4.367076 17.626476 -6.097261\n",
      "[3,] 22.593071 -6.097261 39.876757\n",
      "          [,1]       [,2]       [,3]\n",
      "[1,] 1.3306956  0.2183538  1.1296535\n",
      "[2,] 0.2183538  0.8813238 -0.3048631\n",
      "[3,] 1.1296535 -0.3048631  1.9938379\n",
      "          [,1]       [,2]       [,3]\n",
      "[1,] 1.4007322  0.2298461  1.1891090\n",
      "[2,] 0.2298461  0.9277093 -0.3209085\n",
      "[3,] 1.1891090 -0.3209085  2.0987767\n",
      "          [,1]       [,2]       [,3]\n",
      "[1,] 1.0000000  0.2016293  0.6935232\n",
      "[2,] 0.2016293  1.0000000 -0.2299811\n",
      "[3,] 0.6935232 -0.2299811  1.0000000\n"
     ]
    }
   ],
   "source": [
    "print(disp_muestral(X))\n",
    "print(cov_muestral(X))\n",
    "print(cuasicov_muestral(X))\n",
    "print(cor_muestral(X))"
   ]
  },
  {
   "cell_type": "markdown",
   "metadata": {},
   "source": [
    "### Contraste sobre $\\pmb{\\mu}$"
   ]
  },
  {
   "cell_type": "markdown",
   "metadata": {},
   "source": [
    "Sobre $\\pmb{X} \\sim N_p(\\pmb{\\mu}, \\Sigma)$, $\\Sigma>0$ y $\\{\\pmb{X}_{\\alpha} : \\alpha = 1, \\ldots, N\\}$, con $N > p$ una m.a.s de $\\pmb{X}$ nos planteamos el problema de contrastre $$\\begin{cases} H_0 : \\pmb{\\mu} = \\pmb{\\mu}_0 \\\\ H_1: \\pmb{\\mu} \\neq \\pmb{\\mu}_0 \\end{cases}, \\pmb{\\mu}_0 \\in \\mathbb{R}^p \\text{ dado.} $$"
   ]
  },
  {
   "cell_type": "markdown",
   "metadata": {},
   "source": [
    "#### $\\Sigma$ conocida"
   ]
  },
  {
   "cell_type": "markdown",
   "metadata": {},
   "source": [
    "Para $\\Sigma$ conocida usaremos el estadístico de Wishart $W = N (\\pmb{\\bar{X}} - \\pmb{\\mu}_0)^T \\Sigma^{-1} (\\pmb{\\bar{X}} - \\pmb{\\mu}_0) $ sigue una $\\chi^2_p(\\delta)$ con $\\delta = N (\\pmb{\\mu} - \\pmb{\\mu}_0)^T \\Sigma^{-1} (\\pmb{\\mu} - \\pmb{\\mu}_0)$, y la función test para el problema es:\n",
    "\n",
    "$$ \\Phi(X) = \\begin{cases} 1 \\text{ si } W > \\chi^2_{p;\\alpha} \\\\ 0 \\text{ si } W \\leq \\chi^2_{p;\\alpha} \\end{cases}, $$\n",
    "\n",
    "donde $\\chi^2_{p;\\alpha}$ representa el valor de una distribución $\\chi^2_p$ que deja a su derecha una probabilidad $\\alpha$.\n",
    "\n",
    "En nuestro caso si no proporcionamos la probabilidad $\\alpha$ nos devolverá el p-value, que es la probabilidad que deja $W$ a su derecha."
   ]
  },
  {
   "cell_type": "code",
   "execution_count": 39,
   "metadata": {},
   "outputs": [],
   "source": [
    "media_test_sigma <- function(X, media_0, cov, alpha = NA) {\n",
    "    if (!is.na(alpha) && (alpha > 1 || alpha < 0))\n",
    "        stop(\"Error, 0 <= alpha <= 1\")\n",
    "    N <- nrow(X)\n",
    "    p <- ncol(X)\n",
    "    media <- media_muestral(X)\n",
    "    W <- N * (t(media - media_0) %*% solve(cov) %*% (media - media_0))\n",
    "    p_value <- 1 - pchisq(W, p)\n",
    "    if (!is.na(alpha))\n",
    "        cat(\"\\nResultado del test: \", as.logical(p_value < alpha))\n",
    "    else\n",
    "        cat(\"\\np-value: \", p_value)\n",
    "}"
   ]
  },
  {
   "cell_type": "markdown",
   "metadata": {},
   "source": [
    "Probamos el test con el $X$ anterior, y vemos como el p-value se hace más grande (cuanto mayor valor más pequeño es W y por tanto tenemos menos significancia estadística de rechazar la hipótesis nula) conforme nos acercamos a la media muestral de $X$.\n",
    "\n",
    "En el caso de poner una media cualquiera con significancia $\\alpha = 0.05$, vemos que el test nos da TRUE (rechazamos hipótesis nula):"
   ]
  },
  {
   "cell_type": "code",
   "execution_count": 40,
   "metadata": {},
   "outputs": [
    {
     "name": "stdout",
     "output_type": "stream",
     "text": [
      "     [,1]\n",
      "[1,]    2\n",
      "[2,]    3\n",
      "[3,]   -1\n",
      "           [,1]\n",
      "[1,]  2.0124724\n",
      "[2,]  2.9600257\n",
      "[3,] -0.8978561\n",
      "\n",
      "p-value:  0.9830968\n",
      "p-value:  1\n",
      "p-value:  0.0004866499\n",
      "Resultado del test:  FALSE"
     ]
    }
   ],
   "source": [
    "print(X_DNM$media)\n",
    "print(media_muestral(X))\n",
    "media_test_sigma(X, X_DNM$media, X_DNM$cov)\n",
    "media_test_sigma(X, media_muestral(X), X_DNM$cov)\n",
    "media_test_sigma(X, c(2.5, 3.5, -1.2), X_DNM$cov)\n",
    "media_test_sigma(X, X_DNM$media, X_DNM$cov, alpha = 0.05)"
   ]
  },
  {
   "cell_type": "markdown",
   "metadata": {},
   "source": [
    "#### $\\Sigma$ desconocida"
   ]
  },
  {
   "cell_type": "markdown",
   "metadata": {},
   "source": [
    "En el caso de que no sepamos quien es $\\Sigma$ usaremos el estadístico de $T^2$ de Hotelling, con $T^2 = N (\\pmb{\\bar{X}} - \\pmb{\\mu}_0)^T S_{N-1}^{-1} (\\pmb{\\bar{X}} - \\pmb{\\mu}_0)$, donde $\\dfrac{T^2}{N-1} \\dfrac{N-p}{p} \\sim F_{p;N-p}(\\delta)$ con $\\delta = N (\\pmb{\\mu} - \\pmb{\\mu}_0)^T \\Sigma^{-1} (\\pmb{\\mu} - \\pmb{\\mu}_0)$, y entonces la función test para el problema es:\n",
    "\n",
    "$$ \\Phi(X) = \\begin{cases} 1 \\text{ si } (N-p)T^2 > (N-1)pF_{p;N-p;\\alpha} \\\\ 0 \\text{ si } (N-p)T^2 \\leq (N-1)pF_{p;N-p;\\alpha} \\end{cases}, $$\n",
    "\n",
    "donde $F_{p;N-p;\\alpha}$ representa el valor de una distribución $F_{p;N-p}$ que deja a su derecha una probabilidad $\\alpha$."
   ]
  },
  {
   "cell_type": "code",
   "execution_count": 41,
   "metadata": {},
   "outputs": [],
   "source": [
    "media_test <- function(X, media_0, alpha = NA) {\n",
    "    if (!is.na(alpha) && (alpha > 1 || alpha < 0))\n",
    "        stop(\"Error, 0 <= alpha <= 1\")\n",
    "    N <- nrow(X)\n",
    "    p <- ncol(X)\n",
    "    media <- media_muestral(X)\n",
    "    S <- cuasicov_muestral(X)\n",
    "    T <- N * (t(media - media_0) %*% solve(S) %*% (media - media_0))\n",
    "    T_val <- T * (N - p) / (p * (N - 1))\n",
    "    p_value <- 1 - pf(T_val, p, N - p)\n",
    "    if (!is.na(alpha))\n",
    "        cat(\"\\nResultado del test: \", as.logical(p_value < alpha))\n",
    "    else\n",
    "        cat(\"\\np-value: \", p_value)\n",
    "}"
   ]
  },
  {
   "cell_type": "markdown",
   "metadata": {},
   "source": [
    "Probamos con los ejemplos anteriores, y vemos que obtenemos unos resultados parecidos:"
   ]
  },
  {
   "cell_type": "code",
   "execution_count": 42,
   "metadata": {},
   "outputs": [
    {
     "name": "stdout",
     "output_type": "stream",
     "text": [
      "     [,1]\n",
      "[1,]    2\n",
      "[2,]    3\n",
      "[3,]   -1\n",
      "           [,1]\n",
      "[1,]  2.0124724\n",
      "[2,]  2.9600257\n",
      "[3,] -0.8978561\n",
      "\n",
      "p-value:  0.9861966\n",
      "p-value:  1\n",
      "p-value:  0.4934115\n",
      "Resultado del test:  TRUE"
     ]
    }
   ],
   "source": [
    "print(X_DNM$media)\n",
    "print(media_muestral(X))\n",
    "media_test(X, X_DNM$media)\n",
    "media_test(X, media_muestral(X))\n",
    "media_test(X, c(2.1, 3.1, -1.2))\n",
    "media_test(X, c(3, 0, 0), alpha = 0.05)"
   ]
  },
  {
   "cell_type": "markdown",
   "metadata": {},
   "source": [
    "### Superficies de confianza"
   ]
  },
  {
   "cell_type": "markdown",
   "metadata": {},
   "source": [
    "#### $\\Sigma$ conocida"
   ]
  },
  {
   "cell_type": "markdown",
   "metadata": {},
   "source": [
    "Para formar las regiones de confianza para el vector de medias $\\pmb{\\mu}$ consideramos que:\n",
    "\n",
    "$$P[W \\leq  \\chi^2_{p;\\alpha}]= 1 - \\alpha,$$\n",
    "donde $W$ era el estadístico de Wishart definido en el test de contraste.\n",
    "\n",
    "Tenemos entonces que la región de confianza al $100(1 - \\alpha)\\%$ del vector de medias $\\pmb{\\mu}$ está definida por todos los $\\pmb{\\mu}_0 \\in \\mathbb{R}^p$ tales que cumplen:\n",
    "\n",
    "$$N (\\pmb{\\bar{X}} - \\pmb{\\mu}_0)^T \\Sigma^{-1}(\\pmb{\\bar{X}} - \\pmb{\\mu}_0) \\leq \\chi^2_{p;\\alpha}$$\n",
    "\n",
    "Para representarla visualmente, tomamos dos variables $X_i,X_j$ de $\\pmb{X}$ y representamos la región de confianza en $\\mathbb{R}^2$ para esas dos variables, que toma la forma de una elipse. Usando la matriz de covarianza $\\Sigma$ y el radio $\\sqrt{\\dfrac{1}{N} \\chi^2_{p;\\alpha}}$, la representamos."
   ]
  },
  {
   "cell_type": "code",
   "execution_count": 43,
   "metadata": {},
   "outputs": [],
   "source": [
    "elipse_medias_sigma <- function(X, id, cov, alpha, col = \"black\", pch = 1, draw = FALSE) {\n",
    "    p <- ncol(X)\n",
    "    N <- nrow(X)\n",
    "    media <- media_muestral(X)\n",
    "    radio <- sqrt(qchisq(alpha,p) / N)\n",
    "    elipse <- ellipse(center = media[id], shape = cov[id,id], radius = radio, draw = FALSE, pch = pch, col = col)\n",
    "    if (!draw)\n",
    "        plot(elipse, pch = pch, col = col)\n",
    "    else\n",
    "        points(elipse, pch = pch, col = col)\n",
    "    points(matrix(media[id], ncol = 2), pch = 2, col = \"red\")\n",
    "}"
   ]
  },
  {
   "cell_type": "markdown",
   "metadata": {},
   "source": [
    "Veamos el ejemplo con $X$, trazando 3 regiones de confianza con $\\alpha \\in \\{0.99, 0.95, 0.90\\}$. Representamos todos los puntos de las variables $X_1$ y $X_3$, ponemos la media muestral con el triángulo rojo y la media de $\\pmb{X}$ con la cruz azul; finalmente representamos las 3 elipses de confianza."
   ]
  },
  {
   "cell_type": "code",
   "execution_count": 44,
   "metadata": {},
   "outputs": [
    {
     "data": {
      "image/png": "[encoded data removed]",
      "text/plain": [
       "plot without title"
      ]
     },
     "metadata": {
      "image/png": {
       "height": 420,
       "width": 420
      },
      "text/plain": {
       "height": 420,
       "width": 420
      }
     },
     "output_type": "display_data"
    }
   ],
   "source": [
    "plot(X[, c(1,3)], xlab = \"1\", ylab = \"3\")\n",
    "elipse_medias_sigma (X, c(1,3), X_DNM$cov, 0.99, col = \"orange\", draw = TRUE)\n",
    "points(matrix(X_DNM$media[c(1,3)], ncol=2), pch = 1, col = \"blue\")\n",
    "elipse_medias_sigma (X, c(1,3), X_DNM$cov, 0.90, col = \"green\", pch = 1, draw = TRUE)\n",
    "elipse_medias_sigma (X, c(1,3), X_DNM$cov, 0.95, col = \"yellow\", pch = 1, draw = TRUE)\n",
    "legend(\"bottomright\", legend = c(\"0.99\", \"0.95\", \"0.90\"), pch = c(1, 1, 1), col = c(\"orange\", \"yellow\", \"green\"), cex = 2.0)"
   ]
  },
  {
   "cell_type": "markdown",
   "metadata": {},
   "source": [
    "#### $\\Sigma$ desconocida"
   ]
  },
  {
   "cell_type": "markdown",
   "metadata": {},
   "source": [
    "Para formar las regiones de confianza para el vector de medias $\\pmb{\\mu}$ consideramos que:\n",
    "\n",
    "$$P\\left[T^2 \\leq \\dfrac{p(N-1)}{N-p} F_{p;N-p;\\alpha}\\right]= 1 - \\alpha,$$\n",
    "donde $T^2$ era el estadístico de Hotelling definido en el test de contraste.\n",
    "\n",
    "Tenemos entonces que la región de confianza al $100(1 - \\alpha)\\%$ del vector de medias $\\pmb{\\mu}$ está definida por todos los $\\pmb{\\mu}_0 \\in \\mathbb{R}^p$ tales que cumplen:\n",
    "\n",
    "$$N (\\pmb{\\bar{X}} - \\pmb{\\mu}_0)^T S_{N-1}^{-1}(\\pmb{\\bar{X}} - \\pmb{\\mu}_0) \\leq \\dfrac{p(N-1)}{N-p} F_{p;N-p;\\alpha} $$\n",
    "\n",
    "Para representarla visualmente, tomamos dos variables $X_i,X_j$ de $\\pmb{X}$ y representamos la región de confianza en $\\mathbb{R}^2$ para esas dos variables, que toma la forma de una elipse. Usando la matriz de covarianza $S_{N-1}$ y el radio $\\sqrt{\\dfrac{p(N-1)}{N(N-p)} F_{p;N-p;\\alpha}}$, la representamos."
   ]
  },
  {
   "cell_type": "code",
   "execution_count": 45,
   "metadata": {},
   "outputs": [],
   "source": [
    "elipse_medias <- function(X, id, alpha, col = \"black\", pch = 1, draw = FALSE) {\n",
    "    p <- ncol(X)\n",
    "    N <- nrow(X)\n",
    "    media <- media_muestral(X)\n",
    "    S <- cuasicov_muestral(X)\n",
    "    radio <- sqrt(p*(N-1)*qf(alpha,p,N-p)/(N*(N-p)))\n",
    "    elipse <- ellipse(center = media[id], shape = S[id,id], radius = radio, draw = FALSE, pch = pch, col = col)\n",
    "    if (!draw)\n",
    "        plot(elipse, pch = pch, col = col)\n",
    "    else\n",
    "        points(elipse, pch = pch, col = col)\n",
    "    points(matrix(media[id], ncol = 2), pch = 2, col = \"red\")\n",
    "}"
   ]
  },
  {
   "cell_type": "markdown",
   "metadata": {},
   "source": [
    "Veamos el ejemplo con $X$, trazando 3 regiones de confianza con $\\alpha \\in \\{0.99, 0.95, 0.90\\}$. Representamos todos los puntos de las variables $X_1$ y $X_3$, ponemos la media muestral con el triángulo rojo y la media de $\\pmb{X}$ con la cruz azul; finalmente representamos las 3 elipses de confianza."
   ]
  },
  {
   "cell_type": "code",
   "execution_count": 46,
   "metadata": {},
   "outputs": [
    {
     "data": {
      "image/png": "[encoded data removed]",
      "text/plain": [
       "plot without title"
      ]
     },
     "metadata": {
      "image/png": {
       "height": 420,
       "width": 420
      },
      "text/plain": {
       "height": 420,
       "width": 420
      }
     },
     "output_type": "display_data"
    }
   ],
   "source": [
    "plot(X[, c(1,3)], xlab = \"1\", ylab = \"3\")\n",
    "elipse_medias(X, c(1,3), 0.99, col = \"orange\", draw = TRUE)\n",
    "points(matrix(X_DNM$media[c(1,3)], ncol=2), pch = 3, col = \"blue\")\n",
    "elipse_medias(X, c(1,3), 0.90, col = \"green\", pch = 10, draw = TRUE)\n",
    "elipse_medias(X, c(1,3), 0.95, col = \"yellow\", pch = 5, draw = TRUE)\n",
    "legend(\"bottomright\", legend = c(\"0.99\", \"0.95\", \"0.90\"), pch = c(1, 1, 1), col = c(\"orange\", \"yellow\", \"green\"), cex = 2.0)"
   ]
  },
  {
   "cell_type": "markdown",
   "metadata": {},
   "source": [
    "Comparando las dos gráficas podemos ver que si conocemos $\\Sigma$ entonces las regiones de confianza son más pequeñas (tenemos más información acerca donde se encuentra el vector de medias de $\\pmb{X}$)."
   ]
  },
  {
   "cell_type": "code",
   "execution_count": null,
   "metadata": {},
   "outputs": [],
   "source": []
  }
 ],
 "metadata": {
  "kernelspec": {
   "display_name": "R",
   "language": "R",
   "name": "ir"
  },
  "language_info": {
   "codemirror_mode": "r",
   "file_extension": ".r",
   "mimetype": "text/x-r-source",
   "name": "R",
   "pygments_lexer": "r",
   "version": "3.6.2"
  }
 },
 "nbformat": 4,
 "nbformat_minor": 2
}
