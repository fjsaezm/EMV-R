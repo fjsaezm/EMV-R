{
 "cells": [
  {
   "cell_type": "markdown",
   "metadata": {},
   "source": [
    "## Dependencias\n",
    "Instalar paquetes (completar)."
   ]
  },
  {
   "cell_type": "code",
   "execution_count": null,
   "metadata": {},
   "outputs": [
    {
     "name": "stderr",
     "output_type": "stream",
     "text": [
      "Installing package into ‘/home/dani/R/x86_64-pc-linux-gnu-library/3.6’\n",
      "(as ‘lib’ is unspecified)\n",
      "\n",
      "Installing package into ‘/home/dani/R/x86_64-pc-linux-gnu-library/3.6’\n",
      "(as ‘lib’ is unspecified)\n",
      "\n",
      "Installing package into ‘/home/dani/R/x86_64-pc-linux-gnu-library/3.6’\n",
      "(as ‘lib’ is unspecified)\n",
      "\n",
      "also installing the dependencies ‘rematch’, ‘cellranger’, ‘readxl’, ‘rio’\n",
      "\n",
      "\n"
     ]
    }
   ],
   "source": [
    "install.packages(\"MVA\")\n",
    "install.packages(\"HSAUR2\")\n",
    "install.packages(\"car\")\n",
    "install.packages(\"MASS\")"
   ]
  },
  {
   "cell_type": "code",
   "execution_count": null,
   "metadata": {},
   "outputs": [],
   "source": [
    "library(\"MASS\")\n",
    "library(\"MVA\")\n",
    "library(\"HSAUR2\")\n",
    "library(\"car\")"
   ]
  },
  {
   "cell_type": "markdown",
   "metadata": {},
   "source": [
    "# Introducción\n",
    "\n",
    "## Qué es R\n",
    "\n",
    "R es un entorno y lenguaje de programación enfocados a la computación estadística y de gráficos. Surge como una reimplementación libre del lenguaje y entorno S. Fue creado en 1993 por Ross Ihaka y Robert Gengleman en el de partamento de estadística de la universidad de Auckland, Nueva Zelanda. \n",
    "\n",
    "Actualmente está desarrollado por el R Development Core Team. Existe también una activa comunidad que contribuye mediante el reporte de fallos y creación de nuevas funcionalidades.\n",
    "\n",
    "Su código fuente está escrito principalmente en C, Fortran y el mismo R, y está disponible como software libre bajo los términos de la GNU General Public License de la Free Software Foundation. Puede ser compilado y ejecutado en una gran cantidad de plataformas UNIX, Windows y MacOs.\n",
    "\n",
    "En este trabajo trataremos de abordar algunas de las funcionalidades básicas que nos ofrece R orientadas a la estadística multivariante. \n"
   ]
  },
  {
   "cell_type": "markdown",
   "metadata": {},
   "source": [
    "# Extensiones y paquetes\n",
    "**R** forma parte de un proyecto colaborativo y abierto donde sus propios usuarios pueden publicar paquetes que extienden su funcionalidad básica.\n",
    "\n",
    "Para facilitar el desarrollo de nuevos paquetes, se ha puesto a servicio de la comunidad una forja de desarrollo, conocida como **R-Forge**, que facilita las tareas relativas a dicho proceso. Esto es, en definitiva, una plataforma central basada en **FusionForge** para el desarrollo de paquetes, de software relacionado y futuros proyectos.\n",
    "\n",
    "[A fecha de Diciembre de 2019](https://web.archive.org/web/20191210081209/http://cran.r-project.org/web/packages), el repositorio oficial de paquetes de **R** tiene disponibles 15315 paquetes, los cuales han sido organizados en varias vistas, o temas, que permiten agruparlos según su naturaleza o función. Algunos vistas serían:\n",
    "\n",
    "+ Bayesian : Vista dedicada a la Inferencia Bayesiana en la que podemos encontrar paquetes para ajustes generalizados de modelos, modelos o métodos específicos, aprender Estadística Bayesiana o que enlazan con motores de muestreo.\n",
    "\n",
    "+ ChemPhys : En esta vista nos centramos en la Quimiometría y la Física Computacional. Estas disciplinas se ocupan del análisis de los datos que surgen en experimentos de química y física, así como la simulación de los sistemas fisicoquímicos.\n",
    "\n",
    "+ ClinicalTrials : Vista dedicada al diseño, monitorización y análisis de Ensayos Clínicos.\n",
    "\n",
    "+ Cluster : Aquí se centran en el Análisis de Clusters y Modelos de Mezcla Finita.\n",
    "\n",
    "+ Databases : Paquetes relacionados con la accesibilidad a diferentes bases de datos, sin incluir la importación/exportación de datos o su control.\n",
    "\n",
    "+ DifferentialEquations : Paquetes dedicados al análisis y resolución de Ecuaciones Diferenciales.\n",
    "\n",
    "+ Distribution : Para las distribuciones clásicas, base R implementa algunas funcionalidades básicas. Estos paquetes están dedicados a aumentar la cantidad de funcionalidades disponibles para el análisis de dichas distribuciones, en particular para las distribuciones multivariantes.\n",
    "\n",
    "+ Genetics : El enfoque de esta vista está centrada en los paquetes de R que implementan métodos y algoritmos estadísticos para el análisis de datos genéticos y para el estudio de la genética de poblaciones motivada por los grandes avances en el campo del análisis genético de los últimos años.\n",
    "\n",
    "+ MachineLearning : Dentro de este tema, los paquetes pueden ser divididos en varios topics como pueden ser *Redes Neuronales y Deep Learning*, *Particionamiento Recursivo* o *Bosques Aleatorios*, entre otros muchos.\n",
    "\n",
    "+ Multivariate : Agrupación de paquetes dedicados a la Estadística Multivariante, siendo que algunos de ellos pueden ser encontrados en algunas otras vistas al dedicarse a varios ámbitos.\n"
   ]
  },
  {
   "cell_type": "markdown",
   "metadata": {},
   "source": [
    "# Operaciones básicas\n",
    "\n",
    "## Hola mundo"
   ]
  },
  {
   "cell_type": "markdown",
   "metadata": {},
   "source": [
    "Comenzamos viendo las funcionalidades más básicas.  Para asignar valores a varibales podemos utilizar los operadores ``<-``, ``->`` o ``=``. Para hacer comentarios se utiliza ``#``. "
   ]
  },
  {
   "cell_type": "code",
   "execution_count": null,
   "metadata": {},
   "outputs": [],
   "source": [
    "# Esto es un comentario\n",
    "miString <- \"Hola mundo\"\n",
    "print(miString)"
   ]
  },
  {
   "cell_type": "markdown",
   "metadata": {},
   "source": [
    "## Tipos\n",
    "\n",
    "Para la definición de variables R cuenta con tipos dinámicos, por lo que no es necesario especificar el tipo al declarar la variable. Las variables toman el tipo del valor que se les asigna. Existen séis tipos básicos."
   ]
  },
  {
   "cell_type": "code",
   "execution_count": null,
   "metadata": {},
   "outputs": [],
   "source": [
    "v <- TRUE\n",
    "print(class(v))\n",
    "v <- 42\n",
    "print(class(v))\n",
    "v <- 2L\n",
    "print(class(v))\n",
    "v <- 4+2i\n",
    "print(class(v))\n",
    "v <- \"multivariante\"\n",
    "print(class(v))\n",
    "v <- charToRaw(\"multivariante\")\n",
    "print(class(v))"
   ]
  },
  {
   "cell_type": "markdown",
   "metadata": {},
   "source": [
    "## Estructuras de datos\n",
    "\n",
    "R implementa las siguientes estructuras de datos\n",
    "\n",
    "- Vectores. Concatenación de datos del mismo tipo. Si los datos son de distinto tipo, R realiza una transformación automática.\n",
    "- Listas. Concatenaciones de datos de diferentes tipos, generalmente identificados con un nombre.\n",
    "- Matrices. Conjunto de datos 2-dimensional rectangular con datos del mismo tipo.\n",
    "- Arrays. Conjunto de datos n-dimensional.\n",
    "- Data frames. Objetos tabulares. Cada columna puede contener datos de un tipo diferente."
   ]
  },
  {
   "cell_type": "code",
   "execution_count": null,
   "metadata": {},
   "outputs": [],
   "source": [
    "vector <- c('v1', 'v2', 'v3')\n",
    "print(vector)\n",
    "lista <- list(c(1,2,3), 2+3i, \"multivariante\")\n",
    "print(lista)\n",
    "matriz <- matrix(c(1,2,3,4,5,6), nrow = 2, ncol = 3)\n",
    "print(matriz)\n",
    "array <- array(c('hola', 'adios'), dim=c(3,2,3))\n",
    "print(array)\n",
    "marco <- data.frame(\n",
    "    nombre = c(\"A\", \"B\", \"C\"),\n",
    "    peso = c(1,2,3),\n",
    "    cantidad = c(4,5,6)\n",
    ")\n",
    "print(marco)"
   ]
  },
  {
   "cell_type": "markdown",
   "metadata": {},
   "source": [
    "## Operadores\n",
    "\n",
    "R implementa los siguientes operadores, todos válidos para vectores\n",
    "\n",
    "### Aritméticos\n",
    "\n",
    "- ``+`` Suma\n",
    "- ``-`` Resta\n",
    "- ``*`` Producto\n",
    "- ``/`` División\n",
    "- ``%%`` Módulo\n",
    "- ``%/%`` División entera\n",
    "- ``^`` Potencia\n",
    "\n",
    "### Relacionales\n",
    "\n",
    "- ``<`` Menor que\n",
    "- ``>`` Mayor que\n",
    "- ``==`` Igualdad\n",
    "- ``<=`` Menor o igual\n",
    "- ``>=`` Mayor o igual\n",
    "- ``!=`` Diferente\n",
    "\n",
    "### Lógicos\n",
    "- ``&`` AND\n",
    "- ``|`` OR\n",
    "- ``!`` NOT\n",
    "- ``&&`` AND entre los primeros elementos de los vectores\n",
    "- ``||`` OR entre los primeros elementos de los vectores\n",
    "\n",
    "### Misceláneos\n",
    "- ``->``, ``<-``, ``=``, ``->>``, ``<<-`` Asignación\n",
    "- ``:`` Crea un vector con todos los valores entre los dados\n",
    "- ``%in%`` Identifica si un elemento está en un vector\n",
    "- ``%%*%%`` Multiplica una matriz con su traspuesta"
   ]
  },
  {
   "cell_type": "markdown",
   "metadata": {},
   "source": [
    "## Estructuras de decisión\n",
    "\n",
    "R implementa las siguientes estructuras de decisión\n",
    "\n",
    "- if \n",
    "- if..else\n",
    "- switch"
   ]
  },
  {
   "cell_type": "code",
   "execution_count": null,
   "metadata": {},
   "outputs": [],
   "source": [
    "if (3 > 2) {\n",
    "    print(\"3>2\")\n",
    "}\n",
    "if (2 > 3){\n",
    "    print(\"2>3\")\n",
    "}\n",
    "\n",
    "i = 4\n",
    "if(i > 5){\n",
    "    print(\"i>5\")\n",
    "} else {\n",
    "    print(\"i<5\")\n",
    "}\n",
    "\n",
    "x <- switch(2, \"a\", \"b\", \"c\")\n",
    "print(x)"
   ]
  },
  {
   "cell_type": "markdown",
   "metadata": {},
   "source": [
    "## Bucles\n",
    "\n",
    "R implementa los siguientes bucles\n",
    "\n",
    "- repeat\n",
    "- while\n",
    "- for"
   ]
  },
  {
   "cell_type": "code",
   "execution_count": null,
   "metadata": {},
   "outputs": [],
   "source": [
    "i = 0\n",
    "repeat{\n",
    "    i = i+1\n",
    "    if(i > 3){\n",
    "        break\n",
    "    }\n",
    "}\n",
    "print(i)\n",
    "\n",
    "i = 0\n",
    "while(i < 5){\n",
    "    i = i+1\n",
    "}\n",
    "print(i)\n",
    "\n",
    "v <- 1:4\n",
    "for (i in v){\n",
    "    v[i] = i+1\n",
    "}\n",
    "print(v)"
   ]
  },
  {
   "cell_type": "markdown",
   "metadata": {},
   "source": [
    "## Lectura de datos\n",
    "\n",
    "Podemos leer datos de multitud de bases de datos ofrecidas tanto en web, como que podamos tener en nuestro propio dispositivo.\n",
    "\n",
    "Existen multitud de funciones para leer los datos según el fichero de donde las queramos leer. Algunos ejemplos son:\n",
    "\n",
    "- ```read.csv``` o ```read.csv2```\n",
    "- ```read.delim``` \n",
    "- ```read.table``` \n",
    "\n",
    "Como ejemplo, vamos a usar ```read.table(fuente,separador)``` para leer una base de datos:"
   ]
  },
  {
   "cell_type": "code",
   "execution_count": null,
   "metadata": {},
   "outputs": [],
   "source": [
    "wine <- read.table(\"http://archive.ics.uci.edu/ml/machine-learning-databases/wine/wine.data\",sep=\",\")"
   ]
  },
  {
   "cell_type": "markdown",
   "metadata": {},
   "source": [
    "La base de datos que hemos leído contiene los datos de las concentraciones de 13 tipos de productos químicos en vinos fabricados en la misma región de *Italia*. El primer elemento es solo un identificador de la fábrica que puede tomar dos valores: 1 ó 3. Es por ello que podemos considerar que vamos a trabajar con un vector aleatorio $X = (X_2, \\dots, X_{14})$\n",
    "\n",
    "Podemos ver el contenido de esta base de datos escribiendo el nombre de la variable en la que la hemos guardado:"
   ]
  },
  {
   "cell_type": "code",
   "execution_count": null,
   "metadata": {},
   "outputs": [],
   "source": [
    "wine"
   ]
  },
  {
   "cell_type": "markdown",
   "metadata": {},
   "source": [
    "## Dibujando los datos\n",
    "\n",
    "Ahora, mostraremos una librería y ciertas funciones que nos permiten dibujar de diversas formas la muestra que hemos obtenido en los datos. \n",
    "\n",
    "Utilizaremos la librería ```car```, y dentro de ella la función ```scatterplotMatrix```. Hay que llamar a esta función utilizando la variable donde tenemos la base de datos y un rango, que nos indica el rango de variables que queremos mostrar. Por ejemplo, lo hacemos para las dos primeras variables:"
   ]
  },
  {
   "cell_type": "code",
   "execution_count": null,
   "metadata": {},
   "outputs": [],
   "source": [
    "library(\"car\")\n",
    "scatterplotMatrix(wine[2:3])\n"
   ]
  },
  {
   "cell_type": "markdown",
   "metadata": {},
   "source": [
    "# Cálculo usando los datos\n",
    "\n",
    "Una vez hemos obtenido los datos y los hemos representado para poder tener una visión de los mismos, pasamos a realizar cálculos con ellos. Utilizaremos la función ```sapply``` para aplicar una función sobre cada columna de nuestro *data frame*. Utilizaremos funciones pre-definidas en *R* para obtener información sobre nuestro conjunto de datos.\n",
    "\n",
    "## Media y desviación típica muestrales\n",
    "\n",
    "Calculamos primero la media muestral. La función que tiene *R* para hacerlo es ```mean()```. Usando esta función y la anteriormente mencionada, podemos calcular la media muestral da todas nuestras variables aleatorias. Lo haremos para el conjunto total de los datos, y luego hacemos una prueba en la que seleccionamos únicamente las muestras que han sido obtenidas en la *fábrica numero 1*"
   ]
  },
  {
   "cell_type": "code",
   "execution_count": null,
   "metadata": {
    "scrolled": false
   },
   "outputs": [],
   "source": [
    "print(\"Media muestral del conjunto completo\")\n",
    "sapply(wine[2:14],mean)\n",
    "selection1 <- wine[wine$V1 == \"1\",]\n",
    "selection3 <- wine[wine$V1 == \"3\",]\n",
    "print(\"Comparativa de medias muestrales de vinos en primera y tercera fábricas\")\n",
    "mean1 <- sapply(selection1[2:14],mean)\n",
    "mean2 <- sapply(selection3[2:14],mean)\n",
    "\n",
    "chemical <- c(2,3,4,5,6,7,8,9,10,11,12,13,14)\n",
    "plot(chemical,mean1,col = \"red\")\n",
    "points(chemical, mean2, col=\"blue\", pch=\"*\")\n",
    "legend(2,1000,legend=c(\"Medias en Fabrica 1\",\"Medias en Fabrica 2\"), col=c(\"red\",\"blue\"),\n",
    "                                   pch=c(\"o\",\"*\"))\n",
    "\n",
    "sapply(wine[2:14],sd)\n"
   ]
  },
  {
   "cell_type": "markdown",
   "metadata": {},
   "source": [
    "## Implementación en R"
   ]
  },
  {
   "cell_type": "markdown",
   "metadata": {},
   "source": [
    "## Diagramas de dispersión\n",
    "Vamos a ver como podemos representar diagramas de dispersión (*scatterplots*), de dos variables de $X$, que podrán ser muy útiles para ver mejor visualmente los datos, o para encontrar valores atípicos (*outliers*), puntos que son numéricamente distintos al resto.\n",
    "\n",
    "Por ejemplo tomemos de *USairpollution* las variables *popul* (nº de población del censo de 1970) y *manu* (empresas productoras con al menos 20 trabajadores), donde las representamos con `plot`:"
   ]
  },
  {
   "cell_type": "code",
   "execution_count": null,
   "metadata": {},
   "outputs": [],
   "source": [
    "plot(popul ~ manu, data = USairpollution)"
   ]
  },
  {
   "cell_type": "markdown",
   "metadata": {},
   "source": [
    "También podemos representar todas los scatterplots de todas las parejas posibles a la vez con `pairs`:"
   ]
  },
  {
   "cell_type": "code",
   "execution_count": null,
   "metadata": {},
   "outputs": [],
   "source": [
    "pairs(USairpollution, pch = \".\", cex = 1.5)"
   ]
  },
  {
   "cell_type": "markdown",
   "metadata": {},
   "source": [
    "Además podemos trazar las rectas de regresión (obteniéndolas con `lm`):"
   ]
  },
  {
   "cell_type": "code",
   "execution_count": null,
   "metadata": {},
   "outputs": [],
   "source": [
    "pairs(USairpollution,\n",
    "     panel = function(x, y, ...) {\n",
    "         points(x, y, ...)\n",
    "         abline(lm(y ~ x), col = \"grey\")\n",
    "     }, pch = \".\", cex = 1.5)"
   ]
  },
  {
   "cell_type": "markdown",
   "metadata": {},
   "source": [
    "## Estandarización de variables\n",
    "\n",
    "En muchas ocasiones, como cuando queremos comparar variables con distintas unidades o realizar un *análisis de componentes principales (PCA)*, necesitamos que nuestras variables tengan $\\mu = 0$ y $\\sigma = 1$.\n",
    "\n",
    "Para ello, utilizamos la función ```scale()``` que tenemos en *R*. \n",
    "\n",
    "*Nota.-* La función ```scale()``` no devuelve un objeto *dataframe* como los que hemos estado usando hasta ahora. Por tanto, tenemos que utilizar la función ```as.data.frame()``` para obtener un objeto de este tipo y poder trabajar con él como lo hacíamos antes.\n",
    "\n"
   ]
  },
  {
   "cell_type": "code",
   "execution_count": null,
   "metadata": {},
   "outputs": [],
   "source": [
    "standardised_wine <- as.data.frame(scale(wine[2:14]))\n",
    "standardised_wine"
   ]
  },
  {
   "cell_type": "markdown",
   "metadata": {},
   "source": [
    "Si nos fijamos en el contenido del *dataframe* ```wine``` que obtuvimos al principio, este posee algunos valores muy grandes en algunas variables. Podemos observarlo fácilmente en que algunos de los vectores de medias tienen valores superiores a $700$. Tratemos de aplicar ahora la media y la desviación típica a nuestro conjunto de datos estandarizado:"
   ]
  },
  {
   "cell_type": "code",
   "execution_count": null,
   "metadata": {},
   "outputs": [],
   "source": [
    "print(\"Medias estandarizadas\")\n",
    "sapply(standardised_wine,mean)\n",
    "print(\"Desviacion típica estandarizadas\")\n",
    "sapply(standardised_wine,sd)\n"
   ]
  },
  {
   "cell_type": "markdown",
   "metadata": {},
   "source": [
    "Vemos que para todas las variables, $\\mu_i \\sim 0$ y $\\sigma_i =1, \\ \\forall i = 2,\\dots,12$, con lo que nuestras variables quedaron estandarizadas."
   ]
  },
  {
   "cell_type": "markdown",
   "metadata": {},
   "source": [
    "# Implementaciones del temario EMV"
   ]
  },
  {
   "cell_type": "markdown",
   "metadata": {},
   "source": [
    "## Distribución Normal Multivariante"
   ]
  },
  {
   "cell_type": "markdown",
   "metadata": {},
   "source": [
    "Representamos una distribución normal multivariante de dimensión p mediante el vector de medias y la matriz de varianzas-covarianzas (incluiremos el p para que quede claro cual es la dimensión de la DNM).\n",
    "\n",
    "Veamos como definimos la clase DNM, con lo que ya hemos mencionado:"
   ]
  },
  {
   "cell_type": "code",
   "execution_count": null,
   "metadata": {},
   "outputs": [],
   "source": [
    "DNM <- setRefClass(\"DNM\", \n",
    "                   fields = list(p = \"numeric\", \n",
    "                                 media = \"matrix\", \n",
    "                                 cov = \"matrix\"))"
   ]
  },
  {
   "cell_type": "markdown",
   "metadata": {},
   "source": [
    "Necesitamos pasar la dimensión, el vector de medias y la matriz de varianzas-covarianzas; la dimensión es redundante pero así queda más claro visualmente. Se deja a responsabilidad del usuario que las dimensiones de la media y las covarianzas coincidan (y que la matriz de varianzas-covarianzas sea $>= 0$)\n",
    "\n",
    "**Nota**: p es de tipo `numeric` por lo cual puede aceptar reales, se ha hecho así porque si se pone de tipo `integer` se tienen que hacer casteos todo el rato con `integer()` por lo que es mejor dejarlo en `numeric`y se deja al usuario que no ponga otra cosa que no sean enteros."
   ]
  },
  {
   "cell_type": "markdown",
   "metadata": {},
   "source": [
    "Ejemplo de creacion de la DNM $\\pmb{X} = (X_1, X_2, X_3)^T \\sim N_3 \\begin{pmatrix} \\begin{pmatrix} 2 \\\\ 3 \\\\ -1 \\end{pmatrix}, && \\begin{pmatrix} 1 & 0 & 1 \\\\ 0 & 5 & -2 \\\\ 1 & -2 & 2 \\end{pmatrix} \\end{pmatrix} $"
   ]
  },
  {
   "cell_type": "code",
   "execution_count": null,
   "metadata": {},
   "outputs": [],
   "source": [
    "# Vector medias\n",
    "means <- matrix(c(2,3,-1), nrow = 3, ncol = 1)\n",
    "# Matriz covarianzas\n",
    "cov <- matrix(c(1, 0, 1, 0, 5, -2, 1, -2, 2), nrow = 3, ncol = 3)\n",
    "# Creamos la DNM\n",
    "X <- DNM$new(p = 3, media = means, cov = cov); X\n",
    "\n",
    "t(chol(X$cov)) %*% (chol(X$cov))"
   ]
  },
  {
   "cell_type": "markdown",
   "metadata": {},
   "source": [
    "### Función característica"
   ]
  },
  {
   "cell_type": "markdown",
   "metadata": {},
   "source": [
    "Implementamos la **función caracteristica** de la DNM $\\pmb{X} = (X_1, \\ldots, X_p)^T \\sim N_p(\\pmb{\\mu}, \\Sigma)$, dada por $$ \\Psi_{\\pmb{X}} (\\pmb{t}) = \\exp(i \\pmb{t}^T \\pmb{\\mu} - \\frac{1}{2} \\pmb{t}^T \\Sigma \\pmb{t}), \\; \\pmb{t} \\in \\mathbb{R}^p $$"
   ]
  },
  {
   "cell_type": "code",
   "execution_count": null,
   "metadata": {},
   "outputs": [],
   "source": [
    "# Pre: X es DNM, t es matriz\n",
    "funcion_caracteristica <- function(X, t) {\n",
    "    # Comprobación de rango\n",
    "    if (dim(t)[1] != X$p)\n",
    "        stop(\"Filas de t no coinciden con dimensión de X\")\n",
    "    if (dim(t)[2] != 1)\n",
    "        stop(\"t no es vector columna\")\n",
    "    # psi_X(t)\n",
    "    exp(as.complex(1i * t(t) %*% X$media - 0.5 * t(t) %*% X$cov %*% t))\n",
    "}"
   ]
  },
  {
   "cell_type": "markdown",
   "metadata": {},
   "source": [
    "Ejemplo con la $\\pmb{X}$ anterior y $\\pmb{t} = \\begin{pmatrix} 5 \\\\ 0 \\\\ 0 \\end{pmatrix}$:"
   ]
  },
  {
   "cell_type": "code",
   "execution_count": null,
   "metadata": {},
   "outputs": [],
   "source": [
    "t = matrix(c(5, 0, 0), nrow = 3, ncol = 1)\n",
    "psi_t <- funcion_caracteristica(X, t); psi_t"
   ]
  },
  {
   "cell_type": "markdown",
   "metadata": {},
   "source": [
    "### Función densidad"
   ]
  },
  {
   "cell_type": "markdown",
   "metadata": {},
   "source": [
    "Implementamos la **función densidad** de una DNM $\\pmb{X} = (X_1, \\ldots, X_n)^T \\sim N_p(\\pmb{\\mu}, \\Sigma)$, con $\\Sigma > 0$, que está definida para un \n",
    "\n",
    "$$f_{\\pmb{X}}(\\pmb{x}) = \\dfrac{1}{(2\\pi)^{p/2}|\\Sigma|^{1/2}} \\exp(-\\frac{1}{2}(\\pmb{x} - \\pmb{\\mu})^T\\Sigma^{-1}(\\pmb{x} - \\pmb{\\mu})), \\; \\pmb{x} \\in \\mathbb{R}^p $$"
   ]
  },
  {
   "cell_type": "code",
   "execution_count": null,
   "metadata": {},
   "outputs": [],
   "source": [
    "# Pre: X es DNM, x matriz\n",
    "funcion_densidad <- function(X, x) {\n",
    "    if (dim(x)[1] != X$p)\n",
    "        stop(\"Filas de x no coinciden con dimensión de X\")\n",
    "    if (dim(x)[2] != 1)\n",
    "        stop(\"x no es vector columna\")\n",
    "    if (det(X$cov) <= 0)\n",
    "        stop(\"Matriz de covarianzas no es definida positiva\")\n",
    "    # f_X(x)\n",
    "    exp(-0.5 * as.numeric(t(x - X$media) %*% solve(X$cov) %*% (x - X$media))) / ((2 * pi)^(X$p / 2) * sqrt(det(X$cov)))\n",
    "}"
   ]
  },
  {
   "cell_type": "markdown",
   "metadata": {},
   "source": [
    "Ejemplo con la $\\pmb{X}$ anterior y $\\pmb{x} = \\begin{pmatrix} 1 \\\\ 1 \\\\ 1 \\end{pmatrix}$:"
   ]
  },
  {
   "cell_type": "code",
   "execution_count": null,
   "metadata": {},
   "outputs": [],
   "source": [
    "x = matrix(c(1, 1, 1), nrow = 3, ncol = 1)\n",
    "f_x <- funcion_densidad(X,x); f_x"
   ]
  },
  {
   "cell_type": "markdown",
   "metadata": {},
   "source": [
    "### Transformación lineal"
   ]
  },
  {
   "cell_type": "markdown",
   "metadata": {},
   "source": [
    "Implementamos la **transformación lineal**, que necesita como argumentos una DNM $\\pmb{X} \\sim N_p(\\pmb{\\mu}, \\Sigma)$, una matriz $B \\in \\mathcal{M}_{qxp}$ ($q \\leq p$) y un vector $\\pmb{b} \\in \\mathbb{R}^q$. Entonces devuelve la DNM definida como $\\pmb{Y} = B \\pmb{X} + \\pmb{b}$, entonces $\\pmb{Y} \\sim N_q(B \\pmb{\\mu} + \\pmb{b}, B \\Sigma B^T)$, con $B\\Sigma B^T > 0$."
   ]
  },
  {
   "cell_type": "code",
   "execution_count": null,
   "metadata": {},
   "outputs": [],
   "source": [
    "# Pre: X es DNM; B, b matrices\n",
    "transformacion_lineal <- function(X, B, b) {\n",
    "    # Comprobaciones de rango\n",
    "    if (dim(B)[1] > dim(B)[2])\n",
    "        stop(\"Dimensión de B incorrecta (q > p)\")\n",
    "    if (dim(B)[2] != X$p)\n",
    "        stop(\"Columnas de B no coinciden con dimensión de X\")\n",
    "    if (dim(b)[1] != dim(B)[1])\n",
    "        stop(\"Filas de B no coinciden con dimensión de b\")\n",
    "    if (dim(b)[2] != 1)\n",
    "        stop(\"b no es un vector columna\")\n",
    "    # Nueva DNM\n",
    "    media_y = matrix(B %*% X$media + b, ncol = 1)\n",
    "    cov_y = matrix(B %*% X$cov %*% t(B), nrow = dim(B)[1])\n",
    "    DNM$new(p = dim(B)[1], media = media_y, cov = cov_y)\n",
    "}"
   ]
  },
  {
   "cell_type": "markdown",
   "metadata": {},
   "source": [
    "Ejemplo con la $\\pmb{X}$ anterior, $B = \\begin{pmatrix} 1 & 1 & 0 \\end{pmatrix}$, $b = \\begin{pmatrix} 0 \\end{pmatrix}$:"
   ]
  },
  {
   "cell_type": "code",
   "execution_count": null,
   "metadata": {},
   "outputs": [],
   "source": [
    "B = matrix(c(1, 1, 0), nrow = 1, ncol = 3)\n",
    "b = matrix(0, nrow = 1, ncol = 1)\n",
    "Y <- transformacion_lineal(X, B, b); Y"
   ]
  },
  {
   "cell_type": "markdown",
   "metadata": {},
   "source": [
    "### Marginalización"
   ]
  },
  {
   "cell_type": "markdown",
   "metadata": {},
   "source": [
    "Implementamos la **marginalización** de una DNM $\\pmb{X} = (X_1, \\ldots, X_p)^T \\sim N_p(\\pmb{\\mu}, \\Sigma)$, que consiste en tomar el subvector $\\pmb{X}_{\\pmb{r}} = (X_{r_1}, \\ldots, X_{r_q})^T$ con $\\pmb{r} = (r_1, \\ldots, r_q)^T, r_1, \\ldots, r_q \\in \\{1, \\ldots, q\\}, q \\leq p $; obteniendo $\\pmb{X}_{\\pmb{r}} \\sim N_q(\\pmb{\\mu_{\\pmb{r}}}, \\Sigma_{\\pmb{r}})$ donde:\n",
    "- $\\pmb{\\mu_{\\pmb{r}}}$ es el subvector de $\\pmb{\\mu}$ correspondiente a $\\pmb{r}$.\n",
    "- $\\Sigma_{\\pmb{r}}$ es la submatriz de $\\Sigma$ definida por las filas y columnas correspondientes a $\\pmb{r}$."
   ]
  },
  {
   "cell_type": "code",
   "execution_count": null,
   "metadata": {},
   "outputs": [],
   "source": [
    "# Pre: X es DNM, r es matriz\n",
    "marginalizar <- function(X, r) {\n",
    "    # Comprobar rangos\n",
    "    if (dim(r)[2] != 1)\n",
    "        stop(\"r no es vector columna.\")\n",
    "    if (dim(r)[1] > X$p)\n",
    "        stop(\"Filas de r más que dimensión de X\")\n",
    "    if (any(r < 1 || r > X$p))\n",
    "        stop(\"Algún r_i es < 1 ó > p\")\n",
    "    # mu_r\n",
    "    media_r <- matrix(X$media[r, ], ncol = 1)\n",
    "    # sigma_r\n",
    "    cov_r <- matrix(X$cov[r, r], nrow = dim(r)[1])\n",
    "    # X_r\n",
    "    DNM$new(p = dim(r)[1], media = media_r, cov = cov_r)\n",
    "}"
   ]
  },
  {
   "cell_type": "markdown",
   "metadata": {},
   "source": [
    "Ejemplo con la $\\pmb{X}$ anterior, y $\\pmb{r} = \\begin{pmatrix} 3 \\\\ 1 \\end{pmatrix}$:"
   ]
  },
  {
   "cell_type": "code",
   "execution_count": null,
   "metadata": {},
   "outputs": [],
   "source": [
    "r = matrix(c(3, 1), nrow = 2, ncol = 1);\n",
    "X_r <- marginalizar(X, r); X_r"
   ]
  },
  {
   "cell_type": "markdown",
   "metadata": {},
   "source": [
    "### Partición"
   ]
  },
  {
   "cell_type": "markdown",
   "metadata": {},
   "source": [
    "Dada una DNM $\\pmb{X} = (X_1, \\ldots, X_p)^T \\sim N_p(\\pmb{\\mu}, \\Sigma)$ con $p > 1$ y $\\Sigma > 0$ podemos realizar una partición de $\\pmb{X} = (\\pmb{X}_{(1)}^T, \\pmb{X}_{(2)}^T)^T$ con $\\pmb{\\mu} = (\\pmb{\\mu}_{(1)}^T,\\pmb{\\mu}_{(2)}^T)^T$ y $\\Sigma = \\begin{pmatrix} \\Sigma_{(11)} & \\Sigma_{(12)} \\\\ \\Sigma_{(21)} & \\Sigma_{(22)} \\end{pmatrix} $ de manera que $\\pmb{X}_{(1)} = (X_1, \\ldots, X_q)^T$, y $\\pmb{X}_{(2)} = (X_{q+1}, \\ldots, X_p)$ ($1 \\leq q < p$).\n",
    "\n",
    "Implementamos un método para devolver las **DNM basadas en las particiones independientes**, que son $\\pmb{X}_{(1)} \\sim N_q(\\pmb{\\mu}_{(1)}, \\Sigma_{(11)})$ y $\\pmb{X}_{(2)} - \\Sigma_{(21)}\\Sigma^{-1}_{(11)}\\Sigma_{(12)} \\sim N_{p-q}(\\pmb{\\mu}_{(2)} - \\Sigma_{(21)}\\Sigma_{(11)}^{-1}\\pmb{\\mu}_{(1)}, \\Sigma_{(22)} - \\Sigma_{(21)}\\Sigma_{(11)}^{-1} \\Sigma_{(12)}$"
   ]
  },
  {
   "cell_type": "code",
   "execution_count": null,
   "metadata": {},
   "outputs": [],
   "source": [
    "# Pre: X es DNM, q un entero\n",
    "particiones_independientes <- function(X, q) {\n",
    "    # Comprobaciones de rango\n",
    "    if (q < 1 || q >= X$p)\n",
    "        stop(\"q no puede ser < 1 ó >= p\")\n",
    "    if (det(X$cov) <= 0)\n",
    "        stop(\"Sigma no es definida positiva\")\n",
    "    # X_1\n",
    "    media_1 = matrix(X$media[1:q], ncol = 1)\n",
    "    cov_11 = matrix(X$cov[1:q,1:q], nrow = q)\n",
    "    X_1 <- DNM$new(p = q, media = media_1, cov = cov_11)\n",
    "    # X_2 - cov_21 * cov_11^-1 * cov_12\n",
    "    media_2 = matrix(X$media[(q+1):X$p], ncol = 1)\n",
    "    cov_22 = matrix(X$cov[(q+1):X$p, (q+1):X$p], nrow = X$p - q)\n",
    "    cov_12 = matrix(X$cov[1:q, (q+1):X$p], nrow = q)\n",
    "    cov_21 = matrix(X$cov[(q+1):X$p, 1:q], ncol = q)\n",
    "    X_2 <- DNM$new(p = X$p - q,\n",
    "                   media = media_2 - cov_21 %*% solve(cov_11) %*% media_1,\n",
    "                   cov = cov_22 - cov_21 %*% solve(cov_11) %*% cov_12)\n",
    "    # Devolvemos\n",
    "    c(X_1, X_2)\n",
    "}"
   ]
  },
  {
   "cell_type": "markdown",
   "metadata": {},
   "source": [
    "Ejemplo con la $\\pmb{X}$ anterior y $q = 2$:"
   ]
  },
  {
   "cell_type": "code",
   "execution_count": null,
   "metadata": {},
   "outputs": [],
   "source": [
    "particiones_independientes(X, 2)"
   ]
  },
  {
   "cell_type": "markdown",
   "metadata": {},
   "source": [
    "### Distribución condicionada"
   ]
  },
  {
   "cell_type": "markdown",
   "metadata": {},
   "source": [
    "En las condiciones del apartado anterior, tenemos que la **distribución condicionada** de $\\pmb{X}_{(2)}$ dado $\\pmb{X}_{(1)} = \\pmb{x}_{(1)}$ es una DNM con $\\pmb{X}_{(2)} \\sim N_{p-q}(\\pmb{\\mu}_{(2)}+\\Sigma_{(21)} \\Sigma_{(11)}^{-1}(\\pmb{x}_{(1)} - \\pmb{\\mu}_{(1)}), \\Sigma_{(22)} - \\Sigma_{(21)} \\Sigma_{(11)}^{-1}\\Sigma_{(12)})$.\n",
    "\n",
    "Alternativamente, la distribución condicionada de $\\pmb{X}_{(1)}$ dado $\\pmb{X}_{(2)} = \\pmb{x}_{(2)}$ es una DNM con $\\pmb{X}_{(1)} \\sim N_{q}(\\pmb{\\mu}_{(1)}+\\Sigma_{(12)} \\Sigma_{(22)}^{-1}(\\pmb{x}_{(2)} - \\pmb{\\mu}_{(2)}), \\Sigma_{(11)} - \\Sigma_{(12)} \\Sigma_{(22)}^{-1}\\Sigma_{(21)})$.\n",
    "\n",
    "El último parametro es un booleano, si es `TRUE` entonces hace la condicionada dado $\\pmb{x}_{(2)}$, en caso contrario la hace dado $\\pmb{x}_{(1)}$."
   ]
  },
  {
   "cell_type": "code",
   "execution_count": null,
   "metadata": {},
   "outputs": [],
   "source": [
    "# Pre: X es DNM, q es entero, x es matriz, dado_x2 es booleano\n",
    "particion_condicionada <- function(X, q, x, dado_x2) {\n",
    "    # Comprobaciones de rango\n",
    "    if (q < 1 || q >= X$p)\n",
    "        stop(\"q no puede ser < 1 ó >= p\")\n",
    "    if (dado_x2 && dim(x)[1] != (X$p - q))\n",
    "        stop(\"Filas de x_2 no coinciden con (p-q)\")\n",
    "    if (!dado_x2 && dim(x)[1] != (X$p - q))\n",
    "        stop(\"Filas de x_1 no coinciden con q\")\n",
    "    if (det(X$cov) <= 0)\n",
    "        stop(\"Sigma no es definida positiva\")\n",
    "    # Partición\n",
    "    media_1 = matrix(X$media[1:q], ncol = 1)\n",
    "    media_2 = matrix(X$media[(q+1):X$p], ncol = 1)\n",
    "    cov_11 = matrix(X$cov[1:q,1:q], nrow = q)\n",
    "    cov_22 = matrix(X$cov[(q+1):X$p, (q+1):X$p], nrow = X$p - q)\n",
    "    cov_12 = matrix(X$cov[1:q, (q+1):X$p], nrow = q)\n",
    "    cov_21 = matrix(X$cov[(q+1):X$p, 1:q], ncol = q)\n",
    "    # DNM condicionada\n",
    "    if (dado_x2) {\n",
    "        p_cond = q\n",
    "        media_cond = media_1 + cov_12 %*% solve(cov_22) %*% (x - media_2)\n",
    "        cov_cond = cov_11 - cov_12 %*% solve(cov_22) %*% cov_21\n",
    "    } else {\n",
    "        p_cond = X$p - q\n",
    "        media_cond = media_2 + cov_21 %*% solve(cov_11) %*% (x - media_1)\n",
    "        cov_cond = cov_22 - cov_21 %*% solve(cov_11) %*% cov_12\n",
    "    }\n",
    "    DNM$new(p = p_cond, media = media_cond, cov = cov_cond)\n",
    "}"
   ]
  },
  {
   "cell_type": "markdown",
   "metadata": {},
   "source": [
    "Ejemplo con la $\\pmb{X}$ anterior y $q = 2$, dado $x_{(2)} = \\begin{pmatrix} 1 \\end{pmatrix}$:"
   ]
  },
  {
   "cell_type": "code",
   "execution_count": null,
   "metadata": {},
   "outputs": [],
   "source": [
    "X_cond <- particion_condicionada(X, 2, matrix(1), TRUE); X_cond"
   ]
  },
  {
   "cell_type": "markdown",
   "metadata": {},
   "source": [
    "### Normalización"
   ]
  },
  {
   "cell_type": "markdown",
   "metadata": {},
   "source": [
    "Sea $\\pmb{X} \\sim N_p(\\pmb{\\mu}, \\Sigma)$ con $\\Sigma > 0$ devolvemos la matriz $A \\in M_{pxp}$ no singular tal que $A(\\pmb{X} - \\pmb{\\mu}) \\sim N_p(\\pmb{0}, I_{p})$ (lo conseguimos con la factorización de Cholesky)"
   ]
  },
  {
   "cell_type": "code",
   "execution_count": null,
   "metadata": {},
   "outputs": [],
   "source": [
    "matriz_normalizacion <- function(X) {\n",
    "    solve(t(chol(X$cov)))\n",
    "}"
   ]
  },
  {
   "cell_type": "markdown",
   "metadata": {},
   "source": [
    "Ejemplo con la $\\pmb{X}$ anterior:"
   ]
  },
  {
   "cell_type": "code",
   "execution_count": null,
   "metadata": {},
   "outputs": [],
   "source": [
    "A <- matriz_normalizacion(X)\n",
    "print(round(A %*% X$cov %*% t(A)))"
   ]
  },
  {
   "cell_type": "markdown",
   "metadata": {},
   "source": [
    "## Inferencia en la DNM"
   ]
  },
  {
   "cell_type": "markdown",
   "metadata": {},
   "source": [
    "Con $\\pmb{X} = (X_1, \\ldots, X_p)^T \\sim N_p(\\pmb{\\mu}, \\Sigma)$, $\\Sigma > 0$, consideramos una muestra aleatoria simple dada por $X = (\\pmb{X}_1^T, \\ldots, \\pmb{X}_N^T)^T$, donde N es el tamaño muestral; de manera que cada observación se representa con $\\pmb{X}_\\alpha, \\alpha \\in \\{1, \\ldots, N\\}$. \n",
    "\n",
    "Veremos como hacer inferencia sobre la DNM que determina $X$."
   ]
  },
  {
   "cell_type": "markdown",
   "metadata": {},
   "source": [
    "### Muestra aleatoria simple"
   ]
  },
  {
   "cell_type": "markdown",
   "metadata": {},
   "source": [
    "Dada $\\pmb{X} \\sim N_p(\\pmb{\\mu}, \\Sigma), \\Sigma > 0$, podemos generar una muestra aleatoria simple de $\\pmb{X}$ de tamaño $N$, mediante la siguiente función:"
   ]
  },
  {
   "cell_type": "code",
   "execution_count": null,
   "metadata": {},
   "outputs": [],
   "source": [
    "muestra_aleatoria <- function(N, media, cov) {\n",
    "    mvrnorm(N, media, cov)\n",
    "}\n",
    "\n",
    "muestra_aleatoria_EMV <- function(N, X) {\n",
    "    mvrnorm(N, X$media, X$cov)\n",
    "}"
   ]
  },
  {
   "cell_type": "markdown",
   "metadata": {},
   "source": [
    "Ejemplo de la m.a.s de tamaño 14 de la DNM $\\pmb{X} = (X_1, X_2, X_3)^T \\sim N_3 \\begin{pmatrix} \\begin{pmatrix} 2 \\\\ 3 \\\\ -1 \\end{pmatrix}, && \\begin{pmatrix} 1 & 0 & 1 \\\\ 0 & 1 & -0.5 \\\\ 1 & -0.5 & 2 \\end{pmatrix} \\end{pmatrix} $:"
   ]
  },
  {
   "cell_type": "code",
   "execution_count": null,
   "metadata": {},
   "outputs": [],
   "source": [
    "X_DNM <- DNM$new(p = 3, media = matrix(c(2,3,-1), ncol = 1), cov = matrix(c(1,0,1,0,1,-0.5,1,-0.5, 2), ncol = 3, nrow = 3))\n",
    "X <- muestra_aleatoria_EMV(20, X_DNM); X[1:10,]"
   ]
  },
  {
   "cell_type": "markdown",
   "metadata": {},
   "source": [
    "### Media muestral"
   ]
  },
  {
   "cell_type": "markdown",
   "metadata": {},
   "source": [
    "Para la media muestral $\\pmb{\\bar{X}} = \\frac{1}{N} \\sum^N_{\\alpha = 1} \\pmb{X}_\\alpha = \\begin{pmatrix} \\bar{X}_1 \\\\ \\vdots \\\\ \\bar{X}_p \\end{pmatrix}$ usamos `colMeans`(la media de cada variable/columna), además ya tenemos el estimador máximo verosímil puesto que $\\pmb{\\hat{\\mu}} = \\pmb{\\bar{X}}$."
   ]
  },
  {
   "cell_type": "code",
   "execution_count": null,
   "metadata": {},
   "outputs": [],
   "source": [
    "media_muestral <- function(X) {\n",
    "    matrix(colMeans(X), ncol = 1)\n",
    "}"
   ]
  },
  {
   "cell_type": "markdown",
   "metadata": {},
   "source": [
    "Ejemplo con $X$ anterior:"
   ]
  },
  {
   "cell_type": "code",
   "execution_count": null,
   "metadata": {},
   "outputs": [],
   "source": [
    "media_muestral(X)"
   ]
  },
  {
   "cell_type": "markdown",
   "metadata": {},
   "source": [
    "### Matriz dispersión muestral"
   ]
  },
  {
   "cell_type": "markdown",
   "metadata": {},
   "source": [
    "La matriz de dispersiones muestral $A = \\sum^N_{\\alpha = 1} (\\pmb{X}_\\alpha - \\pmb{\\bar{X}})(\\pmb{X}_\\alpha - \\pmb{\\bar{X}})^T$, usaremos `cov`:"
   ]
  },
  {
   "cell_type": "code",
   "execution_count": null,
   "metadata": {},
   "outputs": [],
   "source": [
    "disp_muestral <- function(X) {\n",
    "    cov(X) * (nrow(X) - 1)\n",
    "}"
   ]
  },
  {
   "cell_type": "markdown",
   "metadata": {},
   "source": [
    "Ejemplo con $X$ anterior:"
   ]
  },
  {
   "cell_type": "code",
   "execution_count": null,
   "metadata": {},
   "outputs": [],
   "source": [
    "disp_muestral(X)"
   ]
  },
  {
   "cell_type": "markdown",
   "metadata": {},
   "source": [
    "### Matrices sobre covarianzas/correlaciones"
   ]
  },
  {
   "cell_type": "markdown",
   "metadata": {},
   "source": [
    "Implementamos las siguientes matrices:\n",
    "\n",
    "- Matriz de covarianzas muestral: $S_N = \\frac{1}{N} A$\n",
    "- Matriz de cuasi-covarianzas muestral: $S_{N+1} = \\frac{1}{N-1} A $ (también llamada matriz de covarianzas muestral)\n",
    "- Matriz de correlaciones muestral: $R = D^{1/2}S_N D^{-1/2}$, donde $D$ es la diagonal de $S_N$\n",
    "\n",
    "**Nota**: sabemos además que $\\hat{\\Sigma} = S_N$, $T = S_{N+1}$ es estimador eficiente de $\\Sigma$, y $\\hat{p} = R$ (coeficientes de correlacion lineal de Pearson)."
   ]
  },
  {
   "cell_type": "code",
   "execution_count": null,
   "metadata": {},
   "outputs": [],
   "source": [
    "cov_muestral <- function(X) {\n",
    "    disp_muestral(X) / nrow(X)\n",
    "}\n",
    "\n",
    "cuasicov_muestral <- function(X) {\n",
    "    disp_muestral(X) / (nrow(X)-1)\n",
    "}\n",
    "\n",
    "cor_muestral <- function(X) {\n",
    "    cor(X)\n",
    "}"
   ]
  },
  {
   "cell_type": "markdown",
   "metadata": {},
   "source": [
    "Ejemplo con la $X$ anterior:"
   ]
  },
  {
   "cell_type": "code",
   "execution_count": null,
   "metadata": {},
   "outputs": [],
   "source": [
    "print(cov_muestral(X))\n",
    "print(cuasicov_muestral(X))\n",
    "print(cor_muestral(X))"
   ]
  },
  {
   "cell_type": "markdown",
   "metadata": {},
   "source": [
    "### Contraste sobre $\\pmb{\\mu}$"
   ]
  },
  {
   "cell_type": "markdown",
   "metadata": {},
   "source": [
    "Sobre $\\pmb{X} \\sim N_p(\\pmb{\\mu}, \\Sigma)$, $\\Sigma>0$ y $\\{\\pmb{X}_{\\alpha} : \\alpha = 1, \\ldots, N\\}$, con $N > p$ una m.a.s de $\\pmb{X}$ nos planteamos el problema de contrastre $$\\begin{cases} H_0 : \\pmb{\\mu} = \\pmb{\\mu}_0 \\\\ H_1: \\pmb{\\mu} \\neq \\pmb{\\mu}_0 \\end{cases}, \\pmb{\\mu}_0 \\in \\mathbb{R}^p \\text{ dado.} $$"
   ]
  },
  {
   "cell_type": "markdown",
   "metadata": {},
   "source": [
    "#### $\\Sigma$ conocida"
   ]
  },
  {
   "cell_type": "markdown",
   "metadata": {},
   "source": [
    "Para $\\Sigma$ conocida usaremos el estadístico de Wishart $W = N (\\pmb{\\bar{X}} - \\pmb{\\mu}_0)^T \\Sigma^{-1} (\\pmb{\\bar{X}} - \\pmb{\\mu}_0) $ sigue una $\\chi^2_p(\\delta)$ con $\\delta = N (\\pmb{\\mu} - \\pmb{\\mu}_0)^T \\Sigma^{-1} (\\pmb{\\mu} - \\pmb{\\mu}_0)$, y la función test para el problema es:\n",
    "\n",
    "$$ \\Phi(X) = \\begin{cases} 1 \\text{ si } W > \\chi^2_{p;\\alpha} \\\\ 0 \\text{ si } W \\leq \\chi^2_{p;\\alpha} \\end{cases}, $$\n",
    "\n",
    "donde $\\chi^2_{p;\\alpha}$ representa el valor de una distribución $\\chi^2_p$ que deja a su derecha una probabilidad $\\alpha$.\n",
    "\n",
    "En nuestro caso si no proporcionamos la probabilidad $\\alpha$ nos devolverá el p-value, que es la probabilidad que deja $W$ a su derecha."
   ]
  },
  {
   "cell_type": "code",
   "execution_count": null,
   "metadata": {},
   "outputs": [],
   "source": [
    "media_test_sigma <- function(X, media_0, cov, alpha = NA) {\n",
    "    if (!is.na(alpha) && (alpha > 1 || alpha < 0))\n",
    "        stop(\"Error, 0 <= alpha <= 1\")\n",
    "    N <- nrow(X)\n",
    "    p <- ncol(X)\n",
    "    media <- media_muestral(X)\n",
    "    W <- N * (t(media - media_0) %*% solve(cov) %*% (media - media_0))\n",
    "    p_value <- 1 - pchisq(W, p)\n",
    "    if (!is.na(alpha))\n",
    "        cat(\"\\nResultado del test: \", as.logical(p_value < alpha))\n",
    "    else\n",
    "        cat(\"\\np-value: \", p_value)\n",
    "}"
   ]
  },
  {
   "cell_type": "markdown",
   "metadata": {},
   "source": [
    "Probamos el test con el $X$ anterior, y vemos como el p-value se hace más grande (cuanto mayor valor más pequeño es W y por tanto tenemos menos significancia estadística de rechazar la hipótesis nula) conforme nos acercamos a la media muestral de $X$.\n",
    "\n",
    "En el caso de poner una media cualquiera con significancia $\\alpha = 0.05$, vemos que el test nos da TRUE (rechazamos hipótesis nula):"
   ]
  },
  {
   "cell_type": "code",
   "execution_count": null,
   "metadata": {},
   "outputs": [],
   "source": [
    "print(X_DNM$media)\n",
    "print(media_muestral(X))\n",
    "media_test_sigma(X, X_DNM$media, X_DNM$cov)\n",
    "media_test_sigma(X, media_muestral(X), X_DNM$cov)\n",
    "media_test_sigma(X, c(2.3, 3.2, -1.2), X_DNM$cov)\n",
    "media_test_sigma(X, X_DNM$media, X_DNM$cov, alpha = 0.05)"
   ]
  },
  {
   "cell_type": "markdown",
   "metadata": {},
   "source": [
    "#### $\\Sigma$ desconocida"
   ]
  },
  {
   "cell_type": "markdown",
   "metadata": {},
   "source": [
    "En el caso de que no sepamos quien es $\\Sigma$ usaremos el estadístico de $T^2$ de Hotelling, con $T^2 = N (\\pmb{\\bar{X}} - \\pmb{\\mu}_0)^T S_{N-1}^{-1} (\\pmb{\\bar{X}} - \\pmb{\\mu}_0)$, donde $\\dfrac{T^2}{N-1} \\dfrac{N-p}{p} \\sim F_{p;N-p}(\\delta)$ con $\\delta = N (\\pmb{\\mu} - \\pmb{\\mu}_0)^T \\Sigma^{-1} (\\pmb{\\mu} - \\pmb{\\mu}_0)$, y entonces la función test para el problema es:\n",
    "\n",
    "$$ \\Phi(X) = \\begin{cases} 1 \\text{ si } (N-p)T^2 > (N-1)pF_{p;N-p;\\alpha} \\\\ 0 \\text{ si } (N-p)T^2 \\leq (N-1)pF_{p;N-p;\\alpha} \\end{cases}, $$\n",
    "\n",
    "donde $F_{p;N-p;\\alpha}$ representa el valor de una distribución $F_{p;N-p}$ que deja a su derecha una probabilidad $\\alpha$."
   ]
  },
  {
   "cell_type": "code",
   "execution_count": 3,
   "metadata": {},
   "outputs": [],
   "source": [
    "media_test <- function(X, media_0, alpha = NA) {\n",
    "    if (!is.na(alpha) && (alpha > 1 || alpha < 0))\n",
    "        stop(\"Error, 0 <= alpha <= 1\")\n",
    "    N <- nrow(X)\n",
    "    p <- ncol(X)\n",
    "    media <- media_muestral(X)\n",
    "    S <- cuasicov_muestral(X)\n",
    "    T <- N * (t(media - media_0) %*% solve(S) %*% (media - media_0))\n",
    "    T_val <- T * (N - p) / (p * (N - 1))\n",
    "    p_value <- 1 - pf(T_val, p, N - p)\n",
    "    if (!is.na(alpha))\n",
    "        cat(\"\\nResultado del test: \", as.logical(p_value < alpha))\n",
    "    else\n",
    "        cat(\"\\np-value: \", p_value)\n",
    "}"
   ]
  },
  {
   "cell_type": "markdown",
   "metadata": {},
   "source": [
    "Probamos con los ejemplos anteriores, y vemos que obtenemos unos resultados parecidos:"
   ]
  },
  {
   "cell_type": "code",
   "execution_count": 4,
   "metadata": {},
   "outputs": [
    {
     "ename": "ERROR",
     "evalue": "Error in print(X_DNM$media): objeto 'X_DNM' no encontrado\n",
     "output_type": "error",
     "traceback": [
      "Error in print(X_DNM$media): objeto 'X_DNM' no encontrado\nTraceback:\n",
      "1. print(X_DNM$media)"
     ]
    }
   ],
   "source": [
    "print(X_DNM$media)\n",
    "print(media_muestral(X))\n",
    "media_test(X, X_DNM$media)\n",
    "media_test(X, media_muestral(X))\n",
    "media_test(X, c(2.1, 3.1, -1.2))\n",
    "media_test(X, c(3, 0, 0), alpha = 0.05)"
   ]
  },
  {
   "cell_type": "markdown",
   "metadata": {},
   "source": [
    "### Superficies de confianza"
   ]
  },
  {
   "cell_type": "markdown",
   "metadata": {},
   "source": [
    "#### $\\Sigma$ conocida"
   ]
  },
  {
   "cell_type": "markdown",
   "metadata": {},
   "source": [
    "Para formar las regiones de confianza para el vector de medias $\\pmb{\\mu}$ consideramos que:\n",
    "\n",
    "$$P[W \\leq  \\chi^2_{p;\\alpha}]= 1 - \\alpha,$$\n",
    "donde $W$ era el estadístico de Wishart definido en el test de contraste.\n",
    "\n",
    "Tenemos entonces que la región de confianza al $100(1 - \\alpha)\\%$ del vector de medias $\\pmb{\\mu}$ está definida por todos los $\\pmb{\\mu}_0 \\in \\mathbb{R}^p$ tales que cumplen:\n",
    "\n",
    "$$N (\\pmb{\\bar{X}} - \\pmb{\\mu}_0)^T \\Sigma^{-1}(\\pmb{\\bar{X}} - \\pmb{\\mu}_0) \\leq \\chi^2_{p;\\alpha}$$\n",
    "\n",
    "Para representarla visualmente, tomamos dos variables $X_i,X_j$ de $\\pmb{X}$ y representamos la región de confianza en $\\mathbb{R}^2$ para esas dos variables, que toma la forma de una elipse. Usando la matriz de covarianza $\\Sigma$ y el radio $\\sqrt{\\dfrac{1}{N} \\chi^2_{p;\\alpha}}$, la representamos."
   ]
  },
  {
   "cell_type": "code",
   "execution_count": null,
   "metadata": {},
   "outputs": [],
   "source": [
    "elipse_medias_sigma <- function(X, id, cov, alpha, col = \"black\", pch = 1, draw = FALSE) {\n",
    "    p <- ncol(X)\n",
    "    N <- nrow(X)\n",
    "    media <- media_muestral(X)\n",
    "    radio <- sqrt(qchisq(alpha,p) / N)\n",
    "    elipse <- ellipse(center = media[id], shape = cov[id,id], radius = radio, draw = FALSE, pch = pch, col = col)\n",
    "    if (!draw)\n",
    "        plot(elipse, pch = pch, col = col)\n",
    "    else\n",
    "        points(elipse, pch = pch, col = col)\n",
    "    points(matrix(media[id], ncol = 2), pch = 2, col = \"red\")\n",
    "}"
   ]
  },
  {
   "cell_type": "markdown",
   "metadata": {},
   "source": [
    "Veamos el ejemplo con $X$, trazando 3 regiones de confianza con $\\alpha \\in \\{0.99, 0.95, 0.90\\}$. Representamos todos los puntos de las variables $X_1$ y $X_3$, ponemos la media muestral con el triángulo rojo y la media de $\\pmb{X}$ con la cruz azul; finalmente representamos las 3 elipses de confianza."
   ]
  },
  {
   "cell_type": "code",
   "execution_count": null,
   "metadata": {},
   "outputs": [],
   "source": [
    "plot(X[, c(1,3)], xlab = \"1\", ylab = \"3\")\n",
    "elipse_medias_sigma (X, c(1,3), X_DNM$cov, 0.99, col = \"orange\", draw = TRUE)\n",
    "points(matrix(X_DNM$media[c(1,3)], ncol=2), pch = 1, col = \"blue\")\n",
    "elipse_medias_sigma (X, c(1,3), X_DNM$cov, 0.90, col = \"green\", pch = 1, draw = TRUE)\n",
    "elipse_medias_sigma (X, c(1,3), X_DNM$cov, 0.95, col = \"yellow\", pch = 1, draw = TRUE)\n",
    "legend(\"bottomright\", legend = c(\"0.99\", \"0.95\", \"0.90\"), pch = c(1, 1, 1), col = c(\"orange\", \"yellow\", \"green\"), cex = 2.0)"
   ]
  },
  {
   "cell_type": "markdown",
   "metadata": {},
   "source": [
    "#### $\\Sigma$ desconocida"
   ]
  },
  {
   "cell_type": "markdown",
   "metadata": {},
   "source": [
    "Para formar las regiones de confianza para el vector de medias $\\pmb{\\mu}$ consideramos que:\n",
    "\n",
    "$$P[T^2 \\leq \\dfrac{p(N-1)}{N-p} F_{p;N-p;\\alpha}]= 1 - \\alpha,$$\n",
    "donde $T^2$ era el estadístico de Hotelling definido en el test de contraste.\n",
    "\n",
    "Tenemos entonces que la región de confianza al $100(1 - \\alpha)\\%$ del vector de medias $\\pmb{\\mu}$ está definida por todos los $\\pmb{\\mu}_0 \\in \\mathbb{R}^p$ tales que cumplen:\n",
    "\n",
    "$$N (\\pmb{\\bar{X}} - \\pmb{\\mu}_0)^T S_{N-1}^{-1}(\\pmb{\\bar{X}} - \\pmb{\\mu}_0) \\leq \\dfrac{p(N-1)}{N-p} F_{p;N-p;\\alpha} $$\n",
    "\n",
    "Para representarla visualmente, tomamos dos variables $X_i,X_j$ de $\\pmb{X}$ y representamos la región de confianza en $\\mathbb{R}^2$ para esas dos variables, que toma la forma de una elipse. Usando la matriz de covarianza $S_{N-1}$ y el radio $\\sqrt{\\dfrac{p(N-1)}{N(N-p)} F_{p;N-p;\\alpha}}$, la representamos."
   ]
  },
  {
   "cell_type": "code",
   "execution_count": null,
   "metadata": {},
   "outputs": [],
   "source": [
    "elipse_medias <- function(X, id, alpha, col = \"black\", pch = 1, draw = FALSE) {\n",
    "    p <- ncol(X)\n",
    "    N <- nrow(X)\n",
    "    media <- media_muestral(X)\n",
    "    S <- cuasicov_muestral(X)\n",
    "    radio <- sqrt(p*(N-1)*qf(alpha,p,N-p)/(N*(N-p)))\n",
    "    elipse <- ellipse(center = media[id], shape = S[id,id], radius = radio, draw = FALSE, pch = pch, col = col)\n",
    "    if (!draw)\n",
    "        plot(elipse, pch = pch, col = col)\n",
    "    else\n",
    "        points(elipse, pch = pch, col = col)\n",
    "    points(matrix(media[id], ncol = 2), pch = 2, col = \"red\")\n",
    "}"
   ]
  },
  {
   "cell_type": "markdown",
   "metadata": {},
   "source": [
    "Veamos el ejemplo con $X$, trazando 3 regiones de confianza con $\\alpha \\in \\{0.99, 0.95, 0.90\\}$. Representamos todos los puntos de las variables $X_1$ y $X_3$, ponemos la media muestral con el triángulo rojo y la media de $\\pmb{X}$ con la cruz azul; finalmente representamos las 3 elipses de confianza."
   ]
  },
  {
   "cell_type": "code",
   "execution_count": null,
   "metadata": {},
   "outputs": [],
   "source": [
    "plot(X[, c(1,3)], xlab = \"1\", ylab = \"3\")\n",
    "elipse_medias(X, c(1,3), 0.99, col = \"orange\", draw = TRUE)\n",
    "points(matrix(X_DNM$media[c(1,3)], ncol=2), pch = 3, col = \"blue\")\n",
    "elipse_medias(X, c(1,3), 0.90, col = \"green\", pch = 10, draw = TRUE)\n",
    "elipse_medias(X, c(1,3), 0.95, col = \"yellow\", pch = 5, draw = TRUE)\n",
    "legend(\"bottomright\", legend = c(\"0.99\", \"0.95\", \"0.90\"), pch = c(1, 1, 1), col = c(\"orange\", \"yellow\", \"green\"), cex = 2.0)"
   ]
  },
  {
   "cell_type": "markdown",
   "metadata": {},
   "source": [
    "Comparando las dos gráficas podemos ver que si conocemos $\\Sigma$ entonces las regiones de confianza son más pequeñas (tenemos más información acerca donde se encuentra el vector de medias de $\\pmb{X}$)."
   ]
  },
  {
   "cell_type": "code",
   "execution_count": null,
   "metadata": {},
   "outputs": [],
   "source": []
  }
 ],
 "metadata": {
  "kernelspec": {
   "display_name": "R",
   "language": "R",
   "name": "ir"
  },
  "language_info": {
   "codemirror_mode": "r",
   "file_extension": ".r",
   "mimetype": "text/x-r-source",
   "name": "R",
   "pygments_lexer": "r",
   "version": "3.6.2"
  }
 },
 "nbformat": 4,
 "nbformat_minor": 2
}
